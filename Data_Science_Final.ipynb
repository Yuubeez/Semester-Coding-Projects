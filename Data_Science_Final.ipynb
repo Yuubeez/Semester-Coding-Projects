{
 "cells": [
  {
   "cell_type": "markdown",
   "id": "08042349-5d74-4c33-b8ea-42e08e6063f0",
   "metadata": {
    "jupyter": {
     "outputs_hidden": true
    },
    "tags": []
   },
   "source": [
    "## Section 1: Data and research questions\n",
    "This study was obtained from Hesselbach and Scheiner (2018) https://www.ncbi.nlm.nih.gov/pmc/articles/PMC5862975/\n",
    "\n",
    "The study was performed to see if exposure of a pesticide called Sivanto containing a chemical called flupyradifurone (Launched by a European company) affects the way forager honeybee's \n",
    "can taste and if it influences their cognition negatively. In order to perform this experiment, the authors of this paper gathered information on each bees daily: \n",
    "For each bee: They took information on what type of forager bee is was, the Bee ID, what time of the day tests and data were collected, the treatment they recieved, and how bees reacted to each specific test. \n",
    "\n",
    "<strong>Observations:</strong> The observations of this study is each bee. A total of 426 observations were taken and these observations were obtained from a colony located at Wurzburg University. Returning forager bees were caught in a glass jar at the entrance of the beehive. \n",
    "\n",
    "<strong>Features:</strong> The features of this study describes the information on what type of treatment a bee received at a specific time and day. There are 39 features. It describes what type of  treatment they received, what bee group they are in, how the bees performed due to a specified treatment, specified detail on each test such as dose concentration and the overall results of each test. Features were gathered by performing the tests and recording the performance of each bee. \n",
    "    \n",
    "This study specifically used a pesticide containing <strong>Flupyradifurone</strong> because it was found that another chemical called <strong><em>Neonicotinoids</em></strong> was restricted by the Eurpoean union because this chemical can bind to a <em>nicotinic acetylcholine receptor</em> (nAchR) in a honeybees brain. Flupyradifurone has an active ingredient that can similarly bind to this nAchR receptor in bees. Using this outside knowledge, they specifically wanted to test if this chemical can have an affect on the cognitive function and taste of bees since these functions are all controlled by the brain. \n",
    "        \n",
    "   >The data relates to the research question because they are testing to see if exposure to this chemical can cause foraging problems for honeybees. From observing the data that was \n",
    "        obtained, they can to see how flupyradifurone exposure based on concentration can affect their taste and cognitive functions. Using this data, they would be able to find out if this chemical\n",
    "        is safe to use without endangering the health of bees. \n",
    "            Another research question that can be asked using this data is would this chemical affect a specific group of forager bee more compared to the other? In this case does a pollen forager bee\n",
    "        have a better resistance to flupyradifurone compared to the nectar foragers? The data used in this study worked with forager honeybees, but they included two different classes of them, pollen \n",
    "        and nectar. We can use the data to compare and analyze the results of the tests between the two classes of bees to see if this chemical affects one group more than the other, or if one group\n",
    "        performs better than the other even with the same flupyradifurone exposure. \n",
    "    \n",
    "       "
   ]
  },
  {
   "cell_type": "markdown",
   "id": "2a17cd49-0b19-4a82-af07-be3c0909db4f",
   "metadata": {},
   "source": [
    "## Section 2: Visualizations and data summaries\n",
    "\n",
    "![image.png](https://cdn.discordapp.com/attachments/201133886175051777/1026945778188566538/unknown.png)\n",
    "### Figure 1: From Hesselbach and Scheiner(Figure 1.) 2019\n",
    "This figure shows the overall proboscis(taste) response of both pollen and nectar forager bees, when they were exposed to different concentrations of Flupyradifurone.\n",
    "\n",
    "In this figure, there are a total of 4 different graphs. There are two line graphs at the top and two box plots at the bottom. All the graphs to the left in figure 1 represent the results of the response \n",
    "test from Pollen foragers, and all the graphs to the right show the results of the tests from Nectar foragers. In both line graphs, they contain a y-axis that represents the percent amount of bees that \n",
    "responded to an external stimulus. Then in the X-axis it shows the sugar concentration in which the bees were exposed to. Each individual data point on the graph is showing the percentage of bees that \n",
    "responded to a sugar stimulus at a specific concentration. Each graph also has four different colored lines, with each line representing different treatment groups. The green dotted line represents the \n",
    "control group, the blue line, purple and red line are groups who were treated with Flupyradifurone(8.3*10^-6, 8.3*10^-5 and 8.3*10^-4 mol/l) respectively. \n",
    "\n",
    "In both box plots, they contained a y-axis called GRS, which is short for Gustatory Responsiveness, this represents the taste response of bees to sugar. On the x-axis it shows the amount of \n",
    "flupyradifurone(mol/l)that was exposed to the bees. Similar to the line graph, each color represents different groups of bees based on how much flupyradifurone they were exposed to. \n",
    "\n",
    "The authors Hesselbach and Scheiner included this figure in the study because it can show if exposure to high amounts of flupyradifurone can have a large impact on how bees detect sugar. The figure shows that the new pesticide Sivanto can have harmful properties to honeybees if the bees consumed too much of this pesticide. From this figure, we can conclude that the active ingredient in flupyradifurone can make bees react negatively and affect their sense of taste. However, small exposure of this chemical will not cause too much harm on the bees.\n",
    "\n",
    "![image.png](https://cdn.discordapp.com/attachments/201133886175051777/1026945508398338098/unknown.png)\n",
    "### Figure 2: From Hesselbach and Scheiner(Figure 2.) 2019\n",
    "The figure above shows the results of a conditioned proboscis and taste response, as well as the aquisition score.\n",
    "\n",
    "In this figure, similarly to the figure 1, it has two line graphs and two box plots. The graphs containing information on the Pollen foragers are located on the left side, whereas the Nectar foragers are located on the right. The line graphs at the top has a y-axis that shows the percent of bees that had a conditioned proboscis response, and it has an x-axis showing the trial number. Each individual data point represents the amount of bees that had a conditioned proboscis response to an external stimulus. Each color on the graph represents different treatment groups, with the green representing the control group. Then the blue, purple and red lines represents the groups who were treated with flupyradifurone(8.3*10^-6, 8.3*10^-5 and 8.3*10^-4 mol/l) respectively. \n",
    "\n",
    "The two box plots at the bottom contain a y-axis showing the aquisition score. This score is the sum of the conditioned response per bee during the conditioned trials. The x-axis shows the amount of flupyradifurone that was exposed to the bees. Just like the box plot in figure 1, each color on the graph represents different groups of bees based on the concentration of flupyradifurone(mol/l) they were exposed to. \n",
    "\n",
    "The authors included this figure in the study because it shows how well the bees cognitive response is. It contributes to the overall arguments of the paper because it can show if a large dose of flupyradifurone can affect how their memory works. From this figure, we can conclude that the bees who have been exposed to a high concentration of flupyradifurone have an impact on cognitive function. However, little exposure to this chemical will not affect their cognitive function drastically.\n",
    "\n",
    "### Another table I would create\n",
    "One other table I would include to help better understand this data is to create a table that can show the performance of each forager bee group (pollen or nectar forager) and how well they did for each test based on how much flupyradifurone they were exposed to. The index of the table would be the dose concentration of flupyradifurone. Then the first column would contain the type of forager bee it was. The next column after this one would contain the average GRS score obtained by the bees based on their exposure, then the next column would contain the average E-Score of bees. This can help us see the overall performace of the bees based on their exposure to the chemical, and it can also let us see if a certain bee group had a higher resistance to this chemical. This can help us determine if this chemical does indeed affect their cognitive abilites and taste."
   ]
  },
  {
   "cell_type": "markdown",
   "id": "6c162226-217c-4536-926c-6c2d58886d34",
   "metadata": {},
   "source": [
    "## Section 3: Describing Data\n",
    "There are 426 rows and 39 columns in the supplementry data contained in one of the tabs within the excel file for this study. The data within this file relates to the data in the paper because it shows results of each experiment that was performed in detail. For each bee, it contains the type of treatment they received and which foraging group they belonged into. With a deeper analysis of this data, it would be possible to see and compare how the effects of Flupyradifurone affects how well bees performed in terms of cognitive(memory) function and taste.\n",
    "\n",
    "For the column that was named \"Treatment Code\" there were delimiters such as a comma, to separate different conditional statements within each cell. \n"
   ]
  },
  {
   "cell_type": "markdown",
   "id": "6a9e2aaf-4746-4dbf-a88f-792795f95410",
   "metadata": {},
   "source": [
    "## Part 2: Clean and Describe Data"
   ]
  },
  {
   "cell_type": "markdown",
   "id": "f13d1230-ac49-4374-9b2f-08611f118c21",
   "metadata": {},
   "source": [
    "### Section 1: Load and Clean Data\n",
    "\n",
    "Data can be obtained from the original paper by Hesselbach and Scheiner (2018) https://www.ncbi.nlm.nih.gov/pmc/articles/PMC5862975/.\n",
    "\n",
    "Once the link has loaded, there is a section called **Associated Data** and right under it, there are two drop down options: **Supplementary Materials** and **Data Availability Statement**. Click on the **Supplementary Materials** drop down menu and there should be two excel files. Select **Supplementary Dataset 1** to download the excel file.\n",
    "\n",
    "Once the excel file is downloaded, the first page that you will see is called Supplementary Dataset with the title of the article and the author. There are 4 different tabs at the bottom of the excel sheet including the current one you are in. You should currently be in the tab called **Tabelle1** and there are three other tabs called **Data_Honeybees**, **Data_mortaility**, and **Data_preliminary_mortality**. We only want the data from **Data_Honeybees**. Please click on the **Data_Honeybees** tab and save it (A popup will show up when you try to save in the **Data_Honeybees** tab, please click \"OK\") as a csv file called forager_bee in the **downloads directory**. This will be the main directory we will be using to load in our data.\n",
    "\n",
    "There is a small change that needs to be made in order to make it easier to organize our data. There is a column called **ID** and we need to re-number the ID's in numerical order. \n",
    "\n",
    "The scientists of this paper decided to start with 1 everytime they started to take data at a different date or time. Each ID is used to represent a unique bee and due to the way they identified them, it can cause two different bee data to be mixed together due to them having the same ID even though they are two completely different bees. To make things less confusing we will be re-numbering them. "
   ]
  },
  {
   "cell_type": "markdown",
   "id": "25788999-82f1-42b8-8a19-2e1c9877e7d6",
   "metadata": {},
   "source": [
    "### **Important :** Make sure that the *forager_bee* file is saved in the **downloads** directory and your main directory is set as **Downloads**"
   ]
  },
  {
   "cell_type": "markdown",
   "id": "d27f877c-0e1a-4c97-9f90-6483843da47b",
   "metadata": {},
   "source": [
    "#### Coding/loading the data in JupyterLab"
   ]
  },
  {
   "cell_type": "code",
   "execution_count": 1,
   "id": "99572d07-b2d6-4c67-9b38-6a8583f8a8d0",
   "metadata": {},
   "outputs": [
    {
     "data": {
      "text/html": [
       "<div>\n",
       "<style scoped>\n",
       "    .dataframe tbody tr th:only-of-type {\n",
       "        vertical-align: middle;\n",
       "    }\n",
       "\n",
       "    .dataframe tbody tr th {\n",
       "        vertical-align: top;\n",
       "    }\n",
       "\n",
       "    .dataframe thead th {\n",
       "        text-align: right;\n",
       "    }\n",
       "</style>\n",
       "<table border=\"1\" class=\"dataframe\">\n",
       "  <thead>\n",
       "    <tr style=\"text-align: right;\">\n",
       "      <th></th>\n",
       "      <th>date</th>\n",
       "      <th>time</th>\n",
       "      <th>treatment</th>\n",
       "      <th>treatment code</th>\n",
       "      <th>group</th>\n",
       "      <th>H2O</th>\n",
       "      <th>0.1</th>\n",
       "      <th>0.3</th>\n",
       "      <th>1</th>\n",
       "      <th>3</th>\n",
       "      <th>...</th>\n",
       "      <th>E7: Nonanol</th>\n",
       "      <th>E8: Hexanol</th>\n",
       "      <th>E9: Hexanol</th>\n",
       "      <th>E10: Nonanol</th>\n",
       "      <th>E-Score</th>\n",
       "      <th>E-Score Hex.</th>\n",
       "      <th>E-Score Non.</th>\n",
       "      <th>Unnamed: 36</th>\n",
       "      <th>Unnamed: 37</th>\n",
       "      <th>Unnamed: 38</th>\n",
       "    </tr>\n",
       "    <tr>\n",
       "      <th>id</th>\n",
       "      <th></th>\n",
       "      <th></th>\n",
       "      <th></th>\n",
       "      <th></th>\n",
       "      <th></th>\n",
       "      <th></th>\n",
       "      <th></th>\n",
       "      <th></th>\n",
       "      <th></th>\n",
       "      <th></th>\n",
       "      <th></th>\n",
       "      <th></th>\n",
       "      <th></th>\n",
       "      <th></th>\n",
       "      <th></th>\n",
       "      <th></th>\n",
       "      <th></th>\n",
       "      <th></th>\n",
       "      <th></th>\n",
       "      <th></th>\n",
       "      <th></th>\n",
       "    </tr>\n",
       "  </thead>\n",
       "  <tbody>\n",
       "    <tr>\n",
       "      <th>1</th>\n",
       "      <td>6/6/2017</td>\n",
       "      <td>11.40 Uhr</td>\n",
       "      <td>K</td>\n",
       "      <td>0.0</td>\n",
       "      <td>2.0</td>\n",
       "      <td>0.0</td>\n",
       "      <td>0.0</td>\n",
       "      <td>0.0</td>\n",
       "      <td>0.0</td>\n",
       "      <td>1.0</td>\n",
       "      <td>...</td>\n",
       "      <td>NaN</td>\n",
       "      <td>NaN</td>\n",
       "      <td>NaN</td>\n",
       "      <td>NaN</td>\n",
       "      <td>NaN</td>\n",
       "      <td>NaN</td>\n",
       "      <td>NaN</td>\n",
       "      <td>NaN</td>\n",
       "      <td>NaN</td>\n",
       "      <td>NaN</td>\n",
       "    </tr>\n",
       "    <tr>\n",
       "      <th>2</th>\n",
       "      <td>6/6/2017</td>\n",
       "      <td>11.40 Uhr</td>\n",
       "      <td>B</td>\n",
       "      <td>1.0</td>\n",
       "      <td>2.0</td>\n",
       "      <td>0.0</td>\n",
       "      <td>0.0</td>\n",
       "      <td>0.0</td>\n",
       "      <td>0.0</td>\n",
       "      <td>0.0</td>\n",
       "      <td>...</td>\n",
       "      <td>0.0</td>\n",
       "      <td>0.0</td>\n",
       "      <td>0.0</td>\n",
       "      <td>0.0</td>\n",
       "      <td>0.0</td>\n",
       "      <td>0.0</td>\n",
       "      <td>0.0</td>\n",
       "      <td>NaN</td>\n",
       "      <td>NaN</td>\n",
       "      <td>NaN</td>\n",
       "    </tr>\n",
       "    <tr>\n",
       "      <th>3</th>\n",
       "      <td>6/6/2017</td>\n",
       "      <td>11.40 Uhr</td>\n",
       "      <td>C</td>\n",
       "      <td>2.0</td>\n",
       "      <td>2.0</td>\n",
       "      <td>0.0</td>\n",
       "      <td>0.0</td>\n",
       "      <td>0.0</td>\n",
       "      <td>0.0</td>\n",
       "      <td>0.0</td>\n",
       "      <td>...</td>\n",
       "      <td>0.0</td>\n",
       "      <td>1.0</td>\n",
       "      <td>1.0</td>\n",
       "      <td>0.0</td>\n",
       "      <td>7.0</td>\n",
       "      <td>5.0</td>\n",
       "      <td>2.0</td>\n",
       "      <td>NaN</td>\n",
       "      <td>NaN</td>\n",
       "      <td>NaN</td>\n",
       "    </tr>\n",
       "    <tr>\n",
       "      <th>4</th>\n",
       "      <td>6/6/2017</td>\n",
       "      <td>11.40 Uhr</td>\n",
       "      <td>K</td>\n",
       "      <td>0.0</td>\n",
       "      <td>2.0</td>\n",
       "      <td>0.0</td>\n",
       "      <td>0.0</td>\n",
       "      <td>0.0</td>\n",
       "      <td>1.0</td>\n",
       "      <td>1.0</td>\n",
       "      <td>...</td>\n",
       "      <td>NaN</td>\n",
       "      <td>NaN</td>\n",
       "      <td>NaN</td>\n",
       "      <td>NaN</td>\n",
       "      <td>NaN</td>\n",
       "      <td>NaN</td>\n",
       "      <td>NaN</td>\n",
       "      <td>NaN</td>\n",
       "      <td>NaN</td>\n",
       "      <td>NaN</td>\n",
       "    </tr>\n",
       "    <tr>\n",
       "      <th>5</th>\n",
       "      <td>6/6/2017</td>\n",
       "      <td>11.40 Uhr</td>\n",
       "      <td>D</td>\n",
       "      <td>3.0</td>\n",
       "      <td>2.0</td>\n",
       "      <td>0.0</td>\n",
       "      <td>0.0</td>\n",
       "      <td>0.0</td>\n",
       "      <td>0.0</td>\n",
       "      <td>0.0</td>\n",
       "      <td>...</td>\n",
       "      <td>NaN</td>\n",
       "      <td>NaN</td>\n",
       "      <td>NaN</td>\n",
       "      <td>NaN</td>\n",
       "      <td>NaN</td>\n",
       "      <td>NaN</td>\n",
       "      <td>NaN</td>\n",
       "      <td>NaN</td>\n",
       "      <td>NaN</td>\n",
       "      <td>NaN</td>\n",
       "    </tr>\n",
       "  </tbody>\n",
       "</table>\n",
       "<p>5 rows × 38 columns</p>\n",
       "</div>"
      ],
      "text/plain": [
       "        date       time treatment  treatment code  group  H2O  0.1  0.3    1  \\\n",
       "id                                                                             \n",
       "1   6/6/2017  11.40 Uhr         K             0.0    2.0  0.0  0.0  0.0  0.0   \n",
       "2   6/6/2017  11.40 Uhr         B             1.0    2.0  0.0  0.0  0.0  0.0   \n",
       "3   6/6/2017  11.40 Uhr         C             2.0    2.0  0.0  0.0  0.0  0.0   \n",
       "4   6/6/2017  11.40 Uhr         K             0.0    2.0  0.0  0.0  0.0  1.0   \n",
       "5   6/6/2017  11.40 Uhr         D             3.0    2.0  0.0  0.0  0.0  0.0   \n",
       "\n",
       "      3  ...  E7: Nonanol  E8: Hexanol  E9: Hexanol  E10: Nonanol  E-Score  \\\n",
       "id       ...                                                                 \n",
       "1   1.0  ...          NaN          NaN          NaN           NaN      NaN   \n",
       "2   0.0  ...          0.0          0.0          0.0           0.0      0.0   \n",
       "3   0.0  ...          0.0          1.0          1.0           0.0      7.0   \n",
       "4   1.0  ...          NaN          NaN          NaN           NaN      NaN   \n",
       "5   0.0  ...          NaN          NaN          NaN           NaN      NaN   \n",
       "\n",
       "    E-Score Hex.  E-Score Non.  Unnamed: 36  Unnamed: 37  Unnamed: 38  \n",
       "id                                                                     \n",
       "1            NaN           NaN          NaN          NaN          NaN  \n",
       "2            0.0           0.0          NaN          NaN          NaN  \n",
       "3            5.0           2.0          NaN          NaN          NaN  \n",
       "4            NaN           NaN          NaN          NaN          NaN  \n",
       "5            NaN           NaN          NaN          NaN          NaN  \n",
       "\n",
       "[5 rows x 38 columns]"
      ]
     },
     "execution_count": 1,
     "metadata": {},
     "output_type": "execute_result"
    }
   ],
   "source": [
    "# In this part of the code we import our panda package\n",
    "import pandas as pd\n",
    "# This part of the code we load in our forager_bee csv in from our DOWNLOADS directory. We then separate the csv file by comma delimiters and skip the \n",
    "# first 4 rows because we don't need the first four rows of information. We then store it into a variable called forager_bee\n",
    "forager_bee = pd.read_table(\"forager_bee.csv\", sep = \",\",skiprows = 4)\n",
    "# For this part of the code we remove rows in the dataframe that contain a null value in the ID. This new dataframe is stored into the forager_bee\n",
    "# variable once again\n",
    "forager_bee = forager_bee[~forager_bee['id'].isnull()]\n",
    "# create a new variable called count and set it to 1\n",
    "count = 1\n",
    "# create a empty list called id_list\n",
    "id_list = []\n",
    "# This part of the code creates a for loop that basically generates 426 values from 1-426 and stores it into our list called id_list\n",
    "for x in range(len(forager_bee)):\n",
    "    count = x + 1\n",
    "    id_list.append(count)\n",
    "# For this part of the code we assign our id column to now contain the new values we stored in our id_list. This new dataframe is stored into our\n",
    "# variable called forager_bee\n",
    "forager_bee = forager_bee.assign(id = id_list)\n",
    "# For this part of the code we drop the last column of the dataframe because it contains irrelevant information (just comments). This new information \n",
    "# is stored into our forager_bee variable to override the information stored previously\n",
    "forager_bee = forager_bee.iloc[:, :-1]\n",
    "# For this part of the code we set our id as the index\n",
    "forager_bee.set_index(\"id\", inplace = True)\n",
    "# For this part of the code we print out the first 5 rows of our dataframe\n",
    "forager_bee.head(5)"
   ]
  },
  {
   "cell_type": "markdown",
   "id": "6cc4a26a-03aa-410a-bd97-7cdbadc9d900",
   "metadata": {},
   "source": [
    "### Section 2: Describe data numerically"
   ]
  },
  {
   "cell_type": "markdown",
   "id": "95c06fe4-f31c-4d2d-b499-1fcd0c7255e4",
   "metadata": {},
   "source": [
    "#### Looking at the shape of the dataset"
   ]
  },
  {
   "cell_type": "code",
   "execution_count": 2,
   "id": "2e858f5f-e17f-4b2e-81d4-80e86dd86ddd",
   "metadata": {},
   "outputs": [
    {
     "data": {
      "text/plain": [
       "(426, 38)"
      ]
     },
     "execution_count": 2,
     "metadata": {},
     "output_type": "execute_result"
    }
   ],
   "source": [
    "forager_bee.shape"
   ]
  },
  {
   "cell_type": "markdown",
   "id": "b3d6768b-eb84-45f1-85d0-462784072c7a",
   "metadata": {},
   "source": [
    "To look at the shape of the dataset, we need to run the command **.shape** with the variable in which we stored our dataframe in called **forager_bee**. Shape is used to look at the dimensions of the dataframe (i.e how many different rows and columns there are).\n",
    "\n",
    "The output of the code relates to the number of observations and features because the number **426** shows how many bees were obtained for testing. Then the **38** relates to the information that was found and taken for each bee.\n",
    "\n",
    "The observations matches up with the same amount of observations mentioned in the first part of the project, however the columns is different because when we were cleaning the data, the last row was removed as we didn't need that column (so instead of 39 features we now have 38). It was not a column that was very important or contributed to the study."
   ]
  },
  {
   "cell_type": "markdown",
   "id": "d2441455-214b-4374-b1a4-e888038fec4e",
   "metadata": {},
   "source": [
    "#### Picking two features: GRS score and K-score"
   ]
  },
  {
   "cell_type": "markdown",
   "id": "baa941b7-8d41-4918-ab38-0f9493d00cad",
   "metadata": {},
   "source": [
    "**Feature 1: GRS Score - Experimental group 3**\n",
    "\n",
    "If the describe code was used I would expect to get numerical data showing the overall summary of that specific column such as how many observations (counts) there are in the column. For example this specific feature is used to describe the overall results of how well each bee performed for the \"taste\" test. More specifically for this column, I would like to look at how well the bees in experimental group 3 performed for this test. I expect the count to be the total amount of bees that were in this group, which is 105. Since treatment group 3 is exposed to the lowest concentration of this chemical, I believe the minimum value would be 0 and the maximum would be 7 since it is possible to score a 0 and a maximum of 7. This chemical exposure since it is little, should have little impact on bees, which is why I believe it would be possible to score a perfect score of 7. A score of 0 would be probable as well due to outliers. The describe function also has three different percentiles: 25%, 50% and 75%, this basically tries to split the data (based on the max and min values) into even parameters to let us know what percent of values from are dataset are below that number. Since we have a max of 7 (based on the maximum GRS score that a bee could score in this experimental group), splitting this number without decimals would be about 3 for 25%, 5 for 50% and 7 for 75%. For the mean of this data, I predict it to be around 4-5 based on the overall GRS score of the bees in experimental group 3. "
   ]
  },
  {
   "cell_type": "code",
   "execution_count": 3,
   "id": "d430a6ea-a3aa-4055-8a05-aef863579f10",
   "metadata": {},
   "outputs": [
    {
     "data": {
      "text/plain": [
       "count    105.000000\n",
       "mean       4.657143\n",
       "std        2.187502\n",
       "min        0.000000\n",
       "25%        3.000000\n",
       "50%        5.000000\n",
       "75%        7.000000\n",
       "max        7.000000\n",
       "Name: GRS, dtype: float64"
      ]
     },
     "execution_count": 3,
     "metadata": {},
     "output_type": "execute_result"
    }
   ],
   "source": [
    "count = forager_bee.loc[:,'treatment code'] ==  3.0\n",
    "GRS_df = forager_bee[count]\n",
    "GRS_df.loc[:,'GRS'].describe()"
   ]
  },
  {
   "cell_type": "markdown",
   "id": "a8746e47-0d9b-48cf-93c3-083e2cda5033",
   "metadata": {},
   "source": [
    "After running the results, my predictions for all three percentiles were not correct. The actual percentiles for the GRS column among experimental group 3 were 3 for 25%, 5 for 50% and 7 for 75%, which is exactly what I predicted. My predicted mean was about 4-5, and the actual mean was 4.65 , which means that my prediction was within range of the actual mean. Additionally, the min value was predicted correctly with a value of 0, and the maximum value was also predicted correctly with a value of 7."
   ]
  },
  {
   "cell_type": "markdown",
   "id": "1e9287e3-c79f-4194-a579-ca2b79519249",
   "metadata": {},
   "source": [
    "**Feature 2: E-Score - Experimental group 3**\n",
    "\n",
    "For this specific column, it describes how well the bees performed for the memory test (this is used to test for their cognitive abilities). I would expect the counts to be less compared to the observations, around 80. The reason why this number is lower and not the same number as the observations because some bees from the previous tests were dropped if they did not meet the requirements for this part of the study. For the mean I believe that it would be around 4 because I believe exposure to this chemical could affect their cognitive abilities, which would affect their E-Score, making the overall average low. I expect the minimum value to be 0 and the maximum to be 7 because there are always outliers and bees could always score a value of 0. Additionally I believe the maximum would be 7 because since they were exposed to the lowest dosage of the chemical, it shouldn't be possible to score a perfect score of 10 due to this exposure. However since it is the lowest dosage, their cognitive abilites should not be super affected, so they would still be able to score somewhat high. Then for the percentiles, I believe the 25% would be around 1, the 50% would be around 3 and the 75% would be around 6. These percentiles are based on the maximum and minimum value that I predicted the bees would score for experimental group 3."
   ]
  },
  {
   "cell_type": "code",
   "execution_count": 4,
   "id": "06fb9de3-2af4-4a90-8e7b-c912e07972a1",
   "metadata": {},
   "outputs": [
    {
     "data": {
      "text/plain": [
       "count    50.000000\n",
       "mean      3.160000\n",
       "std       2.636943\n",
       "min       0.000000\n",
       "25%       0.000000\n",
       "50%       3.000000\n",
       "75%       5.000000\n",
       "max      10.000000\n",
       "Name: E-Score, dtype: float64"
      ]
     },
     "execution_count": 4,
     "metadata": {},
     "output_type": "execute_result"
    }
   ],
   "source": [
    "count = forager_bee.loc[:,'treatment code'] ==  3.0\n",
    "E_df = forager_bee[count]\n",
    "E_df.loc[:,'E-Score'].describe()"
   ]
  },
  {
   "cell_type": "markdown",
   "id": "49a5b943-79e5-4770-9811-e9049d7553e4",
   "metadata": {},
   "source": [
    "After running the describe command on the E-Score column, my predicted count was different than the expected. I predicted a count to be around 80, but the actual count was 50 so I was 30 off the actual amount. The calculated mean was 3.16, which is 0.84 lower than my predicted value of 4. The minimum matched my predictions but my maximum was 3 off from the actual. As for the percentiles, I predicted the 25th and 75th percentiles incorrectly. The 25th percentile had a value of 0 and the 75th percentile had a value of 5. I was off by 1 for both the 25th and 75th percentile."
   ]
  },
  {
   "cell_type": "markdown",
   "id": "21ded8c5-6966-499a-80c7-923217f75d07",
   "metadata": {},
   "source": [
    "### Section 3: Basic Univariate Visualizations"
   ]
  },
  {
   "cell_type": "markdown",
   "id": "e3d5b544-f885-4546-b644-9e2398a912cf",
   "metadata": {},
   "source": [
    "#### GRS score"
   ]
  },
  {
   "cell_type": "markdown",
   "id": "9b7b16c3-7b58-438f-b8c7-f964d549e35e",
   "metadata": {},
   "source": [
    "For the GRS score, I believe using a histogram would be helpful to observe this data. I wanted to be able to see the distribution of the GRS score, and the best way to visualize this would be through a histogram. Using this visualization we would be able to interpret how the bees performed based on their exposure to the chemical. "
   ]
  },
  {
   "cell_type": "markdown",
   "id": "b3361f4d-5f68-4e14-9e68-3f3fb861b5ea",
   "metadata": {},
   "source": [
    "#### Coding and Explaination of Code"
   ]
  },
  {
   "cell_type": "code",
   "execution_count": 5,
   "id": "7b51ef17-7273-45cb-bd96-e1b8ff1a4d79",
   "metadata": {},
   "outputs": [
    {
     "data": {
      "text/plain": [
       "<seaborn.axisgrid.FacetGrid at 0x28be1ca9820>"
      ]
     },
     "execution_count": 5,
     "metadata": {},
     "output_type": "execute_result"
    },
    {
     "data": {
      "image/png": "[encoded data removed]",
      "text/plain": [
       "<Figure size 360x360 with 1 Axes>"
      ]
     },
     "metadata": {},
     "output_type": "display_data"
    }
   ],
   "source": [
    "# This part of the code imports our seaborn package as sns\n",
    "import seaborn as sns\n",
    "# This part of the code sets the theme so our graphs looks better\n",
    "sns.set_theme()\n",
    "# For this part of the code we locate the bees who had a treatment code of 3, creating a boolean. This is then stored in a variable called count\n",
    "count = forager_bee.loc[:,'treatment code'] ==  3.0\n",
    "# For this part of the code we index our count boolean back into our forager_bee dataframe so only the rows that met the requirements will show up. This\n",
    "# new dataframe is stored in a variable called GRS_df\n",
    "GRS_df = forager_bee[count]\n",
    "# For this part of the code we plot a histogram of the GRS score from our GRS_df\n",
    "sns.displot(x=\"GRS\", data=GRS_df)"
   ]
  },
  {
   "cell_type": "markdown",
   "id": "6cf0c47d-a586-41dd-8823-6c6c26b756fc",
   "metadata": {},
   "source": [
    "#### Interpreting the data"
   ]
  },
  {
   "cell_type": "markdown",
   "id": "05ae5eeb-7e3a-473a-b4d6-2598d0c41f88",
   "metadata": {},
   "source": [
    "When the histogram is compared to the describe function, we can see that the percentiles matches up to the distributions seen in the histogram. Based on the describe function, about 25% of the data is below 3, and if we take a look at the histogram, we can see that the 25th percentile is located around 3, the 50th percentile is located around 5 and the 75th is located around 7.\n",
    "\n",
    "Based on the histogram, the minimum value is 0 and the maxiumum is 7, which matches with the min/max values from the describe function based on the GRS data.\n",
    "\n",
    "The mean of the graph seems to be between 4-5 with the majority of data around 4-5. The mean being 4.65 based on the describe function can be reasonable since most of the data is around 4-5.\n",
    "\n",
    "The graph relates to the hypothesis of the paper because we can see that most bees who have been exposed to this chemical had scores that lingered between 4-5. It shows that this chemical may have an affect on bees in terms of their taste response as a good amount of bees had scores below 7."
   ]
  },
  {
   "cell_type": "markdown",
   "id": "7f3ad63e-dbc2-432a-98ff-7df4712a3fda",
   "metadata": {},
   "source": [
    "#### E-Score"
   ]
  },
  {
   "cell_type": "markdown",
   "id": "b1293e2e-4347-493a-8e04-d8c76455d1dd",
   "metadata": {},
   "source": [
    "For the E-Score, I also thought it would be good to use a histogram here to see the distribution of the data for bees who had been exposed to Flupyradifurone. Using this data we would be able to see how well the bees had performed after mild exposure to Flupyradifurone in terms of their cognitive function."
   ]
  },
  {
   "cell_type": "markdown",
   "id": "7e7635db-9057-496d-a840-2553f570f4ff",
   "metadata": {},
   "source": [
    "#### Coding and Explaination of Code"
   ]
  },
  {
   "cell_type": "code",
   "execution_count": 6,
   "id": "3d63ef53-afd9-4358-a5ec-3d4826f8b415",
   "metadata": {},
   "outputs": [
    {
     "data": {
      "text/plain": [
       "<seaborn.axisgrid.FacetGrid at 0x28bdcbf9400>"
      ]
     },
     "execution_count": 6,
     "metadata": {},
     "output_type": "execute_result"
    },
    {
     "data": {
      "image/png": "[encoded data removed]",
      "text/plain": [
       "<Figure size 360x360 with 1 Axes>"
      ]
     },
     "metadata": {},
     "output_type": "display_data"
    }
   ],
   "source": [
    "# This part of the code imports our seaborn package as sns\n",
    "import seaborn as sns\n",
    "# This part of the code sets the theme so our graphs looks better\n",
    "sns.set_theme()\n",
    "# For this part of the code we locate the bees who had a treatment code of 3, creating a boolean. This is then stored in a variable called count\n",
    "count = forager_bee.loc[:,'treatment code'] ==  3.0\n",
    "# For this part of the code we index our count boolean back into our forager_bee dataframe so only the rows that met the requirements will show up. This\n",
    "# new dataframe is stored in a variable called E_df\n",
    "E_df = forager_bee[count]\n",
    "# This part of the code plots a histogram of our E-Score\n",
    "sns.displot(x=\"E-Score\", data=E_df)"
   ]
  },
  {
   "cell_type": "markdown",
   "id": "bd2a02cc-9091-4e65-b556-15924af66c33",
   "metadata": {},
   "source": [
    "#### Interpreting the data"
   ]
  },
  {
   "cell_type": "markdown",
   "id": "22669d82-907e-4459-aaa5-38bcef0977ec",
   "metadata": {},
   "source": [
    "When comparing the histogram to the describe function, the percentiles matches up between the two. Based on the histogram the 25th percentile is 0, the 50th percentile is around 3 and the 75th percentile is at 5. When we look at the output from the describe function, the values match up. \n",
    "\n",
    "It is hard to actually see where the mean is, but we can safely assume that the mean is between 0 - 4 based on the histogram because the majority of the data is located between 0 - 4. When we look at the mean we can see that the value is 3.16, which is indeed between 0 - 4.\n",
    "\n",
    "We can also see from the histogram that the maximum value is 10 and the minimum is 0. This information matches with the max and min values obtained from the describe command.\n",
    "\n",
    "This histogram relates to the hypothesis from the paper because for the E-Score test, the maximum value that can be obtained is 10. Obtaining a 10 means that the bee had good memory to recognize which scent was associated with sugar. However in this case, most of our data is between 0 - 5, which means that the majority of bees had a score between 0 - 5. This shows that the cognitive function of bees were affected because as we can see, more than half the count of bees had scores below 5. A low score means that they were not able to remember which scent was associated with sugar and showed no response when exposed to those scents. This shows that exposure to Flupyradifurone can have an affect on the cognitive function of bees as the distribution of the bees E-score was on the lower end."
   ]
  },
  {
   "cell_type": "markdown",
   "id": "392260ce-0514-4bef-976a-18c25d75a5a5",
   "metadata": {},
   "source": [
    "## Part 3: Model Data"
   ]
  },
  {
   "cell_type": "markdown",
   "id": "9a96389b-26e4-4c2c-9a8c-3f7c60c860d7",
   "metadata": {},
   "source": [
    "### **Question 1:** Were the cognitive function of forager bees affected with a higher exposure to flupyradifurone?"
   ]
  },
  {
   "cell_type": "markdown",
   "id": "6c7b481e-3655-4976-82c3-38176c62c51f",
   "metadata": {},
   "source": [
    "This question is an interesting concept because it can help determine if this specific pestide is safe to use, and at what exposure level causes it to be harmful towards bees. \n",
    "\n",
    "**Hypothesis**: As the dose concentration of flupyradifurone increases, the cognitive function will be affected more. In other words as the dose concentration increases, the bee's cognitive abilities would decrease.\n",
    "\n",
    "This question relates to the research question because they are trying to determine if this chemical has a harmful affect on bees in order to determine if this chemical is safe to use. One of the effects they were studying was if this chemical affected the bee's cognitive function, and to what degree of exposure to this chemical was safe enough that the bees could still function properly. \n",
    "\n",
    "This data is appropriate to answer this question because we had different groups of bees that were exposed to different concentrations of flupyradifurone. There is also data on the performance of each bee and how well they performed overall for the cognitive function test based on what concentration of flupyradifurone they were exposed to.\n",
    "\n",
    "For the purpose of this question the features I will be using will be the different groups of categorized bees based on their exposure to flupyradifurone (this is marked as the treatment code column in the dataframe), and I will also be using the E-score column. For each group there will be different amount of observations. Treatment code 1 will have 105 observations, treatment code 2 will have 104 observations and treatment code 3 will have 117 observations.\n",
    "\n",
    "<u>**Classification of the different treatment codes:**</u>\n",
    "\n",
    "**Treatment Code 1** = 8.3 * 10-6 (Lowest dose of Flupyradifurone)\n",
    "\n",
    "**Treatment Code 2** = 8.3 * 10-5 (Medium dose of Flupyradifurone)\n",
    "\n",
    "**Treatment Code 3** = 8.3 * 10-4 (Highest dose of Flupyradifurone) \n"
   ]
  },
  {
   "cell_type": "markdown",
   "id": "8f5cc8d1-c7d7-4251-8339-114ac3ff164d",
   "metadata": {},
   "source": [
    "### Visualization"
   ]
  },
  {
   "cell_type": "markdown",
   "id": "00042b1e-ac95-4841-8262-7c80579bc8af",
   "metadata": {},
   "source": [
    "For the purpose of this question I will be using a line plot because it can show a continuous change based on what treatment groups the bees are in. In this case we want to see what would happen to the overall E-score of the bees if their exposure to flupyradifurone increased, and a line plot will be able to show what an increased dose would do to the bees. Line plots can give us an overall insight on how the bees performed by looking at the average performance of each treatment group as the dose concentration increased. This would be able to give me an overall insight on the E-Score of bees based on their exposure to flupyradifurone (exposure to flupyradifurone is based on different treatment groups). As mentioned earlier, this visualization (line graph) would be able to give me a good overview of the data since I only want to look at the overall performance (performance meaning how well they scored) of each treatment group. Based on this graph, I expect to see a negative correlation between E-score and flupyradifurone exposure. The results of this graph will be able to address my hypothesis as we will be able to see if an increased dose really does affect the E-score (cognitive abilities) of bees. Lower E-score means that the bee's cognitive abilities are more affected, while a higher E-score shows that the bee's cognitive function was not as affected."
   ]
  },
  {
   "cell_type": "code",
   "execution_count": 7,
   "id": "9e9d6ee4-0036-4e4d-b114-a66bda1cb0a3",
   "metadata": {},
   "outputs": [
    {
     "data": {
      "text/plain": [
       "<AxesSubplot:xlabel='treatment_code'>"
      ]
     },
     "execution_count": 7,
     "metadata": {},
     "output_type": "execute_result"
    },
    {
     "data": {
      "image/png": "[encoded data removed]",
      "text/plain": [
       "<Figure size 432x288 with 1 Axes>"
      ]
     },
     "metadata": {},
     "output_type": "display_data"
    }
   ],
   "source": [
    "# This part of the code looks into the treatment code column and finds out which row does not equal to 0. We then boolean index it back into our \n",
    "# dataframe forager_bee to only grab the rows that do not have 0 in treatment code\n",
    "forager_bee_no0 = forager_bee[forager_bee.loc[:,'treatment code'] != 0]\n",
    "# This part of the code groups by treatment code, the finds the mean of all features for each group. This is stored into a variable called group_bee\n",
    "group_bee = forager_bee_no0.groupby('treatment code').mean()\n",
    "# # This part of the code resets the index of our group_bee dataframe so we can access our treatment code column, this new dataframe is stored into a \n",
    "# # variable called reset_bee\n",
    "reset_bee = group_bee.reset_index()\n",
    "# This part of the code locates the column treatment code and stores it in a variable called new_codes\n",
    "new_codes = reset_bee.loc[:,\"treatment code\"] \n",
    "# This part of the code creates a list called new_code_list\n",
    "new_code_list = []\n",
    "# This part of the code creates a for loop, that looks at the treatment code list and re-assigns the treatment codes so that the lowest treatment is\n",
    "# assigned as 1, the medium treatment is assigned as 2 and the highest exposure treatment is assigned to 3. These new values are appended into the\n",
    "# new_code_list.\n",
    "for i in new_codes:\n",
    "    if i == 1.0:\n",
    "        new_code_list.append(3)\n",
    "    elif i == 2.0:\n",
    "        new_code_list.append(2)\n",
    "    else:\n",
    "        new_code_list.append(1)\n",
    "# This part of the code adds this newly re-organized treatment code values into the reset_bee dataframe as treatment_code\n",
    "reset_bee = reset_bee.assign(treatment_code = new_code_list)\n",
    "# # This part of the code creates a line graph, showing the E-score of bees based on their exposure to flupyradifurone\n",
    "reset_bee.plot.line(x = 'treatment_code', y = 'E-Score')"
   ]
  },
  {
   "cell_type": "markdown",
   "id": "03a55e04-a5ef-4a47-8d1d-ff88e236ec03",
   "metadata": {},
   "source": [
    "Based on the visualization, I would be able to assess my hypothesis because we can see how the bees performed based on their treatment groups. From looking at the visualization I can conclude that there appears to be a relationship between treatment code (also known as different exposure groups) and how well the bees performed in terms of their E-Score. It appears that as the dose concentration increased, their E-score also decreased, signaling a negative relationship between these two variables. "
   ]
  },
  {
   "cell_type": "markdown",
   "id": "77347fde-ca73-456d-b5dd-f16d07d8984d",
   "metadata": {},
   "source": [
    "### Model"
   ]
  },
  {
   "cell_type": "markdown",
   "id": "2e3e57a0-29ef-426c-a86e-1c4bc4b36c0f",
   "metadata": {},
   "source": [
    "For my model I will be using the feature treatment code (or also known as flupyradifurone exposure), and I will also be using the E-score. These features will be important for my model because I want to test to confirm if there is indeed a relationship between these two features.\n",
    "\n",
    "There are no other features that are used in the model besides the ones stated above.\n",
    "\n",
    "For the purpose of this question, I will be using a linear model because linear models can show if the E-score of bees depend on the exposure they had to flupyradifurone. This model will be able to show if this chemical has a bad effect on bees in terms of their cognitive function. A bad effect in this case is if the brain function of bees are greatly affected. In other words, if the brain function of bees decreased. Based on my visualization, I expect my slope to be around 1.2 (using the manual rise over run method) and my intercept to be around 0.4."
   ]
  },
  {
   "cell_type": "code",
   "execution_count": 8,
   "id": "276a9a6b-1e63-4045-a498-2109275bb714",
   "metadata": {},
   "outputs": [
    {
     "data": {
      "text/html": [
       "<table class=\"simpletable\">\n",
       "<caption>OLS Regression Results</caption>\n",
       "<tr>\n",
       "  <th>Dep. Variable:</th>         <td>E-Score</td>     <th>  R-squared:         </th> <td>   0.104</td>\n",
       "</tr>\n",
       "<tr>\n",
       "  <th>Model:</th>                   <td>OLS</td>       <th>  Adj. R-squared:    </th> <td>   0.099</td>\n",
       "</tr>\n",
       "<tr>\n",
       "  <th>Method:</th>             <td>Least Squares</td>  <th>  F-statistic:       </th> <td>   17.94</td>\n",
       "</tr>\n",
       "<tr>\n",
       "  <th>Date:</th>             <td>Sat, 10 Dec 2022</td> <th>  Prob (F-statistic):</th> <td>3.91e-05</td>\n",
       "</tr>\n",
       "<tr>\n",
       "  <th>Time:</th>                 <td>15:44:27</td>     <th>  Log-Likelihood:    </th> <td> -358.08</td>\n",
       "</tr>\n",
       "<tr>\n",
       "  <th>No. Observations:</th>      <td>   156</td>      <th>  AIC:               </th> <td>   720.2</td>\n",
       "</tr>\n",
       "<tr>\n",
       "  <th>Df Residuals:</th>          <td>   154</td>      <th>  BIC:               </th> <td>   726.3</td>\n",
       "</tr>\n",
       "<tr>\n",
       "  <th>Df Model:</th>              <td>     1</td>      <th>                     </th>     <td> </td>   \n",
       "</tr>\n",
       "<tr>\n",
       "  <th>Covariance Type:</th>      <td>nonrobust</td>    <th>                     </th>     <td> </td>   \n",
       "</tr>\n",
       "</table>\n",
       "<table class=\"simpletable\">\n",
       "<tr>\n",
       "         <td></td>           <th>coef</th>     <th>std err</th>      <th>t</th>      <th>P>|t|</th>  <th>[0.025</th>    <th>0.975]</th>  \n",
       "</tr>\n",
       "<tr>\n",
       "  <th>treatment_code</th> <td>   -1.0401</td> <td>    0.246</td> <td>   -4.235</td> <td> 0.000</td> <td>   -1.525</td> <td>   -0.555</td>\n",
       "</tr>\n",
       "<tr>\n",
       "  <th>const</th>          <td>    4.4512</td> <td>    0.524</td> <td>    8.502</td> <td> 0.000</td> <td>    3.417</td> <td>    5.485</td>\n",
       "</tr>\n",
       "</table>\n",
       "<table class=\"simpletable\">\n",
       "<tr>\n",
       "  <th>Omnibus:</th>       <td>10.033</td> <th>  Durbin-Watson:     </th> <td>   1.757</td>\n",
       "</tr>\n",
       "<tr>\n",
       "  <th>Prob(Omnibus):</th> <td> 0.007</td> <th>  Jarque-Bera (JB):  </th> <td>  10.808</td>\n",
       "</tr>\n",
       "<tr>\n",
       "  <th>Skew:</th>          <td> 0.642</td> <th>  Prob(JB):          </th> <td> 0.00450</td>\n",
       "</tr>\n",
       "<tr>\n",
       "  <th>Kurtosis:</th>      <td> 2.890</td> <th>  Cond. No.          </th> <td>    6.89</td>\n",
       "</tr>\n",
       "</table><br/><br/>Notes:<br/>[1] Standard Errors assume that the covariance matrix of the errors is correctly specified."
      ],
      "text/plain": [
       "<class 'statsmodels.iolib.summary.Summary'>\n",
       "\"\"\"\n",
       "                            OLS Regression Results                            \n",
       "==============================================================================\n",
       "Dep. Variable:                E-Score   R-squared:                       0.104\n",
       "Model:                            OLS   Adj. R-squared:                  0.099\n",
       "Method:                 Least Squares   F-statistic:                     17.94\n",
       "Date:                Sat, 10 Dec 2022   Prob (F-statistic):           3.91e-05\n",
       "Time:                        15:44:27   Log-Likelihood:                -358.08\n",
       "No. Observations:                 156   AIC:                             720.2\n",
       "Df Residuals:                     154   BIC:                             726.3\n",
       "Df Model:                           1                                         \n",
       "Covariance Type:            nonrobust                                         \n",
       "==================================================================================\n",
       "                     coef    std err          t      P>|t|      [0.025      0.975]\n",
       "----------------------------------------------------------------------------------\n",
       "treatment_code    -1.0401      0.246     -4.235      0.000      -1.525      -0.555\n",
       "const              4.4512      0.524      8.502      0.000       3.417       5.485\n",
       "==============================================================================\n",
       "Omnibus:                       10.033   Durbin-Watson:                   1.757\n",
       "Prob(Omnibus):                  0.007   Jarque-Bera (JB):               10.808\n",
       "Skew:                           0.642   Prob(JB):                      0.00450\n",
       "Kurtosis:                       2.890   Cond. No.                         6.89\n",
       "==============================================================================\n",
       "\n",
       "Notes:\n",
       "[1] Standard Errors assume that the covariance matrix of the errors is correctly specified.\n",
       "\"\"\""
      ]
     },
     "execution_count": 8,
     "metadata": {},
     "output_type": "execute_result"
    }
   ],
   "source": [
    "# This part of the code imports our statsmodel package\n",
    "import statsmodels.api as sm\n",
    "# This part of the code creates a empty list called new_code_list\n",
    "new_code_list = []\n",
    "# This part of the code grabs the treatment code column in our dataframe forager_bee_no0\n",
    "new_codes = forager_bee_no0.loc[:,\"treatment code\"] \n",
    "# This part of the code creates a for loop, that looks at the treatment code list and re-assigns the treatment codes so that the lowest treatment is\n",
    "# assigned as 1, the medium treatment is assigned as 2 and the highest exposure treatment is assigned to 3. These new values are appended into the\n",
    "# new_code_list.\n",
    "for i in new_codes:\n",
    "    if i == 1.0:\n",
    "        new_code_list.append(3)\n",
    "    elif i == 2.0:\n",
    "        new_code_list.append(2)\n",
    "    else:\n",
    "        new_code_list.append(1)\n",
    "# This part of the code adds this newly re-organized treatment code values into the forager_bee_no0 dataframe as treatment_code\n",
    "forager_bee_no0 = forager_bee_no0.assign(treatment_code = new_code_list)\n",
    "# This part of the code sets our treatment code column in our dataframe forager_bee_no0 as a int. This is to ensure that when we model this data,\n",
    "# everything we use is an integer and not a string. This is just as a pre-caution just incase if treatment code was seen as a string.\n",
    "bee_marker = (forager_bee_no0['treatment_code']).astype(int)\n",
    "# This part of the code creates a new dataframe with our E-score and the Treatment_code. This new dataframe is stored into a variable called to_model\n",
    "to_model = pd.DataFrame({\"E-Score\":forager_bee_no0['E-Score'],\n",
    "                         \"treatment_code\": bee_marker})\n",
    "\n",
    "# This part of the code removes any null values from the E-score column. This new dataframe is stored into a variable called to_model again\n",
    "to_model = to_model[~pd.isnull(to_model['E-Score'])]\n",
    "# This part of the code adds a constant column into our dataframe to_model. This information is stored into our variable called to_model.\n",
    "to_model = sm.add_constant(to_model)\n",
    "# This part of the code sets the E-score column of our dataframe to_model into the variable y\n",
    "y = to_model[\"E-Score\"]\n",
    "# This part of the code sets the treatment code, and const column of our dataframe to_model into the variable X\n",
    "X = to_model.loc[:,(\"treatment_code\",\"const\")]\n",
    "# This part of the code models our data, and stores the information into a variable called model_marker\n",
    "model_marker = sm.OLS(y, X).fit()\n",
    "# This part of the code displays the numerical values of our model\n",
    "model_marker.summary()"
   ]
  },
  {
   "cell_type": "markdown",
   "id": "9f96e8f4-0d1f-4aad-8b69-fd20e1d6d1cc",
   "metadata": {},
   "source": [
    "Based on the model we can see that the intercept of the data is 4.4512 and the slope of our model is -1.0401. The intercept tells us the expected mean value of our E-score when our x or treatment group is 0. Since our slope is negative, it means that there is a negative correlation between E-score and our treatment groups. This means that as the treatment code increases (so more exposure to the chemical) the lower the E-Score. If we look into the standard error column, we can see that treatment code has a standard error of 0.246 and const has a standard error of 0.532. This column basically tells us how different our sample mean would be if we were to repeat the study using this model. Based on the data, we can be **certain** about our parameters. If we take a look at the P value for treatment code, we can see it has a value of 0, this means that the results we got is not due to chance. It means that we can be certain about our results as we can reject our null hypothesis since it is under 0.05. The same can be seen for our const where our p-value is 0, meaning that our results are not due to chance. Additionally, when we add and subtract and add our coef column with their respective standard errors, we still get a negative value for slope, and a positive value for const. This further shows that we can be certain that there is a negative relationship between treatment group and E-score."
   ]
  },
  {
   "cell_type": "markdown",
   "id": "8db30750-f294-4ebb-85fa-36a1ffbf46ac",
   "metadata": {},
   "source": [
    "Based on our model results, we can conclude that a higher exposure of the chemical made the bees have a lower E-Score, whereas a lower exposure to this chemical allowed the bees to have a higher E-score. This shows that the chemical does have a effect on cognitive function as the bees were exposed to a higher level of flupyradifurone. Basically, this means that as the dose concentration(treatment group) increases, the E-score of our bee group decreases by -1.0401. This means that by changing the treatment code in a increasing order, from 1 to 2 or 2 to 3, it would result in a decrease of E-score of -1.0401. In other words, for each increase in treatment code by 1, the E-score of the bees decrease by -1.0401."
   ]
  },
  {
   "cell_type": "markdown",
   "id": "6f1e9651-d3b3-43ae-832e-e29032807106",
   "metadata": {},
   "source": [
    "### **Question 2:** Which type of forager bee had a higher GRS score when they were exposed to the highest concentration of flupyradifurone"
   ]
  },
  {
   "cell_type": "markdown",
   "id": "edb29587-de89-4c34-b6ad-170574e09de6",
   "metadata": {},
   "source": [
    "I wanted to ask this question because I wanted to compare and see which type of forager bee, (pollen or nectar forager bees) had a better resistance to this chemical. It would be interesting to study this question because the results of this question can show me if certain forager bees actually have a higher resistance to this chemical. Having a higher resistance in the case of this reserach question means that the bees would still retain their ability to taste even after high exposure to the chemical flupyradifurone. This is really interesting because I have always generalized that bees, for the most part are somewhat similar. So to be able to see if resistance is different among these bee groups also tells me that there may be a chance that a certain forager bee group may have evolved to become more resistance to harmful chemicals. By seeing the results of this question, it can give me some insight on how the chemical affects each bee group, and it may be possible that this chemical can be safely used in certain areas where there is more of a certain bee that has a higher resistance to this chemical. \n",
    "\n",
    "**Hypothesis:** I hypothesize that nectar foragers performed better under high exposure to this chemical\n",
    "\n",
    "This relates to the research question I came up with because this tests to see which type of forager bee had a better taste response after they were exposed a high concentration of flupyradifurone.\n",
    "\n",
    "This data is appropriate to answer this question because it contains information on the two groups of forager bees, their exposure level to the chemical and how well they performed overall for the taste response test. For the purpose of this question, the features I will be using is the bee group, the treatment code, and the GRS score. For the 1st bee group (nectar foragers) will have 62 observations and the 2nd bee group (pollen foragers) will have 55 observations. The difference in observations is due to some bees not meeting the requirements for this test."
   ]
  },
  {
   "cell_type": "markdown",
   "id": "ac257bc0-1550-4c54-bcf0-cf0898add40e",
   "metadata": {},
   "source": [
    "For the purpose of this question, I will be making a violin plot that compares the distribution of the GRS score for both groups of bees. This plot can give insight/inform my hypothesis because it would make it easier to compare the two groups in terms of how well they did. Based on my hypothesis, I expect to see a higher count of nectar forager bees to have a high GRS score compared to pollen foragers. The results will inform my hypothesis because it can tell me if nectar foragers do indeed perform better when they were exposed to a high concentration of flupyradifurone compared to pollen forager bees."
   ]
  },
  {
   "cell_type": "markdown",
   "id": "a2b2a258-0edd-4f87-8c1c-154fb5c65534",
   "metadata": {},
   "source": [
    "**For the purpose of this question, we will be using our original treatment code data, and not the new one we used in the previous question.**\n",
    "\n",
    "**Treatment Code 1** = 8.3 * 10-4 (Highest dose of Flupyradifurone)\n",
    "\n",
    "<u>**Classification of the two groups:**</u>\n",
    "\n",
    "**Group 1:** Nectar Foragers\n",
    "\n",
    "**Group 2:** Pollen Foragers"
   ]
  },
  {
   "cell_type": "code",
   "execution_count": 9,
   "id": "6c226d9f-47ca-4fd9-ad07-785b4db557db",
   "metadata": {},
   "outputs": [
    {
     "data": {
      "text/plain": [
       "<seaborn.axisgrid.FacetGrid at 0x28bdef2aee0>"
      ]
     },
     "execution_count": 9,
     "metadata": {},
     "output_type": "execute_result"
    },
    {
     "data": {
      "image/png": "[encoded data removed]",
      "text/plain": [
       "<Figure size 360x360 with 1 Axes>"
      ]
     },
     "metadata": {},
     "output_type": "display_data"
    }
   ],
   "source": [
    "# This part of the code only grabs the rows that have treatment code equalling to 1, we then index it back into our forager_bee dataframe so we have a dataframe that only contains\n",
    "# the rows that have a 1 for its treatment code. We then store this into a variable called treatment_1_df\n",
    "treatment_1_df = forager_bee[forager_bee.loc[:,'treatment code'] == 1]\n",
    "# This part of the code creates a violin graph \n",
    "sns.catplot(data=treatment_1_df, x=\"group\", y= \"GRS\", kind = \"violin\", kde=True)"
   ]
  },
  {
   "cell_type": "markdown",
   "id": "5475d13c-fa87-4971-9447-db84b15614b0",
   "metadata": {},
   "source": [
    "This visualization can help assess my hypothesis because we can see how each bee group performed when they were exposed to the highest concentration of flupyradifurone. Based on the plot, it can be concluded that group 1 has performed better than group 2, which means that nectar foragers (group 1) may have a higher resistance to this chemical, which allowed them to have a higher GRS score. This conclusion was reached by looking at the average score of the violin plot. The average score of a violin plot is based on a small white dot that you can see in the middle black bar of each of the violin plots. By comparing the average score between group 1 and group 2, we can see that group 1 has a higher average of around 1.80 whereas group 2 has a average close to 0. Due to this, I concluded that group 1 performed better than group 2."
   ]
  },
  {
   "cell_type": "markdown",
   "id": "5cb1bc19-4cc8-4563-b01c-9a701283ae76",
   "metadata": {},
   "source": [
    "### Model"
   ]
  },
  {
   "cell_type": "markdown",
   "id": "c75d3e28-0bb7-4573-b235-10a14fa9c7c0",
   "metadata": {},
   "source": [
    "For my model I will be creating a linear model using features such as bee group, GRS score and treatment code (also known as the exposure level to flupyradifurone). The way treatment code is used in this model is that I wanted to look at one specific treatment group, rather than every treatment group. So in this case, I only grabbed treatment group 1, which was exposed to the highest concentration of flupyradifurone. These features would be important for my model because it can first help us see if bee group has a affect on GRS score, and once we establish this relationship we can understand if one of the bee group has a higher resistance to this chemical, therefore allowing them to perform better.\n",
    "\n",
    "There are no other features used in this model other than the ones listed above.\n",
    "\n",
    "For the purpose of this question, I intend to make a linear model. A linear model can help us see if being in different bee groups has a relationship to how well a bee performed under harsh chemical conditions. It can help us represent the relationship between two variables. This information can then in turn answer our hypothesis, because we can see if being in group 1 (nectar foragers) did in fact affect the GRS score of bees. Based on my visualization, I expect the slope to be around -1 (based on the manual rise over run method) and the intercept to be around 2 (by eyeballing the visualization)"
   ]
  },
  {
   "cell_type": "code",
   "execution_count": 10,
   "id": "a4122ffa-1419-444a-be76-d566abffb3d6",
   "metadata": {},
   "outputs": [
    {
     "data": {
      "text/html": [
       "<table class=\"simpletable\">\n",
       "<caption>OLS Regression Results</caption>\n",
       "<tr>\n",
       "  <th>Dep. Variable:</th>           <td>GRS</td>       <th>  R-squared:         </th> <td>   0.001</td>\n",
       "</tr>\n",
       "<tr>\n",
       "  <th>Model:</th>                   <td>OLS</td>       <th>  Adj. R-squared:    </th> <td>  -0.008</td>\n",
       "</tr>\n",
       "<tr>\n",
       "  <th>Method:</th>             <td>Least Squares</td>  <th>  F-statistic:       </th> <td> 0.05907</td>\n",
       "</tr>\n",
       "<tr>\n",
       "  <th>Date:</th>             <td>Sat, 10 Dec 2022</td> <th>  Prob (F-statistic):</th>  <td> 0.808</td> \n",
       "</tr>\n",
       "<tr>\n",
       "  <th>Time:</th>                 <td>15:44:27</td>     <th>  Log-Likelihood:    </th> <td> -259.74</td>\n",
       "</tr>\n",
       "<tr>\n",
       "  <th>No. Observations:</th>      <td>   117</td>      <th>  AIC:               </th> <td>   523.5</td>\n",
       "</tr>\n",
       "<tr>\n",
       "  <th>Df Residuals:</th>          <td>   115</td>      <th>  BIC:               </th> <td>   529.0</td>\n",
       "</tr>\n",
       "<tr>\n",
       "  <th>Df Model:</th>              <td>     1</td>      <th>                     </th>     <td> </td>   \n",
       "</tr>\n",
       "<tr>\n",
       "  <th>Covariance Type:</th>      <td>nonrobust</td>    <th>                     </th>     <td> </td>   \n",
       "</tr>\n",
       "</table>\n",
       "<table class=\"simpletable\">\n",
       "<tr>\n",
       "    <td></td>       <th>coef</th>     <th>std err</th>      <th>t</th>      <th>P>|t|</th>  <th>[0.025</th>    <th>0.975]</th>  \n",
       "</tr>\n",
       "<tr>\n",
       "  <th>group</th> <td>   -0.1012</td> <td>    0.416</td> <td>   -0.243</td> <td> 0.808</td> <td>   -0.926</td> <td>    0.723</td>\n",
       "</tr>\n",
       "<tr>\n",
       "  <th>const</th> <td>    2.0205</td> <td>    0.646</td> <td>    3.127</td> <td> 0.002</td> <td>    0.740</td> <td>    3.301</td>\n",
       "</tr>\n",
       "</table>\n",
       "<table class=\"simpletable\">\n",
       "<tr>\n",
       "  <th>Omnibus:</th>       <td>16.830</td> <th>  Durbin-Watson:     </th> <td>   2.174</td>\n",
       "</tr>\n",
       "<tr>\n",
       "  <th>Prob(Omnibus):</th> <td> 0.000</td> <th>  Jarque-Bera (JB):  </th> <td>  20.551</td>\n",
       "</tr>\n",
       "<tr>\n",
       "  <th>Skew:</th>          <td> 1.027</td> <th>  Prob(JB):          </th> <td>3.45e-05</td>\n",
       "</tr>\n",
       "<tr>\n",
       "  <th>Kurtosis:</th>      <td> 2.973</td> <th>  Cond. No.          </th> <td>    6.68</td>\n",
       "</tr>\n",
       "</table><br/><br/>Notes:<br/>[1] Standard Errors assume that the covariance matrix of the errors is correctly specified."
      ],
      "text/plain": [
       "<class 'statsmodels.iolib.summary.Summary'>\n",
       "\"\"\"\n",
       "                            OLS Regression Results                            \n",
       "==============================================================================\n",
       "Dep. Variable:                    GRS   R-squared:                       0.001\n",
       "Model:                            OLS   Adj. R-squared:                 -0.008\n",
       "Method:                 Least Squares   F-statistic:                   0.05907\n",
       "Date:                Sat, 10 Dec 2022   Prob (F-statistic):              0.808\n",
       "Time:                        15:44:27   Log-Likelihood:                -259.74\n",
       "No. Observations:                 117   AIC:                             523.5\n",
       "Df Residuals:                     115   BIC:                             529.0\n",
       "Df Model:                           1                                         \n",
       "Covariance Type:            nonrobust                                         \n",
       "==============================================================================\n",
       "                 coef    std err          t      P>|t|      [0.025      0.975]\n",
       "------------------------------------------------------------------------------\n",
       "group         -0.1012      0.416     -0.243      0.808      -0.926       0.723\n",
       "const          2.0205      0.646      3.127      0.002       0.740       3.301\n",
       "==============================================================================\n",
       "Omnibus:                       16.830   Durbin-Watson:                   2.174\n",
       "Prob(Omnibus):                  0.000   Jarque-Bera (JB):               20.551\n",
       "Skew:                           1.027   Prob(JB):                     3.45e-05\n",
       "Kurtosis:                       2.973   Cond. No.                         6.68\n",
       "==============================================================================\n",
       "\n",
       "Notes:\n",
       "[1] Standard Errors assume that the covariance matrix of the errors is correctly specified.\n",
       "\"\"\""
      ]
     },
     "execution_count": 10,
     "metadata": {},
     "output_type": "execute_result"
    }
   ],
   "source": [
    "# This part of the code imports our statsmodel package\n",
    "import statsmodels.api as sm\n",
    "# This part of the code sets our group column in our dataframe as a int\n",
    "bee_marker1 = (treatment_1_df['group']).astype(int)\n",
    "# This part of the code creates a new dataframe with GRS and the Treatment code. This new dataframe is stored into a variable called to_model1\n",
    "to_model1 = pd.DataFrame({\"GRS\":treatment_1_df['GRS'],\n",
    "                         \"group\": bee_marker1})\n",
    "\n",
    "# This part of the code removes any null values from the GRS column. This new dataframe is stored into a variable called to_model1 again\n",
    "to_model1 = to_model1[~pd.isnull(to_model1['GRS'])]\n",
    "# This part of the code adds a constant column into our dataframe to_model1. This information is stored into our variable called to_model1.\n",
    "to_model1 = sm.add_constant(to_model1)\n",
    "# This part of the code sets the GRS column of our dataframe to_model1 into the variable Y\n",
    "Y = to_model1[\"GRS\"]\n",
    "# This part of the code sets the group, and const column of our dataframe to_model1, into the variable x\n",
    "x = to_model1.loc[:,(\"group\",\"const\")]\n",
    "# This part of the code models our data, and stores the information into a variable called model_marker1\n",
    "model_marker1 = sm.OLS(Y, x).fit()\n",
    "# This part of the code displays the numerical values of our model\n",
    "model_marker1.summary()"
   ]
  },
  {
   "cell_type": "markdown",
   "id": "fe9f34cd-9639-409d-bd5c-be7f0982f9fd",
   "metadata": {},
   "source": [
    "Based on the data we can see that our slope is -0.1012 and our intercept is 2.0205. This means that there is a negative correlation between our two features. A negative slope/association basically means that as one variable increases, the other decreases. In this case since our bee group is categorized into groups 1 and 2, as our group number increases, the GRS score decreases. If we look into the standard error column, we can see that group has a standard error of 0.416 and const has a standard error of 0.646. This column basically tells us how different our sample mean would be if we were to repeat the study using this model. Based on our model data, we can be **somewhat certain**, but not fully certain about our parameters. The estimation of the intercept based on the visualization was close to the one from the model, however the intercept was off. This makes me question if -0.1012 is really the true slope of our model."
   ]
  },
  {
   "cell_type": "markdown",
   "id": "94460c0e-2a79-4c4d-ae50-954401003b07",
   "metadata": {},
   "source": [
    "Based on the model, we can conclude that there appears to be a correlation between being in a certain bee group and GRS score. Since it was a negative slope, it means that the first group had a higher overall GRS score compared to the second group. Due to the uncertainty, we can't say for sure if this incident is due to chance or not. However, based on our model's negative slope parameter, we can conclude that there is a negative correlation between bee group and GRS score. Due to this, bee group 1 showed that they may have a higher resistance to flupyradifurone allowing them to score higher. "
   ]
  },
  {
   "cell_type": "markdown",
   "id": "164653b1-f472-43fe-a23c-8c0d7388a3f1",
   "metadata": {},
   "source": [
    "## Part 4: Model Data"
   ]
  },
  {
   "cell_type": "markdown",
   "id": "e693db02-a5c7-49eb-b4c2-515dc93e711b",
   "metadata": {},
   "source": [
    "## <u> Research Question 1 : Were the cognitive function (E-score) of forager bees affected more from exposure to flupyradifurone, or does being in a different bee group affect the E-score more? </u>"
   ]
  },
  {
   "cell_type": "markdown",
   "id": "58c677fe-fe84-46dd-9a29-356cec0ad059",
   "metadata": {},
   "source": [
    "The feature that I want to use is E-score column which is our target feature. As mentioned before, a linear model would be good to answer this question because linear models can show if the E-score (target feature) of bees depend on another variable, showing a relationship between them. To reiterate, the **target feature** of this model is **E-score**."
   ]
  },
  {
   "cell_type": "markdown",
   "id": "a48404ba-f080-4be1-b9b3-111e9a8e8baf",
   "metadata": {},
   "source": [
    "**Hypothesis:** The cognitive function (E-score) of forager bees were affected more from exposure to flupyradifurone compared to being in a different bee group."
   ]
  },
  {
   "cell_type": "markdown",
   "id": "23ffa1c8-fa1d-44e7-bd65-bd96ba42dc08",
   "metadata": {},
   "source": [
    "### Model 1: E-Score and Treatment Code"
   ]
  },
  {
   "cell_type": "markdown",
   "id": "c1ce29b1-b744-4617-8e3e-1fe69791a806",
   "metadata": {},
   "source": [
    "For the purpose of this question, I wanted to see if the E-score of bees depend on the exposure they had to flupyradifurone. This model will be able to show if this chemical has a bad effect on bees in terms of their cognitive function, which would be able to address my hypothesis. This would allow us to see how big of an effect exposure to flupyradifurone has on the E-score of bees, which can address my hypothesis of which variable had more of an effect on E-score.\n",
    "\n",
    "**Model 1, is the same model I did in part 3 for the first question.**"
   ]
  },
  {
   "cell_type": "code",
   "execution_count": 11,
   "id": "6c0af52c-a747-45d0-b2f9-6a0d3586004f",
   "metadata": {},
   "outputs": [
    {
     "data": {
      "text/html": [
       "<table class=\"simpletable\">\n",
       "<caption>OLS Regression Results</caption>\n",
       "<tr>\n",
       "  <th>Dep. Variable:</th>         <td>E-Score</td>     <th>  R-squared:         </th> <td>   0.104</td>\n",
       "</tr>\n",
       "<tr>\n",
       "  <th>Model:</th>                   <td>OLS</td>       <th>  Adj. R-squared:    </th> <td>   0.099</td>\n",
       "</tr>\n",
       "<tr>\n",
       "  <th>Method:</th>             <td>Least Squares</td>  <th>  F-statistic:       </th> <td>   17.94</td>\n",
       "</tr>\n",
       "<tr>\n",
       "  <th>Date:</th>             <td>Sat, 10 Dec 2022</td> <th>  Prob (F-statistic):</th> <td>3.91e-05</td>\n",
       "</tr>\n",
       "<tr>\n",
       "  <th>Time:</th>                 <td>15:44:27</td>     <th>  Log-Likelihood:    </th> <td> -358.08</td>\n",
       "</tr>\n",
       "<tr>\n",
       "  <th>No. Observations:</th>      <td>   156</td>      <th>  AIC:               </th> <td>   720.2</td>\n",
       "</tr>\n",
       "<tr>\n",
       "  <th>Df Residuals:</th>          <td>   154</td>      <th>  BIC:               </th> <td>   726.3</td>\n",
       "</tr>\n",
       "<tr>\n",
       "  <th>Df Model:</th>              <td>     1</td>      <th>                     </th>     <td> </td>   \n",
       "</tr>\n",
       "<tr>\n",
       "  <th>Covariance Type:</th>      <td>nonrobust</td>    <th>                     </th>     <td> </td>   \n",
       "</tr>\n",
       "</table>\n",
       "<table class=\"simpletable\">\n",
       "<tr>\n",
       "         <td></td>           <th>coef</th>     <th>std err</th>      <th>t</th>      <th>P>|t|</th>  <th>[0.025</th>    <th>0.975]</th>  \n",
       "</tr>\n",
       "<tr>\n",
       "  <th>treatment_code</th> <td>   -1.0401</td> <td>    0.246</td> <td>   -4.235</td> <td> 0.000</td> <td>   -1.525</td> <td>   -0.555</td>\n",
       "</tr>\n",
       "<tr>\n",
       "  <th>const</th>          <td>    4.4512</td> <td>    0.524</td> <td>    8.502</td> <td> 0.000</td> <td>    3.417</td> <td>    5.485</td>\n",
       "</tr>\n",
       "</table>\n",
       "<table class=\"simpletable\">\n",
       "<tr>\n",
       "  <th>Omnibus:</th>       <td>10.033</td> <th>  Durbin-Watson:     </th> <td>   1.757</td>\n",
       "</tr>\n",
       "<tr>\n",
       "  <th>Prob(Omnibus):</th> <td> 0.007</td> <th>  Jarque-Bera (JB):  </th> <td>  10.808</td>\n",
       "</tr>\n",
       "<tr>\n",
       "  <th>Skew:</th>          <td> 0.642</td> <th>  Prob(JB):          </th> <td> 0.00450</td>\n",
       "</tr>\n",
       "<tr>\n",
       "  <th>Kurtosis:</th>      <td> 2.890</td> <th>  Cond. No.          </th> <td>    6.89</td>\n",
       "</tr>\n",
       "</table><br/><br/>Notes:<br/>[1] Standard Errors assume that the covariance matrix of the errors is correctly specified."
      ],
      "text/plain": [
       "<class 'statsmodels.iolib.summary.Summary'>\n",
       "\"\"\"\n",
       "                            OLS Regression Results                            \n",
       "==============================================================================\n",
       "Dep. Variable:                E-Score   R-squared:                       0.104\n",
       "Model:                            OLS   Adj. R-squared:                  0.099\n",
       "Method:                 Least Squares   F-statistic:                     17.94\n",
       "Date:                Sat, 10 Dec 2022   Prob (F-statistic):           3.91e-05\n",
       "Time:                        15:44:27   Log-Likelihood:                -358.08\n",
       "No. Observations:                 156   AIC:                             720.2\n",
       "Df Residuals:                     154   BIC:                             726.3\n",
       "Df Model:                           1                                         \n",
       "Covariance Type:            nonrobust                                         \n",
       "==================================================================================\n",
       "                     coef    std err          t      P>|t|      [0.025      0.975]\n",
       "----------------------------------------------------------------------------------\n",
       "treatment_code    -1.0401      0.246     -4.235      0.000      -1.525      -0.555\n",
       "const              4.4512      0.524      8.502      0.000       3.417       5.485\n",
       "==============================================================================\n",
       "Omnibus:                       10.033   Durbin-Watson:                   1.757\n",
       "Prob(Omnibus):                  0.007   Jarque-Bera (JB):               10.808\n",
       "Skew:                           0.642   Prob(JB):                      0.00450\n",
       "Kurtosis:                       2.890   Cond. No.                         6.89\n",
       "==============================================================================\n",
       "\n",
       "Notes:\n",
       "[1] Standard Errors assume that the covariance matrix of the errors is correctly specified.\n",
       "\"\"\""
      ]
     },
     "execution_count": 11,
     "metadata": {},
     "output_type": "execute_result"
    }
   ],
   "source": [
    "# This part of the code imports our statsmodel package\n",
    "import statsmodels.api as sm\n",
    "# This part of the code creates a empty list called new_code_list\n",
    "new_code_list = []\n",
    "# This part of the code grabs the treatment code column in our dataframe forager_bee_no0\n",
    "new_codes = forager_bee_no0.loc[:,\"treatment code\"] \n",
    "# This part of the code creates a for loop, that looks at the treatment code list and re-assigns the treatment codes so that the lowest treatment is\n",
    "# assigned as 1, the medium treatment is assigned as 2 and the highest exposure treatment is assigned to 3. These new values are appended into the\n",
    "# new_code_list.\n",
    "for i in new_codes:\n",
    "    if i == 1.0:\n",
    "        new_code_list.append(3)\n",
    "    elif i == 2.0:\n",
    "        new_code_list.append(2)\n",
    "    else:\n",
    "        new_code_list.append(1)\n",
    "# This part of the code adds this newly re-organized treatment code values into the forager_bee_no0 dataframe as treatment_code\n",
    "forager_bee_no0 = forager_bee_no0.assign(treatment_code = new_code_list)\n",
    "# This part of the code sets our treatment code column in our dataframe forager_bee_no0 as a int. This is to ensure that when we model this data,\n",
    "# everything we use is an integer and not a string. This is just as a pre-caution just incase if treatment code was seen as a string.\n",
    "bee_marker = (forager_bee_no0['treatment_code']).astype(int)\n",
    "# This part of the code creates a new dataframe with our E-score and the Treatment_code. This new dataframe is stored into a variable called to_model\n",
    "to_model = pd.DataFrame({\"E-Score\":forager_bee_no0['E-Score'],\n",
    "                         \"treatment_code\": bee_marker})\n",
    "\n",
    "# This part of the code removes any null values from the E-score column. This new dataframe is stored into a variable called to_model again\n",
    "to_model = to_model[~pd.isnull(to_model['E-Score'])]\n",
    "# This part of the code adds a constant column into our dataframe to_model. This information is stored into our variable called to_model.\n",
    "to_model = sm.add_constant(to_model)\n",
    "# This part of the code sets the E-score column of our dataframe to_model into the variable y\n",
    "y = to_model[\"E-Score\"]\n",
    "# This part of the code sets the treatment code, and const column of our dataframe to_model into the variable X\n",
    "X = to_model.loc[:,(\"treatment_code\",\"const\")]\n",
    "# This part of the code models our data, and stores the information into a variable called model_marker\n",
    "model_marker = sm.OLS(y, X).fit()\n",
    "# This part of the code displays the numerical values of our model\n",
    "model_marker.summary()"
   ]
  },
  {
   "cell_type": "markdown",
   "id": "20157723-d854-4962-bf87-92c1ca8792a8",
   "metadata": {},
   "source": [
    "## **Interpreting the results of the model and its parameters**"
   ]
  },
  {
   "cell_type": "markdown",
   "id": "b489e53e-8dd6-4290-96fb-b254b67a86db",
   "metadata": {},
   "source": [
    "Based on the model we can see that the intercept of the data is 4.4512 and the slope of our model is -1.0401. The intercept tells us the expected mean value of our E-score when our x or treatment group is 0. Since our slope is negative, it means that there is a negative correlation between E-score and our treatment groups. This means that as the treatment code increases (so more exposure to the chemical) the lower the E-Score. \n",
    "\n",
    "If we take a look at the P value for treatment code, we can see it has a value of 0, this means that the results we got is not due to chance. It means that we can be certain about our results as we can reject our null hypothesis since it is under 0.05. The null hypothesis basically tells us if the observed value is due to chance. If we are able to reject it, it means that our observed value is not due to chance, and the data we got is accurate. This means that there is a correlation and we can be certain about our parameters. The same can be seen for our intercept (const) where our p-value is 0, meaning that our results are not due to chance. Based on this data, we can be **certain** about our parameters. \n",
    "\n",
    "Additionally if we take a look at our confidence interval 0.975, we have a 97.5% certainty that our value will fall between -1.525 and -0.555. This further shows that we can be certain that there is a negative relationship between treatment group and E-score. The same could be said for our intercept, when we take a look at the confidence interval for our intercept, we have two positive numbers, further showing that our intercept is indeed positive. Since the confidence interval of our slope is still negative and the confidence interval of our intercept is positive, we can definitely be **certain** about our parameters."
   ]
  },
  {
   "cell_type": "markdown",
   "id": "6b56ad7e-5fef-43f1-af87-0c8e5c286a57",
   "metadata": {},
   "source": [
    "## **Interpreting the results of the model in everyday language**"
   ]
  },
  {
   "cell_type": "markdown",
   "id": "cd08e77c-272e-48e7-9301-1bd18ba53281",
   "metadata": {},
   "source": [
    "Based on our model results, we can conclude that a higher exposure of the chemical made the bees have a lower E-Score, whereas a lower exposure to this chemical allowed the bees to have a higher E-score. This shows that the chemical does have a effect on cognitive function as the bees were exposed to a higher level of flupyradifurone. Basically, this means that as the dose concentration(treatment group) increases, the E-score of our bee group decreases by -1.0401. This means that by changing the treatment code in a increasing order, from 1 to 2 or 2 to 3, it would result in a decrease of E-score of -1.0401. In other words, for each increase in treatment code by 1, the E-score of the bees decrease by -1.0401."
   ]
  },
  {
   "cell_type": "markdown",
   "id": "4876eb0a-0796-4c86-ba53-d6689d3bdf53",
   "metadata": {},
   "source": [
    "### Model 2: E-Score and Bee Group"
   ]
  },
  {
   "cell_type": "markdown",
   "id": "1cd3bc7b-5e2f-4278-af2a-9c03fe0ae802",
   "metadata": {},
   "source": [
    "Fitting this model would be able to inform my hypothesis because we would be able to see if different bee groups has an affect on E-score, which is the score of the bee's cognitive function. This model would be able to show if there is indeed a relationship between the target feature and being in a different bee group in terms of cognitive function. With this information we would also be able to see how much of an affect being in different bee groups affected the E-Score, allowing us to address our hypothesis of which feature had more of an effect on our target feature (e-score). \n",
    "\n",
    "**For the purpose of this model, using bee group would make sense for this model as the experiment categorizes these different types of bees, pollen and nectar forager groups as a number. The experiment categorizes pollen forager into group 1 and nectar forager into group 2. By changing this group number, from group 1 to group 2, we can see the difference in how the bees performed based on what type of bee they are. These groups do not contain the same bees, they are different per group. So by changing our group number (in other words we are also changing our bee type by changing this number) we will be able to see if different types of bee perform better in terms of their E-score**"
   ]
  },
  {
   "cell_type": "code",
   "execution_count": 12,
   "id": "6c28e929-6d93-4d4d-be2b-852ca5bf19d5",
   "metadata": {},
   "outputs": [
    {
     "data": {
      "text/html": [
       "<table class=\"simpletable\">\n",
       "<caption>OLS Regression Results</caption>\n",
       "<tr>\n",
       "  <th>Dep. Variable:</th>         <td>E-Score</td>     <th>  R-squared:         </th> <td>   0.033</td>\n",
       "</tr>\n",
       "<tr>\n",
       "  <th>Model:</th>                   <td>OLS</td>       <th>  Adj. R-squared:    </th> <td>   0.027</td>\n",
       "</tr>\n",
       "<tr>\n",
       "  <th>Method:</th>             <td>Least Squares</td>  <th>  F-statistic:       </th> <td>   5.299</td>\n",
       "</tr>\n",
       "<tr>\n",
       "  <th>Date:</th>             <td>Sat, 10 Dec 2022</td> <th>  Prob (F-statistic):</th>  <td>0.0227</td> \n",
       "</tr>\n",
       "<tr>\n",
       "  <th>Time:</th>                 <td>15:44:27</td>     <th>  Log-Likelihood:    </th> <td> -364.03</td>\n",
       "</tr>\n",
       "<tr>\n",
       "  <th>No. Observations:</th>      <td>   156</td>      <th>  AIC:               </th> <td>   732.1</td>\n",
       "</tr>\n",
       "<tr>\n",
       "  <th>Df Residuals:</th>          <td>   154</td>      <th>  BIC:               </th> <td>   738.2</td>\n",
       "</tr>\n",
       "<tr>\n",
       "  <th>Df Model:</th>              <td>     1</td>      <th>                     </th>     <td> </td>   \n",
       "</tr>\n",
       "<tr>\n",
       "  <th>Covariance Type:</th>      <td>nonrobust</td>    <th>                     </th>     <td> </td>   \n",
       "</tr>\n",
       "</table>\n",
       "<table class=\"simpletable\">\n",
       "<tr>\n",
       "    <td></td>       <th>coef</th>     <th>std err</th>      <th>t</th>      <th>P>|t|</th>  <th>[0.025</th>    <th>0.975]</th>  \n",
       "</tr>\n",
       "<tr>\n",
       "  <th>group</th> <td>    0.9260</td> <td>    0.402</td> <td>    2.302</td> <td> 0.023</td> <td>    0.131</td> <td>    1.721</td>\n",
       "</tr>\n",
       "<tr>\n",
       "  <th>const</th> <td>    0.9961</td> <td>    0.638</td> <td>    1.560</td> <td> 0.121</td> <td>   -0.265</td> <td>    2.257</td>\n",
       "</tr>\n",
       "</table>\n",
       "<table class=\"simpletable\">\n",
       "<tr>\n",
       "  <th>Omnibus:</th>       <td>12.755</td> <th>  Durbin-Watson:     </th> <td>   1.796</td>\n",
       "</tr>\n",
       "<tr>\n",
       "  <th>Prob(Omnibus):</th> <td> 0.002</td> <th>  Jarque-Bera (JB):  </th> <td>  14.292</td>\n",
       "</tr>\n",
       "<tr>\n",
       "  <th>Skew:</th>          <td> 0.739</td> <th>  Prob(JB):          </th> <td>0.000788</td>\n",
       "</tr>\n",
       "<tr>\n",
       "  <th>Kurtosis:</th>      <td> 2.881</td> <th>  Cond. No.          </th> <td>    6.89</td>\n",
       "</tr>\n",
       "</table><br/><br/>Notes:<br/>[1] Standard Errors assume that the covariance matrix of the errors is correctly specified."
      ],
      "text/plain": [
       "<class 'statsmodels.iolib.summary.Summary'>\n",
       "\"\"\"\n",
       "                            OLS Regression Results                            \n",
       "==============================================================================\n",
       "Dep. Variable:                E-Score   R-squared:                       0.033\n",
       "Model:                            OLS   Adj. R-squared:                  0.027\n",
       "Method:                 Least Squares   F-statistic:                     5.299\n",
       "Date:                Sat, 10 Dec 2022   Prob (F-statistic):             0.0227\n",
       "Time:                        15:44:27   Log-Likelihood:                -364.03\n",
       "No. Observations:                 156   AIC:                             732.1\n",
       "Df Residuals:                     154   BIC:                             738.2\n",
       "Df Model:                           1                                         \n",
       "Covariance Type:            nonrobust                                         \n",
       "==============================================================================\n",
       "                 coef    std err          t      P>|t|      [0.025      0.975]\n",
       "------------------------------------------------------------------------------\n",
       "group          0.9260      0.402      2.302      0.023       0.131       1.721\n",
       "const          0.9961      0.638      1.560      0.121      -0.265       2.257\n",
       "==============================================================================\n",
       "Omnibus:                       12.755   Durbin-Watson:                   1.796\n",
       "Prob(Omnibus):                  0.002   Jarque-Bera (JB):               14.292\n",
       "Skew:                           0.739   Prob(JB):                     0.000788\n",
       "Kurtosis:                       2.881   Cond. No.                         6.89\n",
       "==============================================================================\n",
       "\n",
       "Notes:\n",
       "[1] Standard Errors assume that the covariance matrix of the errors is correctly specified.\n",
       "\"\"\""
      ]
     },
     "execution_count": 12,
     "metadata": {},
     "output_type": "execute_result"
    }
   ],
   "source": [
    "# This part of the code sets our group column in our dataframe forager_bee_no0 as a int. This is to ensure that when we model this data,\n",
    "# everything we use is an integer and not a string. This is just as a pre-caution just incase if treatment code was seen as a string.\n",
    "bee_marker = (forager_bee_no0['group']).astype(int)\n",
    "# This part of the code creates a new dataframe with our E-score and the group column. This new dataframe is stored into a variable called to_model\n",
    "to_model = pd.DataFrame({\"E-Score\":forager_bee_no0['E-Score'],\n",
    "                         \"group\": bee_marker})\n",
    "\n",
    "# This part of the code removes any null values from the E-score column. This new dataframe is stored into a variable called to_model again\n",
    "to_model = to_model[~pd.isnull(to_model['E-Score'])]\n",
    "# This part of the code adds a constant column into our dataframe to_model. This information is stored into our variable called to_model.\n",
    "to_model = sm.add_constant(to_model)\n",
    "# This part of the code sets the E-score column of our dataframe to_model into the variable y_score\n",
    "y_score = to_model[\"E-Score\"]\n",
    "# This part of the code sets the group, and const column of our dataframe to_model into the variable X_group\n",
    "X_group = to_model.loc[:,(\"group\",\"const\")]\n",
    "# This part of the code models our data, and stores the information into a variable called model_group\n",
    "model_group = sm.OLS(y_score, X_group).fit()\n",
    "# This part of the code displays the numerical values of our model\n",
    "model_group.summary()"
   ]
  },
  {
   "cell_type": "markdown",
   "id": "69562317-344e-459f-b59d-aeab5d4eb5f7",
   "metadata": {},
   "source": [
    "## **Interpreting the results of the model and its parameters**"
   ]
  },
  {
   "cell_type": "markdown",
   "id": "fc313e1e-dfa9-403d-a60e-b6c02459ff12",
   "metadata": {},
   "source": [
    "Based on the results of the model we can see that the slope of the model is 0.9260 and the intercept is 0.9961, showing that there appears to be a positive relationship between E-Score and Bee group. This relationship is determined by looking at the slope value. Since the slope of the model was 0.9260, a positive number, this means there is a positive relationship. \n",
    "\n",
    "To determine the certainty of our parameters, I took a look at the confidence interval. Our slope (group) had both positive numbers in its confidence intervals, that means we can expect our numbers to be between 0.131 and 1.721, both of which are positive numbers. However, if we take a look at the confidence interval of our intercept (const) of our model, we can see that there is a negative number with a positive. Due to our confidence interval having a negative value (-0.265), this means that we can't be certain that our intercept is positive. \n",
    "\n",
    "Additionally, to further check the certainty of our parameters, we can take a look at the p-value of our slope and intercept. Our slope had a p-value of 0.023 and our intercept had a p-value of 0.121. Since the p-value of our slope was 0.023 we can reject our null hypothesis because it is under our alpha value (this value basically determines if we reject or accept our null hypothesis. Learned this in statistics.) 0.05. However, the p-value of our intercept was 0.121, which is greater than 0.05 this means that we cannot reject our null hypothesis. Due to this we **can't be certain** about our parameters based on the information."
   ]
  },
  {
   "cell_type": "markdown",
   "id": "faa21489-9fea-4aa6-b1c9-ed3b92060daf",
   "metadata": {},
   "source": [
    "## **Interpreting the results of the model in everyday language**"
   ]
  },
  {
   "cell_type": "markdown",
   "id": "da2936c6-1cc0-4214-a362-a7fa1f548c8f",
   "metadata": {},
   "source": [
    "Based on the results of the model, we can conclude that E-score is affected by different bee groups. In other words, when the bee group increases (bee group increases as changing from group 1 to group 2), the E-score increases by 0.9961. In other words, what is meant by \"when bee group increases\" this is another way of saying when the bee group changes (from pollen (group 1) to nectar (group 2)), as our groups are categorized into numbers as shown in the actual excel file of the experiment. So as the bee group changes (from 1 to 2) the E-score increases by 0.9961, showing that these one type of bee may have a better cognitive abilities compared to the other."
   ]
  },
  {
   "cell_type": "markdown",
   "id": "14221b64-9879-4e11-b4da-b6678e6513c9",
   "metadata": {},
   "source": [
    "## **Comparision of the two single variable models using two model metrics**"
   ]
  },
  {
   "cell_type": "markdown",
   "id": "a9285436-9abe-4dc6-9e76-d05e6b0f9373",
   "metadata": {},
   "source": [
    "**Comparison of R-Square Values:**\n",
    "\n",
    "**Model 1:** Has a R-Square value of 0.104\n",
    "\n",
    "**Model 2:** Has a R-Square value of 0.033\n",
    "\n",
    "**Comparison of log-likelihood Values:**\n",
    "\n",
    "**Model 1:** Has a log-likelihood value of -358.08\n",
    "\n",
    "**Model 2:** Has a log-likelihood value of -364.03\n",
    "\n",
    "Upon the comparison of the two model metrics, R-squared values and log-likelihood values, we can see that model 1 is a better predicor of the target feature (E-Score). In the first model metric, having a higher R-square value means it is a better predictor. When we compare the R-square values between the two models, Model 1 had a higher R-squared value of 0.104 compared to model 2 with a R-Square value of 0.033. This shows that Model 1 is better. In the second model metric, having a log-likelihood value that is closer to 0 means it is a better predictor. When we compare the log-likelihood values between the two models, we can see that model 1 has a log-likelihood of -335.08 and model 2 has a log-likelihood value of -364.03 showing that model 1 is a better predictor. After the comparison of the two model metrics, model 1 shows that it is a better predictor for our target feature.  Which supports our hypothesis that E-Score is more affected by exposure to the chemical."
   ]
  },
  {
   "cell_type": "markdown",
   "id": "9aeb513d-de84-4057-b132-a61096ce366f",
   "metadata": {},
   "source": [
    "# <u>**Two 2+ Feature Variable Models for my first research question**</u>"
   ]
  },
  {
   "cell_type": "markdown",
   "id": "ef27fe30-7190-4267-8f10-d3ee96bd8c1e",
   "metadata": {},
   "source": [
    "## **First - 2+ feature variable model**: I am using my target feature E-score, and my two other features are Treatment Code and GRS Score."
   ]
  },
  {
   "cell_type": "markdown",
   "id": "b4f9a057-2363-4450-9e22-bf67907b552e",
   "metadata": {},
   "source": [
    "### Model 1: E-Score and Treatment Code + GRS(Gustatory Responsiveness) Score"
   ]
  },
  {
   "cell_type": "code",
   "execution_count": 13,
   "id": "a147ae72-dc71-4cca-97d3-6fc2ee048191",
   "metadata": {},
   "outputs": [
    {
     "data": {
      "text/html": [
       "<table class=\"simpletable\">\n",
       "<caption>OLS Regression Results</caption>\n",
       "<tr>\n",
       "  <th>Dep. Variable:</th>         <td>E-Score</td>     <th>  R-squared:         </th> <td>   0.112</td>\n",
       "</tr>\n",
       "<tr>\n",
       "  <th>Model:</th>                   <td>OLS</td>       <th>  Adj. R-squared:    </th> <td>   0.101</td>\n",
       "</tr>\n",
       "<tr>\n",
       "  <th>Method:</th>             <td>Least Squares</td>  <th>  F-statistic:       </th> <td>   9.667</td>\n",
       "</tr>\n",
       "<tr>\n",
       "  <th>Date:</th>             <td>Sat, 10 Dec 2022</td> <th>  Prob (F-statistic):</th> <td>0.000111</td>\n",
       "</tr>\n",
       "<tr>\n",
       "  <th>Time:</th>                 <td>15:44:27</td>     <th>  Log-Likelihood:    </th> <td> -357.39</td>\n",
       "</tr>\n",
       "<tr>\n",
       "  <th>No. Observations:</th>      <td>   156</td>      <th>  AIC:               </th> <td>   720.8</td>\n",
       "</tr>\n",
       "<tr>\n",
       "  <th>Df Residuals:</th>          <td>   153</td>      <th>  BIC:               </th> <td>   729.9</td>\n",
       "</tr>\n",
       "<tr>\n",
       "  <th>Df Model:</th>              <td>     2</td>      <th>                     </th>     <td> </td>   \n",
       "</tr>\n",
       "<tr>\n",
       "  <th>Covariance Type:</th>      <td>nonrobust</td>    <th>                     </th>     <td> </td>   \n",
       "</tr>\n",
       "</table>\n",
       "<table class=\"simpletable\">\n",
       "<tr>\n",
       "         <td></td>           <th>coef</th>     <th>std err</th>      <th>t</th>      <th>P>|t|</th>  <th>[0.025</th>    <th>0.975]</th>  \n",
       "</tr>\n",
       "<tr>\n",
       "  <th>treatment code</th> <td>    0.9940</td> <td>    0.248</td> <td>    4.001</td> <td> 0.000</td> <td>    0.503</td> <td>    1.485</td>\n",
       "</tr>\n",
       "<tr>\n",
       "  <th>GRS score</th>      <td>    0.1225</td> <td>    0.105</td> <td>    1.164</td> <td> 0.246</td> <td>   -0.085</td> <td>    0.330</td>\n",
       "</tr>\n",
       "<tr>\n",
       "  <th>const</th>          <td>   -0.1272</td> <td>    0.642</td> <td>   -0.198</td> <td> 0.843</td> <td>   -1.395</td> <td>    1.140</td>\n",
       "</tr>\n",
       "</table>\n",
       "<table class=\"simpletable\">\n",
       "<tr>\n",
       "  <th>Omnibus:</th>       <td> 9.940</td> <th>  Durbin-Watson:     </th> <td>   1.788</td>\n",
       "</tr>\n",
       "<tr>\n",
       "  <th>Prob(Omnibus):</th> <td> 0.007</td> <th>  Jarque-Bera (JB):  </th> <td>  10.715</td>\n",
       "</tr>\n",
       "<tr>\n",
       "  <th>Skew:</th>          <td> 0.639</td> <th>  Prob(JB):          </th> <td> 0.00471</td>\n",
       "</tr>\n",
       "<tr>\n",
       "  <th>Kurtosis:</th>      <td> 2.868</td> <th>  Cond. No.          </th> <td>    17.4</td>\n",
       "</tr>\n",
       "</table><br/><br/>Notes:<br/>[1] Standard Errors assume that the covariance matrix of the errors is correctly specified."
      ],
      "text/plain": [
       "<class 'statsmodels.iolib.summary.Summary'>\n",
       "\"\"\"\n",
       "                            OLS Regression Results                            \n",
       "==============================================================================\n",
       "Dep. Variable:                E-Score   R-squared:                       0.112\n",
       "Model:                            OLS   Adj. R-squared:                  0.101\n",
       "Method:                 Least Squares   F-statistic:                     9.667\n",
       "Date:                Sat, 10 Dec 2022   Prob (F-statistic):           0.000111\n",
       "Time:                        15:44:27   Log-Likelihood:                -357.39\n",
       "No. Observations:                 156   AIC:                             720.8\n",
       "Df Residuals:                     153   BIC:                             729.9\n",
       "Df Model:                           2                                         \n",
       "Covariance Type:            nonrobust                                         \n",
       "==================================================================================\n",
       "                     coef    std err          t      P>|t|      [0.025      0.975]\n",
       "----------------------------------------------------------------------------------\n",
       "treatment code     0.9940      0.248      4.001      0.000       0.503       1.485\n",
       "GRS score          0.1225      0.105      1.164      0.246      -0.085       0.330\n",
       "const             -0.1272      0.642     -0.198      0.843      -1.395       1.140\n",
       "==============================================================================\n",
       "Omnibus:                        9.940   Durbin-Watson:                   1.788\n",
       "Prob(Omnibus):                  0.007   Jarque-Bera (JB):               10.715\n",
       "Skew:                           0.639   Prob(JB):                      0.00471\n",
       "Kurtosis:                       2.868   Cond. No.                         17.4\n",
       "==============================================================================\n",
       "\n",
       "Notes:\n",
       "[1] Standard Errors assume that the covariance matrix of the errors is correctly specified.\n",
       "\"\"\""
      ]
     },
     "execution_count": 13,
     "metadata": {},
     "output_type": "execute_result"
    }
   ],
   "source": [
    "# This part of the code sets our treatment code column in our dataframe forager_bee_no0 as a int. This is to ensure that when we model this data,\n",
    "# everything we use is an integer and not a string. This is just as a pre-caution just incase if treatment code was seen as a string.\n",
    "bee_marker = (forager_bee_no0['treatment code']).astype(int)\n",
    "# This part of the code creates a new dataframe with our E-score,Treatment code and GRS score. This new dataframe is stored into a variable called \n",
    "# to_model\n",
    "to_model = pd.DataFrame({\"E-Score\":forager_bee_no0['E-Score'],\n",
    "                         \"treatment code\": bee_marker,\n",
    "                        \"GRS score\": forager_bee_no0['GRS']})\n",
    "\n",
    "# This part of the code removes any null values from the E-score column. This new dataframe is stored into a variable called to_model again\n",
    "to_model = to_model[~pd.isnull(to_model['E-Score'])]\n",
    "# This part of the code adds a constant column into our dataframe to_model. This information is stored into our variable called to_model.\n",
    "to_model = sm.add_constant(to_model)\n",
    "# This part of the code sets the E-score column of our dataframe to_model into the variable y\n",
    "y = to_model[\"E-Score\"]\n",
    "# This part of the code sets the treatment code, GRS score, and the const column of our dataframe to_model into the variable X\n",
    "X = to_model.loc[:,(\"treatment code\",\"GRS score\",\"const\")]\n",
    "# This part of the code models our data, and stores the information into a variable called model_marker\n",
    "model_marker = sm.OLS(y, X).fit()\n",
    "# This part of the code displays the numerical values of our model\n",
    "model_marker.summary()"
   ]
  },
  {
   "cell_type": "markdown",
   "id": "9ca9f322-1569-4afe-9c56-70f3339f31a4",
   "metadata": {},
   "source": [
    "## **Interpreting the results of the model and its parameters**"
   ]
  },
  {
   "cell_type": "markdown",
   "id": "a51402d1-730b-4b05-b993-fe1df861105f",
   "metadata": {},
   "source": [
    "After creating our model with two features, we can se that the slope of our model is 0.9940 and 0.1225, with a intercept of -0.1272. This means that there is a positive correlation between E-score, and treatment code + GRS score.\n",
    "\n",
    "To check the certainty of our parameters, we can take a look at the confidence intervals of our parameters. When we take a look at the first slope, (treatment code) the confidence intervals all fall between a positive value, but our second slope (GRS score) had a negative and positive value in its confidence interval. The same can be seen in the confidence interval for our intercept that there is both a positive and negative number. Due to this we can't be certain about our parameters for our second slope and our intercept. \n",
    "\n",
    "However to further test this certainty, we can take a look at the p-value of our parameters. The p-value of our 1st slope (treatment code) was 0, the p-value of our 2nd slope (GRS) score was 0.246 and the p-value of our intercept was 0.843. Due to these high p-values for our 2nd and 3rd parameters, we fail to reject our null hypothesis making our parameters uncertain. Due to the p-value test failing, overall, we **can't be certain** that there is a positive relationship between the E-score and GRS score along with the treatment code."
   ]
  },
  {
   "cell_type": "markdown",
   "id": "a60366a1-3a93-412a-b193-2232c0fa8069",
   "metadata": {},
   "source": [
    "## **Interpreting the results of the model in everyday language**"
   ]
  },
  {
   "cell_type": "markdown",
   "id": "c0af3bd7-d48a-44e5-8019-33c5ff43e0e9",
   "metadata": {},
   "source": [
    "Based on the results of our model, we can conclude that GRS score and Treatment code does affect the E-score of bees, however, treatment code appears to have a stronger relationship to E-Score compared to the GRS score. In other words, when the treatment code increases, the E-score increases by 0.9940 and when the GRS score increases, the E-score increases by 0.1225. We can see that the E-score increases less for the GRS score compared to the treatment code. Showing that treatment code has a stronger relationship to our target feature, and that the **GRS score feature is not significant**. \n",
    "\n",
    "Additionally, since the p-value of our slope (GRS) is greater than 0.05 it further shows that our **GRS slope is insignificant**, meaning that the data we obtained from this model doesn't really show that GRS score has an significant effect on E-score. However, when we take a look at the p-value for our slope (treatment code), we can see that it has a p-value of 0. This means that **treatment code is a significant variable**, in other words it is a variable that has a visible effect on E-score.\n",
    "\n",
    "This further addresses our research question that flupyradifurone exposure (treatment group) does have an effect on E-score, however our GRS score may not have a big impact or significance."
   ]
  },
  {
   "cell_type": "markdown",
   "id": "de4bc326-68a0-49f8-913e-b2a4a0afb85c",
   "metadata": {},
   "source": [
    "## **Second - 2+ feature variable model**: I am using my target feature E-score, and my two other features are Bee group and GRS score."
   ]
  },
  {
   "cell_type": "markdown",
   "id": "00994837-8da2-4025-bda6-3cf98e5433b8",
   "metadata": {},
   "source": [
    "### Model 2: E-Score and Bee Group + GRS(Gustatory Responsiveness) Score"
   ]
  },
  {
   "cell_type": "code",
   "execution_count": 14,
   "id": "185bf8d6-7b51-4772-bf11-d15a3e5d2986",
   "metadata": {},
   "outputs": [
    {
     "data": {
      "text/html": [
       "<table class=\"simpletable\">\n",
       "<caption>OLS Regression Results</caption>\n",
       "<tr>\n",
       "  <th>Dep. Variable:</th>         <td>E-Score</td>     <th>  R-squared:         </th> <td>   0.048</td>\n",
       "</tr>\n",
       "<tr>\n",
       "  <th>Model:</th>                   <td>OLS</td>       <th>  Adj. R-squared:    </th> <td>   0.036</td>\n",
       "</tr>\n",
       "<tr>\n",
       "  <th>Method:</th>             <td>Least Squares</td>  <th>  F-statistic:       </th> <td>   3.862</td>\n",
       "</tr>\n",
       "<tr>\n",
       "  <th>Date:</th>             <td>Sat, 10 Dec 2022</td> <th>  Prob (F-statistic):</th>  <td>0.0231</td> \n",
       "</tr>\n",
       "<tr>\n",
       "  <th>Time:</th>                 <td>15:44:28</td>     <th>  Log-Likelihood:    </th> <td> -362.83</td>\n",
       "</tr>\n",
       "<tr>\n",
       "  <th>No. Observations:</th>      <td>   156</td>      <th>  AIC:               </th> <td>   731.7</td>\n",
       "</tr>\n",
       "<tr>\n",
       "  <th>Df Residuals:</th>          <td>   153</td>      <th>  BIC:               </th> <td>   740.8</td>\n",
       "</tr>\n",
       "<tr>\n",
       "  <th>Df Model:</th>              <td>     2</td>      <th>                     </th>     <td> </td>   \n",
       "</tr>\n",
       "<tr>\n",
       "  <th>Covariance Type:</th>      <td>nonrobust</td>    <th>                     </th>     <td> </td>   \n",
       "</tr>\n",
       "</table>\n",
       "<table class=\"simpletable\">\n",
       "<tr>\n",
       "    <td></td>       <th>coef</th>     <th>std err</th>      <th>t</th>      <th>P>|t|</th>  <th>[0.025</th>    <th>0.975]</th>  \n",
       "</tr>\n",
       "<tr>\n",
       "  <th>group</th> <td>    0.8648</td> <td>    0.402</td> <td>    2.149</td> <td> 0.033</td> <td>    0.070</td> <td>    1.660</td>\n",
       "</tr>\n",
       "<tr>\n",
       "  <th>GRS</th>   <td>    0.1667</td> <td>    0.108</td> <td>    1.542</td> <td> 0.125</td> <td>   -0.047</td> <td>    0.380</td>\n",
       "</tr>\n",
       "<tr>\n",
       "  <th>const</th> <td>    0.3928</td> <td>    0.746</td> <td>    0.526</td> <td> 0.599</td> <td>   -1.082</td> <td>    1.867</td>\n",
       "</tr>\n",
       "</table>\n",
       "<table class=\"simpletable\">\n",
       "<tr>\n",
       "  <th>Omnibus:</th>       <td>11.626</td> <th>  Durbin-Watson:     </th> <td>   1.844</td>\n",
       "</tr>\n",
       "<tr>\n",
       "  <th>Prob(Omnibus):</th> <td> 0.003</td> <th>  Jarque-Bera (JB):  </th> <td>  12.842</td>\n",
       "</tr>\n",
       "<tr>\n",
       "  <th>Skew:</th>          <td> 0.699</td> <th>  Prob(JB):          </th> <td> 0.00163</td>\n",
       "</tr>\n",
       "<tr>\n",
       "  <th>Kurtosis:</th>      <td> 2.855</td> <th>  Cond. No.          </th> <td>    19.8</td>\n",
       "</tr>\n",
       "</table><br/><br/>Notes:<br/>[1] Standard Errors assume that the covariance matrix of the errors is correctly specified."
      ],
      "text/plain": [
       "<class 'statsmodels.iolib.summary.Summary'>\n",
       "\"\"\"\n",
       "                            OLS Regression Results                            \n",
       "==============================================================================\n",
       "Dep. Variable:                E-Score   R-squared:                       0.048\n",
       "Model:                            OLS   Adj. R-squared:                  0.036\n",
       "Method:                 Least Squares   F-statistic:                     3.862\n",
       "Date:                Sat, 10 Dec 2022   Prob (F-statistic):             0.0231\n",
       "Time:                        15:44:28   Log-Likelihood:                -362.83\n",
       "No. Observations:                 156   AIC:                             731.7\n",
       "Df Residuals:                     153   BIC:                             740.8\n",
       "Df Model:                           2                                         \n",
       "Covariance Type:            nonrobust                                         \n",
       "==============================================================================\n",
       "                 coef    std err          t      P>|t|      [0.025      0.975]\n",
       "------------------------------------------------------------------------------\n",
       "group          0.8648      0.402      2.149      0.033       0.070       1.660\n",
       "GRS            0.1667      0.108      1.542      0.125      -0.047       0.380\n",
       "const          0.3928      0.746      0.526      0.599      -1.082       1.867\n",
       "==============================================================================\n",
       "Omnibus:                       11.626   Durbin-Watson:                   1.844\n",
       "Prob(Omnibus):                  0.003   Jarque-Bera (JB):               12.842\n",
       "Skew:                           0.699   Prob(JB):                      0.00163\n",
       "Kurtosis:                       2.855   Cond. No.                         19.8\n",
       "==============================================================================\n",
       "\n",
       "Notes:\n",
       "[1] Standard Errors assume that the covariance matrix of the errors is correctly specified.\n",
       "\"\"\""
      ]
     },
     "execution_count": 14,
     "metadata": {},
     "output_type": "execute_result"
    }
   ],
   "source": [
    "# This part of the code imports our statsmodel package\n",
    "import statsmodels.api as sm\n",
    "# This part of the code sets our group column in our dataframe forager_bee_no0 as a int. This is to ensure that when we model this data,\n",
    "# everything we use is an integer and not a string. This is just as a pre-caution just incase if group column was seen as a string.\n",
    "bee_marker = (forager_bee_no0['group']).astype(int)\n",
    "# This part of the code creates a new dataframe with our E-score, the group column and GRS score. This new dataframe is stored into a variable called \n",
    "# to_model\n",
    "to_model = pd.DataFrame({\"E-Score\":forager_bee_no0['E-Score'],\n",
    "                         \"group\": bee_marker,\n",
    "                        \"GRS\": forager_bee_no0['GRS']})\n",
    "\n",
    "# This part of the code removes any null values from the E-score column. This new dataframe is stored into a variable called to_model again\n",
    "to_model = to_model[~pd.isnull(to_model['E-Score'])]\n",
    "# This part of the code adds a constant column into our dataframe to_model. This information is stored into our variable called to_model.\n",
    "to_model = sm.add_constant(to_model)\n",
    "# This part of the code sets the E-score column of our dataframe to_model into the variable y_score\n",
    "y_score = to_model[\"E-Score\"]\n",
    "# This part of the code sets the group, GRS and const column of our dataframe to_model into the variable X_group\n",
    "X_group = to_model.loc[:,(\"group\",\"GRS\",\"const\")]\n",
    "# This part of the code models our data, and stores the information into a variable called model_group\n",
    "model_group = sm.OLS(y_score, X_group).fit()\n",
    "# This part of the code displays the numerical values of our model\n",
    "model_group.summary()"
   ]
  },
  {
   "cell_type": "markdown",
   "id": "794ddac2-038e-4daf-b11e-dc39866e9f97",
   "metadata": {},
   "source": [
    "## **Interpreting the results of the model and its parameters**"
   ]
  },
  {
   "cell_type": "markdown",
   "id": "3c5fc00e-3a7c-4e17-af9b-35cc813cc290",
   "metadata": {},
   "source": [
    "Based on the results of the model, we can see that we have two positive slopes, 0.8648 and 0.1667 with a intercept of 0.3928. Since it is a positive slope it shows that there is a positive relationship between E-score and bee group as well as the GRS score. \n",
    "\n",
    "Similar to the previous model, to test the certainty of this relationship/parameter I decided to look at the confidence interval of our parameters. The confidence interval of our first slope are both positive numbers, however similar to our last model, both our 2nd slope and the intercept contains a positive and a negative number in its confidence interval. Due to this we **can't be certain** that all our parameters have a positive relationship to E-score. \n",
    "\n",
    "However, once again, to further test the certainty of our parameters, we can take a look at the p-value. The p-value of our first slope (group) was 0.033, the p-value of our second slope (GRS) was 0.125 and the p-value of our intercept was 0.599. Since two of our parameters, the second slope and our intercept had a high p-value over 0.05, we cannot be certain of our parameters. Due to the second certainty test giving us mixed results, we **can't be certain** about our parameters."
   ]
  },
  {
   "cell_type": "markdown",
   "id": "8574d84b-42b5-4468-99ed-e9aaae0ebd3e",
   "metadata": {},
   "source": [
    "## **Interpreting the results of the model in everyday language**"
   ]
  },
  {
   "cell_type": "markdown",
   "id": "2d57d3b0-43c0-4f64-9c07-69789809715a",
   "metadata": {},
   "source": [
    "Based on the results of the model, we can conclude that Bee group and GRS score does have an effect on E-score of bees. However we can see that, there is a stronger relationship between different bee group (bee type) on E-score compared to the GRS score, meaning that **the slope (GRS score) is not as significant** compared to the other feature/slope, bee group. In other words, we can see that when the bee group changes/increases (in other words when the type of bee changes), the E-score increases by 0.8648 and when the GRS score increases/changes, the E-score increases by 0.1667. Meaning that bee group has a stronger relationship **(more significant)** to E-score compared to the GRS score variable **(less significant)**. \n",
    "\n",
    "Additionally, when we take a look at the p-value of our slope for GRS,  we can see that it has a p-value greater than 0.05. This further shows that **GRS score is not a significant factor** in affecting E-score. However, if we take a look at the p-value for our slope (group), we can see that it has a value that is under 0.05, showing that **group is a significant variable**.\n",
    "\n",
    "This further addresses our research question and also shows that being in different bee groups (being a different bee type) has an effect on E-score."
   ]
  },
  {
   "cell_type": "markdown",
   "id": "c31934d2-0443-4871-9979-9220ed8ad588",
   "metadata": {},
   "source": [
    "## **Comparision of the two 2-variable models using two model metrics**"
   ]
  },
  {
   "cell_type": "markdown",
   "id": "1d6e2bd0-74f6-4bc8-94d9-b7cfab43953c",
   "metadata": {},
   "source": [
    "**Comparison of R-Square Values:**\n",
    "\n",
    "**Model 1:** Has a R-Square of 0.112\n",
    "\n",
    "**Model 2:** Has a R-Square of 0.048\n",
    "\n",
    "**Comparison of log-likelihood Values:**\n",
    "\n",
    "**Model 1:** Has a log-likelihood of -357.39\n",
    "\n",
    "**Model 2:** Has a log-likelihood of -362.83\n",
    "\n",
    "Upon comparing the R-Square and log-likelihood values between our two, two variable models, we can see that model 1 is a better predictor for our target feature (E-Score). As mentioned earlier, a higher R-square value means that it is a better model, and we can see that model 1 has a higher R-squared value of 0.112 compared to model 2 with a R-squared value of 0.048. When we compared the log-likelihood values, a log-likelihood value that is closer to 0 is the better model. When the log-likelihood values were compared between the two models, we can see that model 1 had a log-likelihood value of -357.39, which is closer to 0 compared to model 2 with a log-likelihood value of -362.83. Based on the comparisons, model 1 is the better model for predicting our target feature."
   ]
  },
  {
   "cell_type": "markdown",
   "id": "4fcebd15-46b9-47d7-903a-9adfccb961bb",
   "metadata": {},
   "source": [
    "## <u>Research Question 2: Was the GRS score affected more by exposure to flupyradifurone or being in different bee groups?</u>"
   ]
  },
  {
   "cell_type": "markdown",
   "id": "4065f970-3d8f-43e2-befb-943a8c8ab29e",
   "metadata": {},
   "source": [
    "For the purpose of this research question my target feature is GRS score, which is the same target feature for one of my questions in part 3 of my project. GRS score relates to the taste response of bees, and essentially I wanted to see what variable had more of an effect on the taste response. So, creating a linear model for this feature would help answer my research question because it can help me see which feature had a higher impact on GRS score. In other words, which feature had the best correlation to GRS score. \n",
    "\n",
    "**Hypothesis:** Exposure to flupyradifurone has a higher effect on GRS score compared to being in different bee groups."
   ]
  },
  {
   "cell_type": "markdown",
   "id": "137bbde6-302f-422b-8777-af59be10c467",
   "metadata": {},
   "source": [
    "### Model 1: GRS score and flupyradifurone exposure"
   ]
  },
  {
   "cell_type": "markdown",
   "id": "f834b86f-9013-44cf-a68c-c2fdaf5bf4cc",
   "metadata": {},
   "source": [
    "With this first model, I wanted to see how exposure to flupyradifurone affected the GRS score of bees. With this model I am basically trying to ask if flupyradifurone exposure has an effect on GRS score. This model would be able to tell me if flupyradifurone exposure had a positive or negative relationship to GRS score."
   ]
  },
  {
   "cell_type": "code",
   "execution_count": 15,
   "id": "6e56f35d-38e2-4603-a530-cb69d1d9e043",
   "metadata": {},
   "outputs": [
    {
     "data": {
      "text/html": [
       "<table class=\"simpletable\">\n",
       "<caption>OLS Regression Results</caption>\n",
       "<tr>\n",
       "  <th>Dep. Variable:</th>        <td>GRS score</td>    <th>  R-squared:         </th> <td>   0.222</td>\n",
       "</tr>\n",
       "<tr>\n",
       "  <th>Model:</th>                   <td>OLS</td>       <th>  Adj. R-squared:    </th> <td>   0.219</td>\n",
       "</tr>\n",
       "<tr>\n",
       "  <th>Method:</th>             <td>Least Squares</td>  <th>  F-statistic:       </th> <td>   92.40</td>\n",
       "</tr>\n",
       "<tr>\n",
       "  <th>Date:</th>             <td>Sat, 10 Dec 2022</td> <th>  Prob (F-statistic):</th> <td>2.07e-19</td>\n",
       "</tr>\n",
       "<tr>\n",
       "  <th>Time:</th>                 <td>15:44:28</td>     <th>  Log-Likelihood:    </th> <td> -716.14</td>\n",
       "</tr>\n",
       "<tr>\n",
       "  <th>No. Observations:</th>      <td>   326</td>      <th>  AIC:               </th> <td>   1436.</td>\n",
       "</tr>\n",
       "<tr>\n",
       "  <th>Df Residuals:</th>          <td>   324</td>      <th>  BIC:               </th> <td>   1444.</td>\n",
       "</tr>\n",
       "<tr>\n",
       "  <th>Df Model:</th>              <td>     1</td>      <th>                     </th>     <td> </td>   \n",
       "</tr>\n",
       "<tr>\n",
       "  <th>Covariance Type:</th>      <td>nonrobust</td>    <th>                     </th>     <td> </td>   \n",
       "</tr>\n",
       "</table>\n",
       "<table class=\"simpletable\">\n",
       "<tr>\n",
       "         <td></td>           <th>coef</th>     <th>std err</th>      <th>t</th>      <th>P>|t|</th>  <th>[0.025</th>    <th>0.975]</th>  \n",
       "</tr>\n",
       "<tr>\n",
       "  <th>treatment code</th> <td>    1.4100</td> <td>    0.147</td> <td>    9.612</td> <td> 0.000</td> <td>    1.121</td> <td>    1.699</td>\n",
       "</tr>\n",
       "<tr>\n",
       "  <th>const</th>          <td>    0.7656</td> <td>    0.312</td> <td>    2.451</td> <td> 0.015</td> <td>    0.151</td> <td>    1.380</td>\n",
       "</tr>\n",
       "</table>\n",
       "<table class=\"simpletable\">\n",
       "<tr>\n",
       "  <th>Omnibus:</th>       <td>11.631</td> <th>  Durbin-Watson:     </th> <td>   2.119</td>\n",
       "</tr>\n",
       "<tr>\n",
       "  <th>Prob(Omnibus):</th> <td> 0.003</td> <th>  Jarque-Bera (JB):  </th> <td>   6.495</td>\n",
       "</tr>\n",
       "<tr>\n",
       "  <th>Skew:</th>          <td> 0.151</td> <th>  Prob(JB):          </th> <td>  0.0389</td>\n",
       "</tr>\n",
       "<tr>\n",
       "  <th>Kurtosis:</th>      <td> 2.378</td> <th>  Cond. No.          </th> <td>    6.56</td>\n",
       "</tr>\n",
       "</table><br/><br/>Notes:<br/>[1] Standard Errors assume that the covariance matrix of the errors is correctly specified."
      ],
      "text/plain": [
       "<class 'statsmodels.iolib.summary.Summary'>\n",
       "\"\"\"\n",
       "                            OLS Regression Results                            \n",
       "==============================================================================\n",
       "Dep. Variable:              GRS score   R-squared:                       0.222\n",
       "Model:                            OLS   Adj. R-squared:                  0.219\n",
       "Method:                 Least Squares   F-statistic:                     92.40\n",
       "Date:                Sat, 10 Dec 2022   Prob (F-statistic):           2.07e-19\n",
       "Time:                        15:44:28   Log-Likelihood:                -716.14\n",
       "No. Observations:                 326   AIC:                             1436.\n",
       "Df Residuals:                     324   BIC:                             1444.\n",
       "Df Model:                           1                                         \n",
       "Covariance Type:            nonrobust                                         \n",
       "==================================================================================\n",
       "                     coef    std err          t      P>|t|      [0.025      0.975]\n",
       "----------------------------------------------------------------------------------\n",
       "treatment code     1.4100      0.147      9.612      0.000       1.121       1.699\n",
       "const              0.7656      0.312      2.451      0.015       0.151       1.380\n",
       "==============================================================================\n",
       "Omnibus:                       11.631   Durbin-Watson:                   2.119\n",
       "Prob(Omnibus):                  0.003   Jarque-Bera (JB):                6.495\n",
       "Skew:                           0.151   Prob(JB):                       0.0389\n",
       "Kurtosis:                       2.378   Cond. No.                         6.56\n",
       "==============================================================================\n",
       "\n",
       "Notes:\n",
       "[1] Standard Errors assume that the covariance matrix of the errors is correctly specified.\n",
       "\"\"\""
      ]
     },
     "execution_count": 15,
     "metadata": {},
     "output_type": "execute_result"
    }
   ],
   "source": [
    "# This part of the code sets our treatment code column in our dataframe forager_bee_no0 as a int. This is to ensure that when we model this data,\n",
    "# everything we use is an integer and not a string. This is just as a pre-caution just incase if treatment code was seen as a string.\n",
    "bee_marker = (forager_bee_no0['treatment code']).astype(int)\n",
    "# This part of the code creates a new dataframe with our GRS score and the Treatment code. This new dataframe is stored into a variable called to_model\n",
    "to_model = pd.DataFrame({\"GRS score\":forager_bee_no0['GRS'],\n",
    "                         \"treatment code\": bee_marker})\n",
    "\n",
    "# This part of the code removes any null values from the GRS column. This new dataframe is stored into a variable called to_model again\n",
    "to_model = to_model[~pd.isnull(to_model['GRS score'])]\n",
    "# This part of the code adds a constant column into our dataframe to_model. This information is stored into our variable called to_model.\n",
    "to_model = sm.add_constant(to_model)\n",
    "# This part of the code sets the GRS score column of our dataframe to_model into the variable y\n",
    "y = to_model[\"GRS score\"]\n",
    "# This part of the code sets the treatment code, and const column of our dataframe to_model into the variable X\n",
    "X = to_model.loc[:,(\"treatment code\",\"const\")]\n",
    "# This part of the code models our data, and stores the information into a variable called model_marker\n",
    "model_marker = sm.OLS(y, X).fit()\n",
    "# This part of the code displays the numerical values of our model\n",
    "model_marker.summary()"
   ]
  },
  {
   "cell_type": "markdown",
   "id": "48614024-0a72-44bc-ab44-9e01631f642e",
   "metadata": {},
   "source": [
    "## **Interpreting the results of the model and its parameters**"
   ]
  },
  {
   "cell_type": "markdown",
   "id": "2ef5154e-b5bc-48e4-8228-3b5b499fdfbb",
   "metadata": {},
   "source": [
    "Based on the model, we can see that the slope of our model is 1.4100 and our intercept is 0.7656. Since our slope is positive, it means that there is a positive relationship between GRS score and flupyradifurone exposure. \n",
    "\n",
    "To determine the certainty of our parameters, I took a look at the confidence interval of our model. We can see that the confidence intervals of our slope (treatment code) are both positive numbers, this means that our data will be between these numbers. Additionally when we take a look at the confidence interval for our intercept (const), it also shows two positive numbers, meaning that our intercept will be between these two positive numbers because our confidence intervals are positive, further supporting that our parameters are indeed positive. Due to this, we can be **certain** that our parameters are positive. \n",
    "\n",
    "To further see if this parameter is accurate, we can take a look at the p-value of both parameters. The p-value of our slope was 0 and the p value of our intercept was 0.015. Since both of our p-value is under our alpha (0.05) we can reject our null hypothesis, further confirming that there is a relationship between GRS score and flupyradifurone exposure. Due to this we can be **certain** about our parameters."
   ]
  },
  {
   "cell_type": "markdown",
   "id": "ea6ad6f3-6eac-4b92-860a-b78b4b1f6a6c",
   "metadata": {},
   "source": [
    "## **Interpreting the results of the model in everyday language**"
   ]
  },
  {
   "cell_type": "markdown",
   "id": "201fec70-1d4c-414c-b9be-77f82f623f4b",
   "metadata": {},
   "source": [
    "Based on the results, we can conclude that as treatment code increases (in this case the highest exposure to the chemical is treatment code 1, medium exposure is treatment code 2 and the least exposure is treatment code 3), the GRS score of the bees increased. Which shows that GRS score increases by 1.4100 as the treatment code goes up. This shows that GRS score is indeed greatly affected by fluypyradifurone exposure. We can conclude this due to a significant change of 1.4100 in GRS score as flypuradifurone exposure changes."
   ]
  },
  {
   "cell_type": "markdown",
   "id": "c9986e23-0765-4793-88e1-fa0f342d2470",
   "metadata": {},
   "source": [
    "### Model 2: GRS score and bee group"
   ]
  },
  {
   "cell_type": "markdown",
   "id": "272bd4a6-e01f-48c2-a037-47a16e992348",
   "metadata": {},
   "source": [
    "With this second model, I wanted to see how being in different bee groups affected the GRS score. With this model, I am trying to ask if GRS score is affected by being in different bee groups. This model would be able to address my hypothesis as it can tell me if being in different bee groups (or being a different bee type) had a positive or negative relationship to GRS score. \n",
    "\n",
    "**As stated previously, using bee group would make sense for this model because when we increase our bee group we are essentially changing our bee type. This scientific paper categorizes these bees into different groups based on what type of forager bee it is. These groups do not consists of the same type of bee. These groups are actually different, containing different types of bees (not the same ones). So by changing our bee group (from group 1 to group 2) we can see if one of these two groups performed better than the other in terms of their GRS score.**"
   ]
  },
  {
   "cell_type": "code",
   "execution_count": 16,
   "id": "fdbf0024-bb3f-4d69-90a5-89e1bfd96a30",
   "metadata": {},
   "outputs": [
    {
     "data": {
      "text/html": [
       "<table class=\"simpletable\">\n",
       "<caption>OLS Regression Results</caption>\n",
       "<tr>\n",
       "  <th>Dep. Variable:</th>        <td>GRS score</td>    <th>  R-squared:         </th> <td>   0.001</td>\n",
       "</tr>\n",
       "<tr>\n",
       "  <th>Model:</th>                   <td>OLS</td>       <th>  Adj. R-squared:    </th> <td>  -0.002</td>\n",
       "</tr>\n",
       "<tr>\n",
       "  <th>Method:</th>             <td>Least Squares</td>  <th>  F-statistic:       </th> <td>  0.4578</td>\n",
       "</tr>\n",
       "<tr>\n",
       "  <th>Date:</th>             <td>Sat, 10 Dec 2022</td> <th>  Prob (F-statistic):</th>  <td> 0.499</td> \n",
       "</tr>\n",
       "<tr>\n",
       "  <th>Time:</th>                 <td>15:44:28</td>     <th>  Log-Likelihood:    </th> <td> -756.81</td>\n",
       "</tr>\n",
       "<tr>\n",
       "  <th>No. Observations:</th>      <td>   326</td>      <th>  AIC:               </th> <td>   1518.</td>\n",
       "</tr>\n",
       "<tr>\n",
       "  <th>Df Residuals:</th>          <td>   324</td>      <th>  BIC:               </th> <td>   1525.</td>\n",
       "</tr>\n",
       "<tr>\n",
       "  <th>Df Model:</th>              <td>     1</td>      <th>                     </th>     <td> </td>   \n",
       "</tr>\n",
       "<tr>\n",
       "  <th>Covariance Type:</th>      <td>nonrobust</td>    <th>                     </th>     <td> </td>   \n",
       "</tr>\n",
       "</table>\n",
       "<table class=\"simpletable\">\n",
       "<tr>\n",
       "    <td></td>       <th>coef</th>     <th>std err</th>      <th>t</th>      <th>P>|t|</th>  <th>[0.025</th>    <th>0.975]</th>  \n",
       "</tr>\n",
       "<tr>\n",
       "  <th>group</th> <td>   -0.1860</td> <td>    0.275</td> <td>   -0.677</td> <td> 0.499</td> <td>   -0.727</td> <td>    0.355</td>\n",
       "</tr>\n",
       "<tr>\n",
       "  <th>const</th> <td>    3.8053</td> <td>    0.424</td> <td>    8.973</td> <td> 0.000</td> <td>    2.971</td> <td>    4.640</td>\n",
       "</tr>\n",
       "</table>\n",
       "<table class=\"simpletable\">\n",
       "<tr>\n",
       "  <th>Omnibus:</th>       <td>267.624</td> <th>  Durbin-Watson:     </th> <td>   2.071</td>\n",
       "</tr>\n",
       "<tr>\n",
       "  <th>Prob(Omnibus):</th> <td> 0.000</td>  <th>  Jarque-Bera (JB):  </th> <td>  21.419</td>\n",
       "</tr>\n",
       "<tr>\n",
       "  <th>Skew:</th>          <td> 0.002</td>  <th>  Prob(JB):          </th> <td>2.23e-05</td>\n",
       "</tr>\n",
       "<tr>\n",
       "  <th>Kurtosis:</th>      <td> 1.744</td>  <th>  Cond. No.          </th> <td>    6.63</td>\n",
       "</tr>\n",
       "</table><br/><br/>Notes:<br/>[1] Standard Errors assume that the covariance matrix of the errors is correctly specified."
      ],
      "text/plain": [
       "<class 'statsmodels.iolib.summary.Summary'>\n",
       "\"\"\"\n",
       "                            OLS Regression Results                            \n",
       "==============================================================================\n",
       "Dep. Variable:              GRS score   R-squared:                       0.001\n",
       "Model:                            OLS   Adj. R-squared:                 -0.002\n",
       "Method:                 Least Squares   F-statistic:                    0.4578\n",
       "Date:                Sat, 10 Dec 2022   Prob (F-statistic):              0.499\n",
       "Time:                        15:44:28   Log-Likelihood:                -756.81\n",
       "No. Observations:                 326   AIC:                             1518.\n",
       "Df Residuals:                     324   BIC:                             1525.\n",
       "Df Model:                           1                                         \n",
       "Covariance Type:            nonrobust                                         \n",
       "==============================================================================\n",
       "                 coef    std err          t      P>|t|      [0.025      0.975]\n",
       "------------------------------------------------------------------------------\n",
       "group         -0.1860      0.275     -0.677      0.499      -0.727       0.355\n",
       "const          3.8053      0.424      8.973      0.000       2.971       4.640\n",
       "==============================================================================\n",
       "Omnibus:                      267.624   Durbin-Watson:                   2.071\n",
       "Prob(Omnibus):                  0.000   Jarque-Bera (JB):               21.419\n",
       "Skew:                           0.002   Prob(JB):                     2.23e-05\n",
       "Kurtosis:                       1.744   Cond. No.                         6.63\n",
       "==============================================================================\n",
       "\n",
       "Notes:\n",
       "[1] Standard Errors assume that the covariance matrix of the errors is correctly specified.\n",
       "\"\"\""
      ]
     },
     "execution_count": 16,
     "metadata": {},
     "output_type": "execute_result"
    }
   ],
   "source": [
    "# This part of the code sets our group column in our dataframe forager_bee_no0 as a int. This is to ensure that when we model this data,\n",
    "# everything we use is an integer and not a string. This is just as a pre-caution just incase if the group column was seen as a string.\n",
    "bee_marker = (forager_bee_no0['group']).astype(int)\n",
    "# This part of the code creates a new dataframe with our GRS score and the group. This new dataframe is stored into a variable called to_model\n",
    "to_model = pd.DataFrame({\"GRS score\":forager_bee_no0['GRS'],\n",
    "                         \"group\": bee_marker})\n",
    "\n",
    "# This part of the code removes any null values from the GRS column. This new dataframe is stored into a variable called to_model again\n",
    "to_model = to_model[~pd.isnull(to_model['GRS score'])]\n",
    "# This part of the code adds a constant column into our dataframe to_model. This information is stored into our variable called to_model.\n",
    "to_model = sm.add_constant(to_model)\n",
    "# This part of the code sets the GRS column of our dataframe to_model into the variable y\n",
    "y = to_model[\"GRS score\"]\n",
    "# This part of the code sets the group, and const column of our dataframe to_model into the variable X\n",
    "X = to_model.loc[:,(\"group\",\"const\")]\n",
    "# This part of the code models our data, and stores the information into a variable called model_marker\n",
    "model_marker = sm.OLS(y, X).fit()\n",
    "# This part of the code displays the numerical values of our model\n",
    "model_marker.summary()"
   ]
  },
  {
   "cell_type": "markdown",
   "id": "911761b6-cf92-46cc-9b50-77e3dff4522b",
   "metadata": {},
   "source": [
    "## **Interpreting the results of the model and its parameters**"
   ]
  },
  {
   "cell_type": "markdown",
   "id": "33eee09b-e4c9-4a43-af4f-5337cf8d0f21",
   "metadata": {},
   "source": [
    "Based on the results of the model, we can see that our slope is negative with a value of -0.1860 and a intercept of 3.8053. Since our slope is negative, it means that there is a negative relationship between bee group and GRS score. \n",
    "\n",
    "To confirm the certainty of our parameters, I took a look at the confidence interval of our model. When we take a look at the confidence interval of our model, we can see that our slope (group) had a negative and positive number. The confidence interval for our intercept (const) had both positive number for its confidence interval. Now due to our slope having a positive and negative number for its confidence interval, we can't be certain about our negative slope because we have a positive number in our confidence interval.\n",
    "\n",
    "To further determine the certainty of our parameters we can take a look at the p-value. The p-value of our slope  is 0.499 and the p-value of our intercept is 0. Since we have a p-value that is greater than 0.05 for our slope, we fail to reject our null hypothesis, further confirming that GRS score may not be particularly affected by different bee groups. Due to this we **can't be certain** about our parameters."
   ]
  },
  {
   "cell_type": "markdown",
   "id": "2c074f50-efbe-4503-9791-73143e4714ec",
   "metadata": {},
   "source": [
    "## **Interpreting the results of the model in everyday language**"
   ]
  },
  {
   "cell_type": "markdown",
   "id": "0f817de2-6b00-4d44-ac1d-0337767952f9",
   "metadata": {},
   "source": [
    "However, based on the overall results, it can be assumed/concluded that as the bee group changes (increases) the GRS score decreases by 0.1860, meaning that bee group may have an effect on GRS score. In other words, as the bee type changes, (from pollen (group 1) to nectar forager bees (group 2)) we can see a decrease in GRS score by 0.1860. This means that between these two different types of forager bee, one type of forager bee may perform better than others in terms of their GRS score."
   ]
  },
  {
   "cell_type": "markdown",
   "id": "7ff276c3-2f84-485a-ab36-d52d2130fdd1",
   "metadata": {},
   "source": [
    "## **Comparision of the two single variable models using two model metrics**"
   ]
  },
  {
   "cell_type": "markdown",
   "id": "58269b04-095d-47e1-9d45-5eee1de39ddf",
   "metadata": {},
   "source": [
    "**Comparison of R-Square Values:**\n",
    "\n",
    "**Model 1:** Has a R-Square value of 0.222\n",
    "\n",
    "**Model 2:** Has a R-Square value of 0.001\n",
    "\n",
    "**Comparison of log-likelihood Values:**\n",
    "\n",
    "**Model 1:** Has a R-Square value of -716.14\n",
    "\n",
    "**Model 2:** Has a R-Square value of -756.81\n",
    "\n",
    "Upon comparison of the R-square and log-likelihood values between our two models, model 1 appears to be the better model. As mentioned before, the higher the R-Square value, the better the model (the better the model fits our data), and when we compare the R-squared values we can see that model 1 had a higher R-squared compared to model 2. Additionally, when we compare the log-likelihood values, a value that is closer to 0 is a better model. So when we once again compare the log-lileihood values of the two models, we can see that model 1 has a log-likelihood value that is closer to 0. Since model 1 had a higher R-squared value and a log-likelihood closer to 0, this means that model 1 is a better predictor of our target feature (GRS score). Which supports my hypothesis that flupyradifurone exposure has a higher effect on GRS score.\n"
   ]
  }
 ],
 "metadata": {
  "kernelspec": {
   "display_name": "Python 3 (ipykernel)",
   "language": "python",
   "name": "python3"
  },
  "language_info": {
   "codemirror_mode": {
    "name": "ipython",
    "version": 3
   },
   "file_extension": ".py",
   "mimetype": "text/x-python",
   "name": "python",
   "nbconvert_exporter": "python",
   "pygments_lexer": "ipython3",
   "version": "3.9.12"
  }
 },
 "nbformat": 4,
 "nbformat_minor": 5
}
