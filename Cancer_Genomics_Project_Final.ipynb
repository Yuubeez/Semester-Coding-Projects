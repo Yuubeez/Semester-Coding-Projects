{
 "cells": [
  {
   "cell_type": "markdown",
   "id": "3da4ad32-290e-44eb-8d3c-7ab48b421cf3",
   "metadata": {
    "tags": []
   },
   "source": [
    "## **Introduction: Bladder Cancer and IDH1 Pathway**"
   ]
  },
  {
   "cell_type": "markdown",
   "id": "09007274-b068-471e-82d1-8fd1480b3983",
   "metadata": {},
   "source": [
    "**Cancer Type:** Bladder Cancer\n",
    "\n",
    "Bladder cancer is a type of cancer that develops in the bladder, which is a muscular organ in the pelvis that stores urine. Most bladder cancers are urothelial carcinomas, with the majority of them being non-muscle invasive. These They usually have a favorable prognosis but are associated with considerable morbidity and high cost for treatment. It is the 5th most prevalent cancer in the United States, and worldwide it ranks itself as the 10th most common cancer. About 1 in 27 men will have a chance to develop this disease in their lifetime, and for women the chance is about 1 in 89. In 2019, there were 75,022 reported new cases of urinary bladder cancer, and of the 75,022 cases, 16,796 people died as a result. For every 100,000 people, 18 new bladder cancer cases were reported and 4 people died of this cancer. Some common symptoms of bladder cancer include blood in the urine, frequent or painful urination, and pain in the lower back or pelvis. Risk factors for bladder cancer include smoking, exposure to certain chemicals, radiation therapy to the pelvis, a family history of bladder cancer, and chronic bladder inflammation. Treatment options for bladder cancer can vary depending on the stage or location of the cancer, and can include surgery, chemotherapy, radiation therapy, and immunotherapy In this project, we will take a look at a specific pathway called IDH1, and the mutations that cause this pathway to affect the development of this disease.\n",
    "\n",
    "**Pathway:** IDH1\n",
    "\n",
    "The IDH1 (Isocitrate Dehydrogenase 1) pathway is a metabolic process that is vital in energy metabolism, such as breaking down fats for energy, maintaining redox reaction balance, and protecting cells from harmful molecules. When this pathway is affected in cancer, it can cause abnormal cell growth that can spread throughout the body due to abnormalities in gene expression.\n",
    "\n",
    "**Obervations:** There are 130 unique patient observations, however there are 28,268 gene mutations (rows) due to the data displaying multiple mutational information per patient.\n",
    "\n",
    "**Features:** There are 37 features in this study, these features include: \n",
    "\n",
    "**Molecular Profile ID:** blca_tcga_mutations (34 Unique Features)\n",
    "- AlleleSpecificCopyNumber\n",
    "- AminoAcidChange\n",
    "- Center\n",
    "- Chromosome number\n",
    "- DriverFilter\n",
    "- DriverFilterAnnotation\n",
    "- DriverTiersFilter\n",
    "- DriverTiersFilterAnnotation\n",
    "- EndPosition\n",
    "- EntrezGeneId\n",
    "- Gene\n",
    "- Keyword\n",
    "- MolecularProfileId\n",
    "- MutationStatus\n",
    "- MutationType\n",
    "- NamespaceColumns\n",
    "- NcbiBuild\n",
    "- NormalAltCount\n",
    "- NormalRefCount\n",
    "- PatientId\n",
    "- ProteinChange\n",
    "- ProteinPosEnd\n",
    "- ProteinPosStart\n",
    "- ReferenceAllele\n",
    "- RefseqMrnaId\n",
    "- SampleId\n",
    "- StartPosition\n",
    "- StudyId\n",
    "- TumorAltCount\n",
    "- TumorRefCount\n",
    "- UniquePatientKey\n",
    "- UniqueSampleKey\n",
    "- ValidationStatus\n",
    "- VariantAllele\n",
    "- VariantType\n",
    "\n",
    "**Molecular Profile ID:** blca_tcga_gistic (1 unique feature)\n",
    "- UniqueSampleKey\n",
    "- UniquePatientKey\n",
    "- EntrezGeneId\n",
    "- MolecularProfileId\n",
    "- SampleId\n",
    "- PatientId\n",
    "- StudyId\n",
    "- Value\n",
    "\n",
    "**Molecular Profile ID:** blca_tcga_rna_seq_v2_mrna (1 unique feature)\n",
    "- UniqueSampleKey\n",
    "- UniquePatientKey\n",
    "- EntrezGeneId\n",
    "- MolecularProfileId\n",
    "- SampleId\n",
    "- PatientId\n",
    "- StudyId\n",
    "- Value\n",
    "\n",
    "**Molecular Profile ID:** blca_tcga_methylation_hm450 (1 unique feature)\n",
    "- UniqueSampleKey\n",
    "- UniquePatientKey\n",
    "- EntrezGeneId\n",
    "- MolecularProfileId\n",
    "- SampleId\n",
    "- PatientId\n",
    "- StudyId\n",
    "- Value"
   ]
  },
  {
   "cell_type": "markdown",
   "id": "4d70c350-682b-425a-95dc-3c2c43af1b99",
   "metadata": {
    "tags": []
   },
   "source": [
    "## Analysis of genes in IDH1 Pathway"
   ]
  },
  {
   "cell_type": "markdown",
   "id": "18af2f1a-5496-4989-85a7-75116276ce89",
   "metadata": {},
   "source": [
    "- **IDH1:** A gene that makes a protein that protects cells from harmful molecules and breaking down fats for energy. Mutations in this gene has been found in different cancers and some genetic conditions including brain cancer, bladder cancer and acute myeloid leukemia. This mutation can cause cell abnormality, and cause cancer cells to grow and spread in the body. This gene encodes for the isocitrate dehydrogenase 1 enzyme, and a mutation in this gene can result in the production of 2-hydroxyglutarate (2-HG) in the Krebs cycle, instead of the normal conversion of isocitrate to alpha-ketoglutarate.\n",
    "\n",
    "- **IDH2:** A gene that makes a protein that encodes for the isocitrate dehydrogenase 2 (IDH2) enzyme that can be found in the mitochondria. This is another isoform of IDH that is also involved in the krebs cycle. This gene can help the mitochondria produce energy for many cellular functions. Mutations in this gene are also similarly found in different cancers and genetic diseases caused by the IDH1 gene. This mutation can affect the IDH pathway and lead to the production of isocitrate dehydrogenase-2 gene (2-HG)\n",
    "\n",
    "- **TET2:** This gene encodes for an enzyme called ten-eleven translocation 2 (TET2), and is involved in DNA methylation. This gene has been found to regulate the expressions of genes that are involved in the IDH1 pathway\n",
    "\n",
    "- **DNMT3A:** This gene makes a enzyme called DNA methltransferase 3A (DNMT3a), and is also involved in DNA methlyation just like TET2. However, this gene can impact the expression of genes that are involved in the IDH1 pathway.\n",
    "\n",
    "- **TP53:** This gene makes a protein called p53, which is a tumor suppressor. This gene, similar to the TET2 gene can indirectly regulate the expression of genes that are involved in the IDH1 pathway. However, it can also regulate genes that are involved in other metabolic pathways. Mutations in this gene can lead to consequences such as the development of cancer due to disruptions in cellular metabolism.\n",
    "\n",
    "- **HIF1α(A):** HIF1α(A) activity affects the level of IDH1 , and this gene contributes to the Tumorigenicity of IDH1 mutation. This gene is a important gene that regulates gene expression critical pathways that cause tumorigenesis.\n",
    "\n",
    "- **EGLN1:** This gene is important as it provides instructions for making an enzyme/encodes for the enzyme called prolyl hydroxylase domain-containing protein 2 (PHD2), which hydroxylates and inactivates HIF1α, which regulates IDH1 expression.\n",
    "\n",
    "- **JMJD1C:** This gene encodes for a histone called demethylase Jumonji domain-containing protein 1C, which regulates the expression of genes involved in various cellular processes, including the IDH1 pathway.\n",
    "\n",
    "- **KDM4C:** Similar to the previous gene, this gene is important as it encodes for a histone called demethylase Lysine-specific demethylase 4A, which also regulates the expression of genes involved in various cellular processes, including the IDH1 pathway."
   ]
  },
  {
   "cell_type": "markdown",
   "id": "111fb05b-95a1-4db9-9b0f-6efe0375ade7",
   "metadata": {
    "tags": []
   },
   "source": [
    "## **Coding Component of Project**"
   ]
  },
  {
   "cell_type": "code",
   "execution_count": 1,
   "id": "e948044a-bac8-43b0-9922-e45c5accce88",
   "metadata": {},
   "outputs": [],
   "source": [
    "# Install cbio_py package \n",
    "# pip install cbio_py"
   ]
  },
  {
   "cell_type": "code",
   "execution_count": 2,
   "id": "76edf855-c048-4a72-b816-11593764216f",
   "metadata": {},
   "outputs": [
    {
     "name": "stdout",
     "output_type": "stream",
     "text": [
      "Total Number gene mutations: 28268 \n",
      "Total Unique patients: 130\n"
     ]
    }
   ],
   "source": [
    "# importing cbio_py package to be used under the command cb\n",
    "from cbio_py import cbio_mod as cb\n",
    "import pandas as pd\n",
    "# This command dislays all the studies in the cbioportal archive\n",
    "cb.getAllStudies(return_type = 'dict') # study id: blca_tcga\n",
    "# This command grabs the information available from the blca_tcga study in cbioportal\n",
    "patient_info = cb.getMutationsInMolecularProfile('blca_tcga', 'blca_tcga', projection='DETAILED', return_type = 'dict', append='yes')\n",
    "# Turn the information we obtained into a dataframe for easier visualization\n",
    "patient_info = pd.DataFrame.from_dict(patient_info)\n",
    "# Count the number of samples and unique patients\n",
    "total_num_samples = patient_info.sampleId.count()\n",
    "total_unique_patients = patient_info.patientId.nunique()\n",
    "# print the total of unique patients and sample count\n",
    "print(\"Total Number gene mutations:\",total_num_samples,\"\\nTotal Unique patients:\", total_unique_patients)"
   ]
  },
  {
   "cell_type": "code",
   "execution_count": 3,
   "id": "466c8f35-75d1-441c-a514-8573ae140aff",
   "metadata": {},
   "outputs": [
    {
     "data": {
      "text/html": [
       "<div>\n",
       "<style scoped>\n",
       "    .dataframe tbody tr th:only-of-type {\n",
       "        vertical-align: middle;\n",
       "    }\n",
       "\n",
       "    .dataframe tbody tr th {\n",
       "        vertical-align: top;\n",
       "    }\n",
       "\n",
       "    .dataframe thead th {\n",
       "        text-align: right;\n",
       "    }\n",
       "</style>\n",
       "<table border=\"1\" class=\"dataframe\">\n",
       "  <thead>\n",
       "    <tr style=\"text-align: right;\">\n",
       "      <th></th>\n",
       "      <th>alleleSpecificCopyNumber</th>\n",
       "      <th>aminoAcidChange</th>\n",
       "      <th>center</th>\n",
       "      <th>chr</th>\n",
       "      <th>driverFilter</th>\n",
       "      <th>driverFilterAnnotation</th>\n",
       "      <th>driverTiersFilter</th>\n",
       "      <th>driverTiersFilterAnnotation</th>\n",
       "      <th>endPosition</th>\n",
       "      <th>entrezGeneId</th>\n",
       "      <th>...</th>\n",
       "      <th>sampleId</th>\n",
       "      <th>startPosition</th>\n",
       "      <th>studyId</th>\n",
       "      <th>tumorAltCount</th>\n",
       "      <th>tumorRefCount</th>\n",
       "      <th>uniquePatientKey</th>\n",
       "      <th>uniqueSampleKey</th>\n",
       "      <th>validationStatus</th>\n",
       "      <th>variantAllele</th>\n",
       "      <th>variantType</th>\n",
       "    </tr>\n",
       "  </thead>\n",
       "  <tbody>\n",
       "    <tr>\n",
       "      <th>0</th>\n",
       "      <td>None</td>\n",
       "      <td>None</td>\n",
       "      <td>broad.mit.edu</td>\n",
       "      <td>4</td>\n",
       "      <td>None</td>\n",
       "      <td>None</td>\n",
       "      <td>None</td>\n",
       "      <td>None</td>\n",
       "      <td>153247289</td>\n",
       "      <td>55294</td>\n",
       "      <td>...</td>\n",
       "      <td>TCGA-BL-A13I-01</td>\n",
       "      <td>153247289</td>\n",
       "      <td>blca_tcga</td>\n",
       "      <td>6</td>\n",
       "      <td>41</td>\n",
       "      <td>VENHQS1CTC1BMTNJOmJsY2FfdGNnYQ</td>\n",
       "      <td>VENHQS1CTC1BMTNJLTAxOmJsY2FfdGNnYQ</td>\n",
       "      <td>Valid</td>\n",
       "      <td>C</td>\n",
       "      <td>SNP</td>\n",
       "    </tr>\n",
       "    <tr>\n",
       "      <th>1</th>\n",
       "      <td>None</td>\n",
       "      <td>None</td>\n",
       "      <td>broad.mit.edu</td>\n",
       "      <td>3</td>\n",
       "      <td>None</td>\n",
       "      <td>None</td>\n",
       "      <td>None</td>\n",
       "      <td>None</td>\n",
       "      <td>133524732</td>\n",
       "      <td>58477</td>\n",
       "      <td>...</td>\n",
       "      <td>TCGA-BL-A13I-01</td>\n",
       "      <td>133524732</td>\n",
       "      <td>blca_tcga</td>\n",
       "      <td>14</td>\n",
       "      <td>49</td>\n",
       "      <td>VENHQS1CTC1BMTNJOmJsY2FfdGNnYQ</td>\n",
       "      <td>VENHQS1CTC1BMTNJLTAxOmJsY2FfdGNnYQ</td>\n",
       "      <td>Untested</td>\n",
       "      <td>A</td>\n",
       "      <td>SNP</td>\n",
       "    </tr>\n",
       "    <tr>\n",
       "      <th>2</th>\n",
       "      <td>None</td>\n",
       "      <td>None</td>\n",
       "      <td>broad.mit.edu</td>\n",
       "      <td>1</td>\n",
       "      <td>None</td>\n",
       "      <td>None</td>\n",
       "      <td>None</td>\n",
       "      <td>None</td>\n",
       "      <td>3334507</td>\n",
       "      <td>63976</td>\n",
       "      <td>...</td>\n",
       "      <td>TCGA-BL-A13I-01</td>\n",
       "      <td>3334507</td>\n",
       "      <td>blca_tcga</td>\n",
       "      <td>21</td>\n",
       "      <td>36</td>\n",
       "      <td>VENHQS1CTC1BMTNJOmJsY2FfdGNnYQ</td>\n",
       "      <td>VENHQS1CTC1BMTNJLTAxOmJsY2FfdGNnYQ</td>\n",
       "      <td>Untested</td>\n",
       "      <td>T</td>\n",
       "      <td>SNP</td>\n",
       "    </tr>\n",
       "    <tr>\n",
       "      <th>3</th>\n",
       "      <td>None</td>\n",
       "      <td>None</td>\n",
       "      <td>broad.mit.edu</td>\n",
       "      <td>1</td>\n",
       "      <td>None</td>\n",
       "      <td>None</td>\n",
       "      <td>None</td>\n",
       "      <td>None</td>\n",
       "      <td>16907273</td>\n",
       "      <td>55672</td>\n",
       "      <td>...</td>\n",
       "      <td>TCGA-BL-A13I-01</td>\n",
       "      <td>16907273</td>\n",
       "      <td>blca_tcga</td>\n",
       "      <td>82</td>\n",
       "      <td>652</td>\n",
       "      <td>VENHQS1CTC1BMTNJOmJsY2FfdGNnYQ</td>\n",
       "      <td>VENHQS1CTC1BMTNJLTAxOmJsY2FfdGNnYQ</td>\n",
       "      <td>Untested</td>\n",
       "      <td>T</td>\n",
       "      <td>SNP</td>\n",
       "    </tr>\n",
       "    <tr>\n",
       "      <th>4</th>\n",
       "      <td>None</td>\n",
       "      <td>None</td>\n",
       "      <td>broad.mit.edu</td>\n",
       "      <td>1</td>\n",
       "      <td>None</td>\n",
       "      <td>None</td>\n",
       "      <td>None</td>\n",
       "      <td>None</td>\n",
       "      <td>36904449</td>\n",
       "      <td>127700</td>\n",
       "      <td>...</td>\n",
       "      <td>TCGA-BL-A13I-01</td>\n",
       "      <td>36904449</td>\n",
       "      <td>blca_tcga</td>\n",
       "      <td>15</td>\n",
       "      <td>50</td>\n",
       "      <td>VENHQS1CTC1BMTNJOmJsY2FfdGNnYQ</td>\n",
       "      <td>VENHQS1CTC1BMTNJLTAxOmJsY2FfdGNnYQ</td>\n",
       "      <td>Untested</td>\n",
       "      <td>C</td>\n",
       "      <td>SNP</td>\n",
       "    </tr>\n",
       "    <tr>\n",
       "      <th>...</th>\n",
       "      <td>...</td>\n",
       "      <td>...</td>\n",
       "      <td>...</td>\n",
       "      <td>...</td>\n",
       "      <td>...</td>\n",
       "      <td>...</td>\n",
       "      <td>...</td>\n",
       "      <td>...</td>\n",
       "      <td>...</td>\n",
       "      <td>...</td>\n",
       "      <td>...</td>\n",
       "      <td>...</td>\n",
       "      <td>...</td>\n",
       "      <td>...</td>\n",
       "      <td>...</td>\n",
       "      <td>...</td>\n",
       "      <td>...</td>\n",
       "      <td>...</td>\n",
       "      <td>...</td>\n",
       "      <td>...</td>\n",
       "      <td>...</td>\n",
       "    </tr>\n",
       "    <tr>\n",
       "      <th>28263</th>\n",
       "      <td>None</td>\n",
       "      <td>None</td>\n",
       "      <td>broad.mit.edu</td>\n",
       "      <td>2</td>\n",
       "      <td>None</td>\n",
       "      <td>None</td>\n",
       "      <td>None</td>\n",
       "      <td>None</td>\n",
       "      <td>55895089</td>\n",
       "      <td>87178</td>\n",
       "      <td>...</td>\n",
       "      <td>TCGA-CU-A0YR-01</td>\n",
       "      <td>55895089</td>\n",
       "      <td>blca_tcga</td>\n",
       "      <td>19</td>\n",
       "      <td>65</td>\n",
       "      <td>VENHQS1DVS1BMFlSOmJsY2FfdGNnYQ</td>\n",
       "      <td>VENHQS1DVS1BMFlSLTAxOmJsY2FfdGNnYQ</td>\n",
       "      <td>Untested</td>\n",
       "      <td>-</td>\n",
       "      <td>DEL</td>\n",
       "    </tr>\n",
       "    <tr>\n",
       "      <th>28264</th>\n",
       "      <td>None</td>\n",
       "      <td>None</td>\n",
       "      <td>broad.mit.edu</td>\n",
       "      <td>6</td>\n",
       "      <td>None</td>\n",
       "      <td>None</td>\n",
       "      <td>None</td>\n",
       "      <td>None</td>\n",
       "      <td>129498972</td>\n",
       "      <td>3908</td>\n",
       "      <td>...</td>\n",
       "      <td>TCGA-CU-A0YR-01</td>\n",
       "      <td>129498972</td>\n",
       "      <td>blca_tcga</td>\n",
       "      <td>37</td>\n",
       "      <td>83</td>\n",
       "      <td>VENHQS1DVS1BMFlSOmJsY2FfdGNnYQ</td>\n",
       "      <td>VENHQS1DVS1BMFlSLTAxOmJsY2FfdGNnYQ</td>\n",
       "      <td>Untested</td>\n",
       "      <td>-</td>\n",
       "      <td>DEL</td>\n",
       "    </tr>\n",
       "    <tr>\n",
       "      <th>28265</th>\n",
       "      <td>None</td>\n",
       "      <td>None</td>\n",
       "      <td>broad.mit.edu</td>\n",
       "      <td>7</td>\n",
       "      <td>None</td>\n",
       "      <td>None</td>\n",
       "      <td>None</td>\n",
       "      <td>None</td>\n",
       "      <td>129919318</td>\n",
       "      <td>1358</td>\n",
       "      <td>...</td>\n",
       "      <td>TCGA-CU-A0YR-01</td>\n",
       "      <td>129919306</td>\n",
       "      <td>blca_tcga</td>\n",
       "      <td>7</td>\n",
       "      <td>84</td>\n",
       "      <td>VENHQS1DVS1BMFlSOmJsY2FfdGNnYQ</td>\n",
       "      <td>VENHQS1DVS1BMFlSLTAxOmJsY2FfdGNnYQ</td>\n",
       "      <td>Untested</td>\n",
       "      <td>-</td>\n",
       "      <td>DEL</td>\n",
       "    </tr>\n",
       "    <tr>\n",
       "      <th>28266</th>\n",
       "      <td>None</td>\n",
       "      <td>None</td>\n",
       "      <td>broad.mit.edu</td>\n",
       "      <td>8</td>\n",
       "      <td>None</td>\n",
       "      <td>None</td>\n",
       "      <td>None</td>\n",
       "      <td>None</td>\n",
       "      <td>57906000</td>\n",
       "      <td>54928</td>\n",
       "      <td>...</td>\n",
       "      <td>TCGA-CU-A0YR-01</td>\n",
       "      <td>57905985</td>\n",
       "      <td>blca_tcga</td>\n",
       "      <td>5</td>\n",
       "      <td>9</td>\n",
       "      <td>VENHQS1DVS1BMFlSOmJsY2FfdGNnYQ</td>\n",
       "      <td>VENHQS1DVS1BMFlSLTAxOmJsY2FfdGNnYQ</td>\n",
       "      <td>Untested</td>\n",
       "      <td>-</td>\n",
       "      <td>DEL</td>\n",
       "    </tr>\n",
       "    <tr>\n",
       "      <th>28267</th>\n",
       "      <td>None</td>\n",
       "      <td>None</td>\n",
       "      <td>broad.mit.edu</td>\n",
       "      <td>9</td>\n",
       "      <td>None</td>\n",
       "      <td>None</td>\n",
       "      <td>None</td>\n",
       "      <td>None</td>\n",
       "      <td>135977872</td>\n",
       "      <td>5900</td>\n",
       "      <td>...</td>\n",
       "      <td>TCGA-CU-A0YR-01</td>\n",
       "      <td>135977871</td>\n",
       "      <td>blca_tcga</td>\n",
       "      <td>19</td>\n",
       "      <td>155</td>\n",
       "      <td>VENHQS1DVS1BMFlSOmJsY2FfdGNnYQ</td>\n",
       "      <td>VENHQS1DVS1BMFlSLTAxOmJsY2FfdGNnYQ</td>\n",
       "      <td>Untested</td>\n",
       "      <td>CGCT</td>\n",
       "      <td>INS</td>\n",
       "    </tr>\n",
       "  </tbody>\n",
       "</table>\n",
       "<p>28268 rows × 35 columns</p>\n",
       "</div>"
      ],
      "text/plain": [
       "      alleleSpecificCopyNumber aminoAcidChange         center chr  \\\n",
       "0                         None            None  broad.mit.edu   4   \n",
       "1                         None            None  broad.mit.edu   3   \n",
       "2                         None            None  broad.mit.edu   1   \n",
       "3                         None            None  broad.mit.edu   1   \n",
       "4                         None            None  broad.mit.edu   1   \n",
       "...                        ...             ...            ...  ..   \n",
       "28263                     None            None  broad.mit.edu   2   \n",
       "28264                     None            None  broad.mit.edu   6   \n",
       "28265                     None            None  broad.mit.edu   7   \n",
       "28266                     None            None  broad.mit.edu   8   \n",
       "28267                     None            None  broad.mit.edu   9   \n",
       "\n",
       "      driverFilter driverFilterAnnotation driverTiersFilter  \\\n",
       "0             None                   None              None   \n",
       "1             None                   None              None   \n",
       "2             None                   None              None   \n",
       "3             None                   None              None   \n",
       "4             None                   None              None   \n",
       "...            ...                    ...               ...   \n",
       "28263         None                   None              None   \n",
       "28264         None                   None              None   \n",
       "28265         None                   None              None   \n",
       "28266         None                   None              None   \n",
       "28267         None                   None              None   \n",
       "\n",
       "      driverTiersFilterAnnotation  endPosition  entrezGeneId  ...  \\\n",
       "0                            None    153247289         55294  ...   \n",
       "1                            None    133524732         58477  ...   \n",
       "2                            None      3334507         63976  ...   \n",
       "3                            None     16907273         55672  ...   \n",
       "4                            None     36904449        127700  ...   \n",
       "...                           ...          ...           ...  ...   \n",
       "28263                        None     55895089         87178  ...   \n",
       "28264                        None    129498972          3908  ...   \n",
       "28265                        None    129919318          1358  ...   \n",
       "28266                        None     57906000         54928  ...   \n",
       "28267                        None    135977872          5900  ...   \n",
       "\n",
       "              sampleId startPosition    studyId tumorAltCount tumorRefCount  \\\n",
       "0      TCGA-BL-A13I-01     153247289  blca_tcga             6            41   \n",
       "1      TCGA-BL-A13I-01     133524732  blca_tcga            14            49   \n",
       "2      TCGA-BL-A13I-01       3334507  blca_tcga            21            36   \n",
       "3      TCGA-BL-A13I-01      16907273  blca_tcga            82           652   \n",
       "4      TCGA-BL-A13I-01      36904449  blca_tcga            15            50   \n",
       "...                ...           ...        ...           ...           ...   \n",
       "28263  TCGA-CU-A0YR-01      55895089  blca_tcga            19            65   \n",
       "28264  TCGA-CU-A0YR-01     129498972  blca_tcga            37            83   \n",
       "28265  TCGA-CU-A0YR-01     129919306  blca_tcga             7            84   \n",
       "28266  TCGA-CU-A0YR-01      57905985  blca_tcga             5             9   \n",
       "28267  TCGA-CU-A0YR-01     135977871  blca_tcga            19           155   \n",
       "\n",
       "                     uniquePatientKey                     uniqueSampleKey  \\\n",
       "0      VENHQS1CTC1BMTNJOmJsY2FfdGNnYQ  VENHQS1CTC1BMTNJLTAxOmJsY2FfdGNnYQ   \n",
       "1      VENHQS1CTC1BMTNJOmJsY2FfdGNnYQ  VENHQS1CTC1BMTNJLTAxOmJsY2FfdGNnYQ   \n",
       "2      VENHQS1CTC1BMTNJOmJsY2FfdGNnYQ  VENHQS1CTC1BMTNJLTAxOmJsY2FfdGNnYQ   \n",
       "3      VENHQS1CTC1BMTNJOmJsY2FfdGNnYQ  VENHQS1CTC1BMTNJLTAxOmJsY2FfdGNnYQ   \n",
       "4      VENHQS1CTC1BMTNJOmJsY2FfdGNnYQ  VENHQS1CTC1BMTNJLTAxOmJsY2FfdGNnYQ   \n",
       "...                               ...                                 ...   \n",
       "28263  VENHQS1DVS1BMFlSOmJsY2FfdGNnYQ  VENHQS1DVS1BMFlSLTAxOmJsY2FfdGNnYQ   \n",
       "28264  VENHQS1DVS1BMFlSOmJsY2FfdGNnYQ  VENHQS1DVS1BMFlSLTAxOmJsY2FfdGNnYQ   \n",
       "28265  VENHQS1DVS1BMFlSOmJsY2FfdGNnYQ  VENHQS1DVS1BMFlSLTAxOmJsY2FfdGNnYQ   \n",
       "28266  VENHQS1DVS1BMFlSOmJsY2FfdGNnYQ  VENHQS1DVS1BMFlSLTAxOmJsY2FfdGNnYQ   \n",
       "28267  VENHQS1DVS1BMFlSOmJsY2FfdGNnYQ  VENHQS1DVS1BMFlSLTAxOmJsY2FfdGNnYQ   \n",
       "\n",
       "      validationStatus variantAllele variantType  \n",
       "0                Valid             C         SNP  \n",
       "1             Untested             A         SNP  \n",
       "2             Untested             T         SNP  \n",
       "3             Untested             T         SNP  \n",
       "4             Untested             C         SNP  \n",
       "...                ...           ...         ...  \n",
       "28263         Untested             -         DEL  \n",
       "28264         Untested             -         DEL  \n",
       "28265         Untested             -         DEL  \n",
       "28266         Untested             -         DEL  \n",
       "28267         Untested          CGCT         INS  \n",
       "\n",
       "[28268 rows x 35 columns]"
      ]
     },
     "execution_count": 3,
     "metadata": {},
     "output_type": "execute_result"
    }
   ],
   "source": [
    "# Show dataframe\n",
    "patient_info"
   ]
  },
  {
   "cell_type": "code",
   "execution_count": 4,
   "id": "dc8d9dc7-cd6d-4f5b-9240-a867eadcac28",
   "metadata": {},
   "outputs": [
    {
     "data": {
      "text/html": [
       "<div>\n",
       "<style scoped>\n",
       "    .dataframe tbody tr th:only-of-type {\n",
       "        vertical-align: middle;\n",
       "    }\n",
       "\n",
       "    .dataframe tbody tr th {\n",
       "        vertical-align: top;\n",
       "    }\n",
       "\n",
       "    .dataframe thead th {\n",
       "        text-align: right;\n",
       "    }\n",
       "</style>\n",
       "<table border=\"1\" class=\"dataframe\">\n",
       "  <thead>\n",
       "    <tr style=\"text-align: right;\">\n",
       "      <th></th>\n",
       "      <th>patientId</th>\n",
       "      <th>sampleId</th>\n",
       "      <th>entrezGeneId</th>\n",
       "      <th>startPosition</th>\n",
       "      <th>chr</th>\n",
       "      <th>keyword</th>\n",
       "      <th>mutationType</th>\n",
       "      <th>variantAllele</th>\n",
       "      <th>variantType</th>\n",
       "    </tr>\n",
       "  </thead>\n",
       "  <tbody>\n",
       "    <tr>\n",
       "      <th>0</th>\n",
       "      <td>TCGA-BL-A13I</td>\n",
       "      <td>TCGA-BL-A13I-01</td>\n",
       "      <td>55294</td>\n",
       "      <td>153247289</td>\n",
       "      <td>4</td>\n",
       "      <td>FBXW7 R505 missense</td>\n",
       "      <td>Missense_Mutation</td>\n",
       "      <td>C</td>\n",
       "      <td>SNP</td>\n",
       "    </tr>\n",
       "    <tr>\n",
       "      <th>1</th>\n",
       "      <td>TCGA-BL-A13I</td>\n",
       "      <td>TCGA-BL-A13I-01</td>\n",
       "      <td>58477</td>\n",
       "      <td>133524732</td>\n",
       "      <td>3</td>\n",
       "      <td>SRPRB G14 missense</td>\n",
       "      <td>Missense_Mutation</td>\n",
       "      <td>A</td>\n",
       "      <td>SNP</td>\n",
       "    </tr>\n",
       "    <tr>\n",
       "      <th>2</th>\n",
       "      <td>TCGA-BL-A13I</td>\n",
       "      <td>TCGA-BL-A13I-01</td>\n",
       "      <td>63976</td>\n",
       "      <td>3334507</td>\n",
       "      <td>1</td>\n",
       "      <td>PRDM16 P936 missense</td>\n",
       "      <td>Missense_Mutation</td>\n",
       "      <td>T</td>\n",
       "      <td>SNP</td>\n",
       "    </tr>\n",
       "    <tr>\n",
       "      <th>3</th>\n",
       "      <td>TCGA-BL-A13I</td>\n",
       "      <td>TCGA-BL-A13I-01</td>\n",
       "      <td>55672</td>\n",
       "      <td>16907273</td>\n",
       "      <td>1</td>\n",
       "      <td>NBPF1 D520 missense</td>\n",
       "      <td>Missense_Mutation</td>\n",
       "      <td>T</td>\n",
       "      <td>SNP</td>\n",
       "    </tr>\n",
       "    <tr>\n",
       "      <th>4</th>\n",
       "      <td>TCGA-BL-A13I</td>\n",
       "      <td>TCGA-BL-A13I-01</td>\n",
       "      <td>127700</td>\n",
       "      <td>36904449</td>\n",
       "      <td>1</td>\n",
       "      <td>OSCP1 Q59 missense</td>\n",
       "      <td>Missense_Mutation</td>\n",
       "      <td>C</td>\n",
       "      <td>SNP</td>\n",
       "    </tr>\n",
       "    <tr>\n",
       "      <th>...</th>\n",
       "      <td>...</td>\n",
       "      <td>...</td>\n",
       "      <td>...</td>\n",
       "      <td>...</td>\n",
       "      <td>...</td>\n",
       "      <td>...</td>\n",
       "      <td>...</td>\n",
       "      <td>...</td>\n",
       "      <td>...</td>\n",
       "    </tr>\n",
       "    <tr>\n",
       "      <th>28263</th>\n",
       "      <td>TCGA-CU-A0YR</td>\n",
       "      <td>TCGA-CU-A0YR-01</td>\n",
       "      <td>87178</td>\n",
       "      <td>55895089</td>\n",
       "      <td>2</td>\n",
       "      <td>PNPT1 truncating</td>\n",
       "      <td>Frame_Shift_Del</td>\n",
       "      <td>-</td>\n",
       "      <td>DEL</td>\n",
       "    </tr>\n",
       "    <tr>\n",
       "      <th>28264</th>\n",
       "      <td>TCGA-CU-A0YR</td>\n",
       "      <td>TCGA-CU-A0YR-01</td>\n",
       "      <td>3908</td>\n",
       "      <td>129498972</td>\n",
       "      <td>6</td>\n",
       "      <td>LAMA2 truncating</td>\n",
       "      <td>Frame_Shift_Del</td>\n",
       "      <td>-</td>\n",
       "      <td>DEL</td>\n",
       "    </tr>\n",
       "    <tr>\n",
       "      <th>28265</th>\n",
       "      <td>TCGA-CU-A0YR</td>\n",
       "      <td>TCGA-CU-A0YR-01</td>\n",
       "      <td>1358</td>\n",
       "      <td>129919306</td>\n",
       "      <td>7</td>\n",
       "      <td>CPA2 truncating</td>\n",
       "      <td>Frame_Shift_Del</td>\n",
       "      <td>-</td>\n",
       "      <td>DEL</td>\n",
       "    </tr>\n",
       "    <tr>\n",
       "      <th>28266</th>\n",
       "      <td>TCGA-CU-A0YR</td>\n",
       "      <td>TCGA-CU-A0YR-01</td>\n",
       "      <td>54928</td>\n",
       "      <td>57905985</td>\n",
       "      <td>8</td>\n",
       "      <td>BPNT2 truncating</td>\n",
       "      <td>Frame_Shift_Del</td>\n",
       "      <td>-</td>\n",
       "      <td>DEL</td>\n",
       "    </tr>\n",
       "    <tr>\n",
       "      <th>28267</th>\n",
       "      <td>TCGA-CU-A0YR</td>\n",
       "      <td>TCGA-CU-A0YR-01</td>\n",
       "      <td>5900</td>\n",
       "      <td>135977871</td>\n",
       "      <td>9</td>\n",
       "      <td>RALGDS truncating</td>\n",
       "      <td>Frame_Shift_Ins</td>\n",
       "      <td>CGCT</td>\n",
       "      <td>INS</td>\n",
       "    </tr>\n",
       "  </tbody>\n",
       "</table>\n",
       "<p>28268 rows × 9 columns</p>\n",
       "</div>"
      ],
      "text/plain": [
       "          patientId         sampleId  entrezGeneId  startPosition chr  \\\n",
       "0      TCGA-BL-A13I  TCGA-BL-A13I-01         55294      153247289   4   \n",
       "1      TCGA-BL-A13I  TCGA-BL-A13I-01         58477      133524732   3   \n",
       "2      TCGA-BL-A13I  TCGA-BL-A13I-01         63976        3334507   1   \n",
       "3      TCGA-BL-A13I  TCGA-BL-A13I-01         55672       16907273   1   \n",
       "4      TCGA-BL-A13I  TCGA-BL-A13I-01        127700       36904449   1   \n",
       "...             ...              ...           ...            ...  ..   \n",
       "28263  TCGA-CU-A0YR  TCGA-CU-A0YR-01         87178       55895089   2   \n",
       "28264  TCGA-CU-A0YR  TCGA-CU-A0YR-01          3908      129498972   6   \n",
       "28265  TCGA-CU-A0YR  TCGA-CU-A0YR-01          1358      129919306   7   \n",
       "28266  TCGA-CU-A0YR  TCGA-CU-A0YR-01         54928       57905985   8   \n",
       "28267  TCGA-CU-A0YR  TCGA-CU-A0YR-01          5900      135977871   9   \n",
       "\n",
       "                    keyword       mutationType variantAllele variantType  \n",
       "0       FBXW7 R505 missense  Missense_Mutation             C         SNP  \n",
       "1        SRPRB G14 missense  Missense_Mutation             A         SNP  \n",
       "2      PRDM16 P936 missense  Missense_Mutation             T         SNP  \n",
       "3       NBPF1 D520 missense  Missense_Mutation             T         SNP  \n",
       "4        OSCP1 Q59 missense  Missense_Mutation             C         SNP  \n",
       "...                     ...                ...           ...         ...  \n",
       "28263      PNPT1 truncating    Frame_Shift_Del             -         DEL  \n",
       "28264      LAMA2 truncating    Frame_Shift_Del             -         DEL  \n",
       "28265       CPA2 truncating    Frame_Shift_Del             -         DEL  \n",
       "28266      BPNT2 truncating    Frame_Shift_Del             -         DEL  \n",
       "28267     RALGDS truncating    Frame_Shift_Ins          CGCT         INS  \n",
       "\n",
       "[28268 rows x 9 columns]"
      ]
     },
     "execution_count": 4,
     "metadata": {},
     "output_type": "execute_result"
    }
   ],
   "source": [
    "# Create and organize a new dataframe with only the information that is of interest\n",
    "new_patient_info = patient_info[['patientId', 'sampleId', 'entrezGeneId', 'startPosition', 'chr', 'keyword', 'mutationType', 'variantAllele', 'variantType']].copy()\n",
    "# Display new dataframe\n",
    "new_patient_info"
   ]
  },
  {
   "cell_type": "code",
   "execution_count": 5,
   "id": "a98ddc4c-db78-4eb3-962c-0596e5890ac4",
   "metadata": {},
   "outputs": [],
   "source": [
    "# Create separate dataframes for each gene that is part of the IDH1 pathway and drop any duplicate samples from the same patient\n",
    "IDH1 = new_patient_info.loc[new_patient_info['keyword'].str.contains('IDH1',na = False)]\n",
    "IDH1 = IDH1.drop_duplicates('sampleId')\n",
    "\n",
    "IDH2 = new_patient_info.loc[new_patient_info['keyword'].str.contains('IDH2',na = False)]\n",
    "IDH2 = IDH2.drop_duplicates('sampleId')\n",
    "\n",
    "TET2 = new_patient_info.loc[new_patient_info['keyword'].str.contains('TET2',na = False)]\n",
    "TET2 = TET2.drop_duplicates('sampleId')\n",
    "\n",
    "DNMT3A = new_patient_info.loc[new_patient_info['keyword'].str.contains('DNMT3A',na = False)]\n",
    "DNMT3A = DNMT3A.drop_duplicates('sampleId')\n",
    "\n",
    "TP53 = new_patient_info.loc[new_patient_info['keyword'].str.contains('TP53',na = False)]\n",
    "TP53 = TP53.drop_duplicates('sampleId')\n",
    "\n",
    "HIF1A = new_patient_info.loc[new_patient_info['keyword'].str.contains('HIF1A',na = False)]\n",
    "HIF1A = HIF1A.drop_duplicates('sampleId')\n",
    "\n",
    "EGLN1 = new_patient_info.loc[new_patient_info['keyword'].str.contains('EGLN1',na = False)]\n",
    "EGLN1 = EGLN1.drop_duplicates('sampleId')\n",
    "\n",
    "JMJD1C = new_patient_info.loc[new_patient_info['keyword'].str.contains('JMJD1C',na = False)]\n",
    "JMJD1C = JMJD1C.drop_duplicates('sampleId')\n",
    "\n",
    "KDM4C = new_patient_info.loc[new_patient_info['keyword'].str.contains('KDM4C',na = False)]\n",
    "KDM4C = KDM4C.drop_duplicates('sampleId')\n",
    "\n",
    "# Combine all our dataframes together\n",
    "pathway_genes = pd.concat([IDH1, IDH2, TET2, DNMT3A, TP53, HIF1A, EGLN1, JMJD1C, KDM4C])\n",
    "\n",
    "# This sets our index as patientId for our dataframe\n",
    "temp_cols = pathway_genes.columns.tolist()\n",
    "index = pathway_genes.columns.get_loc(\"patientId\")\n",
    "rearranged_cols = temp_cols[index:index+1] + temp_cols[0:index] + temp_cols[index+1:]\n",
    "new_pathway_genes = pathway_genes[rearranged_cols].set_index('patientId')"
   ]
  },
  {
   "cell_type": "code",
   "execution_count": 6,
   "id": "35ea6ef5-e124-4e56-9aa4-67e0debaa11b",
   "metadata": {},
   "outputs": [],
   "source": [
    "# Create new dataframes that have genes associated with the IDH1 pathway, with our index now as patientId\n",
    "new_IDH1 = new_pathway_genes.loc[new_pathway_genes['keyword'].str.contains('IDH1',na = False)]\n",
    "new_IDH2 = new_pathway_genes.loc[new_pathway_genes['keyword'].str.contains('IDH2',na = False)]\n",
    "new_TET2 = new_pathway_genes.loc[new_pathway_genes['keyword'].str.contains('TET2',na = False)]\n",
    "new_DNMT3A = new_pathway_genes.loc[new_pathway_genes['keyword'].str.contains('DNMT3A',na = False)]\n",
    "new_TP53 = new_pathway_genes.loc[new_pathway_genes['keyword'].str.contains('TP53',na = False)]\n",
    "new_HIF1A = new_pathway_genes.loc[new_pathway_genes['keyword'].str.contains('HIF1A',na = False)]\n",
    "new_EGLN1 = new_pathway_genes.loc[new_pathway_genes['keyword'].str.contains('EGLN1',na = False)]\n",
    "new_JMJD1C = new_pathway_genes.loc[new_pathway_genes['keyword'].str.contains('JMJD1C',na = False)]\n",
    "new_KDM4C = new_pathway_genes.loc[new_pathway_genes['keyword'].str.contains('KDM4C',na = False)]\n",
    "new_pathway_genes1 = pd.concat([new_IDH1, new_IDH2, new_DNMT3A, new_TP53, new_HIF1A, new_EGLN1, new_JMJD1C, new_KDM4C])"
   ]
  },
  {
   "cell_type": "code",
   "execution_count": 7,
   "id": "fd0eb9f3-a96e-49ee-83fe-6d1a1632a64f",
   "metadata": {},
   "outputs": [
    {
     "data": {
      "image/png": "[encoded data removed]",
      "text/plain": [
       "<Figure size 432x288 with 1 Axes>"
      ]
     },
     "metadata": {
      "needs_background": "light"
     },
     "output_type": "display_data"
    }
   ],
   "source": [
    "import matplotlib.pyplot as plt\n",
    "# split the keyword column by space so that the name of each gene is separated from other additional information about the type of mutation it is. We only want the name of the gene thats mutated\n",
    "new_pathway_genes1[['gene', 'extra', 'type']] = new_pathway_genes1['keyword'].str.split(' ', expand=True)\n",
    "# Dropping specific rows that contain genes that are not of interest\n",
    "new_pathway_genes1 = new_pathway_genes1[new_pathway_genes1['gene'].str.contains(\"TP53AIP1|TP53BP1|TP53BP2|TP53I13|TP53I3|TP53INP1|TP53TG5\")==False]\n",
    "# Create a bar graph displaying the number of mutations overall in this pathway                                                                          \n",
    "gene_counts = new_pathway_genes1['gene'].value_counts()\n",
    "gene_counts.plot(kind='bar')\n",
    "plt.xlabel('Gene')\n",
    "plt.ylabel('Count')\n",
    "plt.title('Gene Counts')\n",
    "plt.show()"
   ]
  },
  {
   "cell_type": "markdown",
   "id": "faf67b8c-6c36-46f1-ade0-5aff6c7d4d7f",
   "metadata": {},
   "source": [
    "Here is a bar graph showing the number of patients that had a mutation in a specific gene. The Y-axis displays the number of times the mutation was detected, and the x-axis displays the different genes of interest that are involved in the IDH1 pathway."
   ]
  },
  {
   "cell_type": "markdown",
   "id": "481fc15f-7a71-4ff8-82d0-2195a0e41c9e",
   "metadata": {
    "tags": []
   },
   "source": [
    "### How many patients have each gene mutated with either copy number alterations or point mutations?"
   ]
  },
  {
   "cell_type": "markdown",
   "id": "1726e0ef-2e04-44b3-b8c2-d3347c2a324b",
   "metadata": {},
   "source": [
    "Note: The copy number alterations are labeled numerically between -2 to 2. These copy number calls are as follows:\n",
    "\n",
    "- -2 = homozygous deletion\n",
    "- -1 = hemizygous deletion\n",
    "- 0 = neutral / no change\n",
    "- 1 = gain\n",
    "- 2 = high level amplification."
   ]
  },
  {
   "cell_type": "markdown",
   "id": "894ad187-1628-45d2-b4b6-4d12e373dd55",
   "metadata": {},
   "source": [
    "#### IDH1 Gene"
   ]
  },
  {
   "cell_type": "code",
   "execution_count": 8,
   "id": "6337ddfe-c3de-450c-9d6d-9d36ba27a7f3",
   "metadata": {},
   "outputs": [
    {
     "data": {
      "text/plain": [
       "patientId\n",
       "TCGA-FD-A3NA    Missense_Mutation\n",
       "TCGA-BT-A3PJ    Nonsense_Mutation\n",
       "TCGA-BT-A0YX    Missense_Mutation\n",
       "Name: mutationType, dtype: object"
      ]
     },
     "execution_count": 8,
     "metadata": {},
     "output_type": "execute_result"
    }
   ],
   "source": [
    "# locate the type of mutation patients with an IDH1 mutation have\n",
    "new_IDH1.loc[:,'mutationType']"
   ]
  },
  {
   "cell_type": "code",
   "execution_count": 9,
   "id": "c46a1d6e-9cb3-4afd-afd2-daac8cbabe91",
   "metadata": {},
   "outputs": [
    {
     "data": {
      "text/plain": [
       "[namespace(uniqueSampleKey='VENHQS1CVC1BMFlYLTAxOmJsY2FfdGNnYQ',\n",
       "           uniquePatientKey='VENHQS1CVC1BMFlYOmJsY2FfdGNnYQ',\n",
       "           entrezGeneId=3417,\n",
       "           molecularProfileId='blca_tcga_gistic',\n",
       "           sampleId='TCGA-BT-A0YX-01',\n",
       "           patientId='TCGA-BT-A0YX',\n",
       "           studyId='blca_tcga',\n",
       "           value=0),\n",
       " namespace(uniqueSampleKey='VENHQS1CVC1BM1BKLTAxOmJsY2FfdGNnYQ',\n",
       "           uniquePatientKey='VENHQS1CVC1BM1BKOmJsY2FfdGNnYQ',\n",
       "           entrezGeneId=3417,\n",
       "           molecularProfileId='blca_tcga_gistic',\n",
       "           sampleId='TCGA-BT-A3PJ-01',\n",
       "           patientId='TCGA-BT-A3PJ',\n",
       "           studyId='blca_tcga',\n",
       "           value=0),\n",
       " namespace(uniqueSampleKey='VENHQS1GRC1BM05BLTAxOmJsY2FfdGNnYQ',\n",
       "           uniquePatientKey='VENHQS1GRC1BM05BOmJsY2FfdGNnYQ',\n",
       "           entrezGeneId=3417,\n",
       "           molecularProfileId='blca_tcga_gistic',\n",
       "           sampleId='TCGA-FD-A3NA-01',\n",
       "           patientId='TCGA-FD-A3NA',\n",
       "           studyId='blca_tcga',\n",
       "           value=1)]"
      ]
     },
     "execution_count": 9,
     "metadata": {},
     "output_type": "execute_result"
    }
   ],
   "source": [
    "import requests\n",
    "import json\n",
    "from types import SimpleNamespace \n",
    "\n",
    "# Grab our information from our cbioportal api and turn this information into a list \n",
    "IDH1_req = requests.get(\"https://www.cbioportal.org/api/molecular-profiles/blca_tcga_gistic/molecular-data?entrezGeneId=3417&projection=SUMMARY&sampleListId=blca_tcga_all\")\n",
    "IDH1_load = json.loads(IDH1_req.text, object_hook=lambda d: SimpleNamespace(**d))\n",
    "IDH1_patientID = new_IDH1['sampleId'].tolist()\n",
    "\n",
    "# Only grab patient information from the api that contain the sampleId's that are available/matches the ones in our IDH1 dataframe\n",
    "filtered_IDH1 = [thing for thing in IDH1_load if thing.sampleId in IDH1_patientID]\n",
    "\n",
    "filtered_IDH1"
   ]
  },
  {
   "cell_type": "markdown",
   "id": "d00cc908-a96c-4508-ac13-e24f9a9902a5",
   "metadata": {},
   "source": [
    "<font color = blue> **3 patients have a IDH1 mutation in this study, and 2 out of the 3 patients have a missense mutation (point mutation).** </font>\n",
    "\n",
    "<font color = red> **1 patient out of the 3 have a copy number alteration, more specifically a <u>gain</u> mutation.** </font>"
   ]
  },
  {
   "cell_type": "markdown",
   "id": "59817d38-8bd0-49c6-908c-ae9171c6219b",
   "metadata": {},
   "source": [
    "#### IDH2 Gene"
   ]
  },
  {
   "cell_type": "markdown",
   "id": "823b3d87-9788-4afd-a669-19151b9a989a",
   "metadata": {},
   "source": [
    "<font color = red> **No information was available in the API that contained patients with this mutation</u>** </font>"
   ]
  },
  {
   "cell_type": "markdown",
   "id": "132cce65-be6a-45fa-bf3c-c39be63b7be1",
   "metadata": {},
   "source": [
    "#### TET2 Gene"
   ]
  },
  {
   "cell_type": "code",
   "execution_count": 10,
   "id": "44959571-e520-4be5-b803-3cf725ca0270",
   "metadata": {},
   "outputs": [
    {
     "data": {
      "text/plain": [
       "patientId\n",
       "TCGA-BT-A20Q    Missense_Mutation\n",
       "TCGA-GD-A2C5    Missense_Mutation\n",
       "TCGA-GV-A3JX    Missense_Mutation\n",
       "TCGA-FD-A3SL    Missense_Mutation\n",
       "Name: mutationType, dtype: object"
      ]
     },
     "execution_count": 10,
     "metadata": {},
     "output_type": "execute_result"
    }
   ],
   "source": [
    "# locate the type of mutation patients with an TET2 mutation have\n",
    "new_TET2.loc[:,'mutationType']"
   ]
  },
  {
   "cell_type": "code",
   "execution_count": 11,
   "id": "6a8c57a6-8a6f-43d0-bc0c-c522bdead1cc",
   "metadata": {},
   "outputs": [
    {
     "data": {
      "text/plain": [
       "[namespace(uniqueSampleKey='VENHQS1CVC1BMjBRLTAxOmJsY2FfdGNnYQ',\n",
       "           uniquePatientKey='VENHQS1CVC1BMjBROmJsY2FfdGNnYQ',\n",
       "           entrezGeneId=54790,\n",
       "           molecularProfileId='blca_tcga_gistic',\n",
       "           sampleId='TCGA-BT-A20Q-01',\n",
       "           patientId='TCGA-BT-A20Q',\n",
       "           studyId='blca_tcga',\n",
       "           value=0),\n",
       " namespace(uniqueSampleKey='VENHQS1GRC1BM1NMLTAxOmJsY2FfdGNnYQ',\n",
       "           uniquePatientKey='VENHQS1GRC1BM1NMOmJsY2FfdGNnYQ',\n",
       "           entrezGeneId=54790,\n",
       "           molecularProfileId='blca_tcga_gistic',\n",
       "           sampleId='TCGA-FD-A3SL-01',\n",
       "           patientId='TCGA-FD-A3SL',\n",
       "           studyId='blca_tcga',\n",
       "           value=-1),\n",
       " namespace(uniqueSampleKey='VENHQS1HRC1BMkM1LTAxOmJsY2FfdGNnYQ',\n",
       "           uniquePatientKey='VENHQS1HRC1BMkM1OmJsY2FfdGNnYQ',\n",
       "           entrezGeneId=54790,\n",
       "           molecularProfileId='blca_tcga_gistic',\n",
       "           sampleId='TCGA-GD-A2C5-01',\n",
       "           patientId='TCGA-GD-A2C5',\n",
       "           studyId='blca_tcga',\n",
       "           value=-1),\n",
       " namespace(uniqueSampleKey='VENHQS1HVi1BM0pYLTAxOmJsY2FfdGNnYQ',\n",
       "           uniquePatientKey='VENHQS1HVi1BM0pYOmJsY2FfdGNnYQ',\n",
       "           entrezGeneId=54790,\n",
       "           molecularProfileId='blca_tcga_gistic',\n",
       "           sampleId='TCGA-GV-A3JX-01',\n",
       "           patientId='TCGA-GV-A3JX',\n",
       "           studyId='blca_tcga',\n",
       "           value=0)]"
      ]
     },
     "execution_count": 11,
     "metadata": {},
     "output_type": "execute_result"
    }
   ],
   "source": [
    "# Grab our information from our cbioportal api and turn this information into a list \n",
    "TET2_req = requests.get(\"https://www.cbioportal.org/api/molecular-profiles/blca_tcga_gistic/molecular-data?entrezGeneId=54790&projection=SUMMARY&sampleListId=blca_tcga_all\")\n",
    "TET2_load = json.loads(TET2_req.text, object_hook=lambda d: SimpleNamespace(**d))\n",
    "TET2_patientID = new_TET2['sampleId'].tolist()\n",
    "\n",
    "# Only grab patient information from the api that contain the sampleId's that are available/matches the ones in our TET2 dataframe\n",
    "filtered_TET2 = [thing for thing in TET2_load if thing.sampleId in TET2_patientID]\n",
    "\n",
    "filtered_TET2"
   ]
  },
  {
   "cell_type": "markdown",
   "id": "1ca163ff-d5a1-4152-892c-83fe2811298f",
   "metadata": {},
   "source": [
    "<font color = blue> **4 patients have a TET2 mutation in this study, and all patients have a missense mutation (point mutation).** </font>\n",
    "\n",
    "<font color = red> **2 out of the 4 patients have a copy number alteration, more specifically a <u>hemizygous</u> deletion** </font>"
   ]
  },
  {
   "cell_type": "markdown",
   "id": "e5ff2db2-2a2a-479d-890d-094421ce7236",
   "metadata": {},
   "source": [
    "#### DNMT3A Gene"
   ]
  },
  {
   "cell_type": "code",
   "execution_count": 12,
   "id": "1f375bac-a21f-4508-885a-4b962626c460",
   "metadata": {},
   "outputs": [
    {
     "data": {
      "text/plain": [
       "patientId\n",
       "TCGA-DK-A3WW    Missense_Mutation\n",
       "Name: mutationType, dtype: object"
      ]
     },
     "execution_count": 12,
     "metadata": {},
     "output_type": "execute_result"
    }
   ],
   "source": [
    "# locate the type of mutation patients with an DNMT3A mutation have\n",
    "new_DNMT3A.loc[:,'mutationType']"
   ]
  },
  {
   "cell_type": "code",
   "execution_count": 13,
   "id": "e361377f-6ed1-4073-a5f5-dbb5fbd14e13",
   "metadata": {},
   "outputs": [
    {
     "data": {
      "text/plain": [
       "[namespace(uniqueSampleKey='VENHQS1ESy1BM1dXLTAxOmJsY2FfdGNnYQ',\n",
       "           uniquePatientKey='VENHQS1ESy1BM1dXOmJsY2FfdGNnYQ',\n",
       "           entrezGeneId=1788,\n",
       "           molecularProfileId='blca_tcga_gistic',\n",
       "           sampleId='TCGA-DK-A3WW-01',\n",
       "           patientId='TCGA-DK-A3WW',\n",
       "           studyId='blca_tcga',\n",
       "           value=0)]"
      ]
     },
     "execution_count": 13,
     "metadata": {},
     "output_type": "execute_result"
    }
   ],
   "source": [
    "# Grab our information from our cbioportal api and turn this information into a list \n",
    "DNMT3A_req = requests.get(\"https://www.cbioportal.org/api/molecular-profiles/blca_tcga_gistic/molecular-data?entrezGeneId=1788&projection=SUMMARY&sampleListId=blca_tcga_all\")\n",
    "DNMT3A_load = json.loads(DNMT3A_req.text, object_hook=lambda d: SimpleNamespace(**d))\n",
    "DNMT3A_patientID = new_DNMT3A['sampleId'].tolist()\n",
    "\n",
    "# Only grab patient information from the api that contain the sampleId's that are available/matches the ones in our DNMT3A dataframe\n",
    "filtered_DNMT3A = [thing for thing in DNMT3A_load if thing.sampleId in DNMT3A_patientID]\n",
    "\n",
    "filtered_DNMT3A"
   ]
  },
  {
   "cell_type": "markdown",
   "id": "87452e0b-dace-485d-ab46-c23b90bc3dbd",
   "metadata": {},
   "source": [
    "<font color = blue> **1 patient has a DNMT3A mutation in this study, and this one patient has a missense mutation (point_mutation).** </font>\n",
    "\n",
    "<font color = red> **No patients in this sample have any copy number alterations** </font>"
   ]
  },
  {
   "cell_type": "markdown",
   "id": "f323b496-4fdd-4d66-bc99-0b48821df71b",
   "metadata": {},
   "source": [
    "#### TP53 Gene"
   ]
  },
  {
   "cell_type": "code",
   "execution_count": 14,
   "id": "5f931a77-0ce0-4ba2-85d8-ed2ee65c8507",
   "metadata": {},
   "outputs": [
    {
     "data": {
      "text/plain": [
       "patientId\n",
       "TCGA-CF-A1HS    Missense_Mutation\n",
       "TCGA-DK-A1A3    Nonsense_Mutation\n",
       "TCGA-DK-A1A5    Missense_Mutation\n",
       "TCGA-DK-A1A6      Frame_Shift_Ins\n",
       "TCGA-DK-A1AB    Nonsense_Mutation\n",
       "                      ...        \n",
       "TCGA-GV-A40G    Missense_Mutation\n",
       "TCGA-BL-A13J    Missense_Mutation\n",
       "TCGA-BT-A0YX    Missense_Mutation\n",
       "TCGA-C4-A0F1    Missense_Mutation\n",
       "TCGA-C4-A0F7    Missense_Mutation\n",
       "Name: mutationType, Length: 76, dtype: object"
      ]
     },
     "execution_count": 14,
     "metadata": {},
     "output_type": "execute_result"
    }
   ],
   "source": [
    "# locate the type of mutation patients with an TP53 mutation have\n",
    "new_TP53.loc[:,'mutationType']"
   ]
  },
  {
   "cell_type": "code",
   "execution_count": 15,
   "id": "df0b9edf-3bf0-4a13-8e18-a83cfa2aaec6",
   "metadata": {},
   "outputs": [
    {
     "data": {
      "text/plain": [
       "62"
      ]
     },
     "execution_count": 15,
     "metadata": {},
     "output_type": "execute_result"
    }
   ],
   "source": [
    "# count the number of patients who have a missense mutation\n",
    "new_TP53['mutationType'].value_counts()['Missense_Mutation']"
   ]
  },
  {
   "cell_type": "code",
   "execution_count": 16,
   "id": "e3eb3f87-c0ee-48e4-8cad-0e1ba45e2b72",
   "metadata": {},
   "outputs": [
    {
     "data": {
      "text/plain": [
       "33"
      ]
     },
     "execution_count": 16,
     "metadata": {},
     "output_type": "execute_result"
    }
   ],
   "source": [
    "# Grab our information from our cbioportal api and turn this information into a list \n",
    "TP53_req = requests.get(\"https://www.cbioportal.org/api/molecular-profiles/blca_tcga_gistic/molecular-data?entrezGeneId=7157&projection=SUMMARY&sampleListId=blca_tcga_all\")\n",
    "TP53_load = json.loads(TP53_req.text, object_hook=lambda d: SimpleNamespace(**d))\n",
    "TP53_patientID = new_TP53['sampleId'].tolist()\n",
    "\n",
    "# Only grab patient information from the api that contain the sampleId's that are available/matches the ones in our TP53 dataframe\n",
    "filtered_TP53 = [thing for thing in TP53_load if thing.sampleId in TP53_patientID]\n",
    "# Only grab patients that have a value of -2, -1, 1 and 2 as these represent copy number alteration\n",
    "filtered_CNA = [thing for thing in filtered_TP53 if thing.value == -2 | -1 | 1 | 2]\n",
    "# Count the number of people who have a copy number alteration\n",
    "len(filtered_CNA)"
   ]
  },
  {
   "cell_type": "markdown",
   "id": "d38c0ea2-494c-40ea-9456-85c34bb06a69",
   "metadata": {},
   "source": [
    "<font color = blue> **76 patients have a TP53 mutation in this study, and 62 out of the 76 patients have a missense mutation (point_mutation).** </font>\n",
    "\n",
    "<font color = red> **33 patients out of the 76 have a copy number alterations, more specifically a <u>hemizygous deletion</u>** </font>"
   ]
  },
  {
   "cell_type": "markdown",
   "id": "e64eeb0f-0b5b-4f12-8de3-a54aded283a2",
   "metadata": {},
   "source": [
    "#### HIF1A Gene"
   ]
  },
  {
   "cell_type": "code",
   "execution_count": 17,
   "id": "a18dfdf9-fc9a-4628-a98f-2c03e9d0f26e",
   "metadata": {},
   "outputs": [
    {
     "data": {
      "text/plain": [
       "patientId\n",
       "TCGA-BT-A20J    Missense_Mutation\n",
       "TCGA-FD-A3SN    Nonsense_Mutation\n",
       "Name: mutationType, dtype: object"
      ]
     },
     "execution_count": 17,
     "metadata": {},
     "output_type": "execute_result"
    }
   ],
   "source": [
    "# locate the type of mutation patients with an HIF1A mutation have\n",
    "new_HIF1A.loc[:,'mutationType']"
   ]
  },
  {
   "cell_type": "code",
   "execution_count": 18,
   "id": "ca3f5fee-4611-48ef-b9fc-4597838b9969",
   "metadata": {},
   "outputs": [
    {
     "data": {
      "text/plain": [
       "[namespace(uniqueSampleKey='VENHQS1CVC1BMjBKLTAxOmJsY2FfdGNnYQ',\n",
       "           uniquePatientKey='VENHQS1CVC1BMjBKOmJsY2FfdGNnYQ',\n",
       "           entrezGeneId=55662,\n",
       "           molecularProfileId='blca_tcga_gistic',\n",
       "           sampleId='TCGA-BT-A20J-01',\n",
       "           patientId='TCGA-BT-A20J',\n",
       "           studyId='blca_tcga',\n",
       "           value=0),\n",
       " namespace(uniqueSampleKey='VENHQS1GRC1BM1NOLTAxOmJsY2FfdGNnYQ',\n",
       "           uniquePatientKey='VENHQS1GRC1BM1NOOmJsY2FfdGNnYQ',\n",
       "           entrezGeneId=55662,\n",
       "           molecularProfileId='blca_tcga_gistic',\n",
       "           sampleId='TCGA-FD-A3SN-01',\n",
       "           patientId='TCGA-FD-A3SN',\n",
       "           studyId='blca_tcga',\n",
       "           value=0)]"
      ]
     },
     "execution_count": 18,
     "metadata": {},
     "output_type": "execute_result"
    }
   ],
   "source": [
    "# Grab our information from our cbioportal api and turn this information into a list \n",
    "HIF1A_req = requests.get(\"https://www.cbioportal.org/api/molecular-profiles/blca_tcga_gistic/molecular-data?entrezGeneId=55662&projection=SUMMARY&sampleListId=blca_tcga_all\")\n",
    "HIF1A_load = json.loads(HIF1A_req.text, object_hook=lambda d: SimpleNamespace(**d))\n",
    "HIF1A_patientID = new_HIF1A['sampleId'].tolist()\n",
    "\n",
    "# Only grab patient information from the api that contain the sampleId's that are available/matches the ones in our HIF1A dataframe\n",
    "filtered_HIF1A = [thing for thing in HIF1A_load if thing.sampleId in HIF1A_patientID]\n",
    "\n",
    "filtered_HIF1A"
   ]
  },
  {
   "cell_type": "markdown",
   "id": "e3326a43-f811-42e4-83ff-1f77c12008dc",
   "metadata": {},
   "source": [
    "<font color = blue> **2 patients have a HIF1A mutation in this study, and 1 out of the 2 patients have a missense mutation (point_mutation).** </font>\n",
    "\n",
    "<font color = red> **No patients with this mutation had a copy number alteration</u>** </font>"
   ]
  },
  {
   "cell_type": "markdown",
   "id": "1c7d1daa-fb57-40bf-8fd3-6737cd0de1f9",
   "metadata": {},
   "source": [
    "#### EGLN1 Gene"
   ]
  },
  {
   "cell_type": "markdown",
   "id": "0e556262-6bfd-459e-9314-d94188fd3af9",
   "metadata": {},
   "source": [
    "<font color = red> **No information was available in the API that contained patients with this mutation</u>** </font>"
   ]
  },
  {
   "cell_type": "markdown",
   "id": "125f2bcc-6dbb-4729-8e01-85d3f14af2ca",
   "metadata": {},
   "source": [
    "#### JMJD1C Gene"
   ]
  },
  {
   "cell_type": "code",
   "execution_count": 19,
   "id": "aca1195f-3a8e-4c26-bd45-653617289dd9",
   "metadata": {},
   "outputs": [
    {
     "data": {
      "text/plain": [
       "patientId\n",
       "TCGA-DK-A1AC    Missense_Mutation\n",
       "TCGA-DK-A3IQ    Missense_Mutation\n",
       "TCGA-DK-A3IS    Nonsense_Mutation\n",
       "TCGA-DK-A3X1    Missense_Mutation\n",
       "TCGA-DK-A3WW    Nonsense_Mutation\n",
       "TCGA-FJ-A3ZF    Missense_Mutation\n",
       "Name: mutationType, dtype: object"
      ]
     },
     "execution_count": 19,
     "metadata": {},
     "output_type": "execute_result"
    }
   ],
   "source": [
    "# locate the type of mutation patients with an JMJD1C mutation have\n",
    "new_JMJD1C.loc[:,'mutationType']"
   ]
  },
  {
   "cell_type": "code",
   "execution_count": 20,
   "id": "bb1fed40-9fae-435b-9165-c5649e092e45",
   "metadata": {},
   "outputs": [
    {
     "data": {
      "text/plain": [
       "[namespace(uniqueSampleKey='VENHQS1ESy1BMUFDLTAxOmJsY2FfdGNnYQ',\n",
       "           uniquePatientKey='VENHQS1ESy1BMUFDOmJsY2FfdGNnYQ',\n",
       "           entrezGeneId=221037,\n",
       "           molecularProfileId='blca_tcga_gistic',\n",
       "           sampleId='TCGA-DK-A1AC-01',\n",
       "           patientId='TCGA-DK-A1AC',\n",
       "           studyId='blca_tcga',\n",
       "           value=0),\n",
       " namespace(uniqueSampleKey='VENHQS1ESy1BM0lRLTAxOmJsY2FfdGNnYQ',\n",
       "           uniquePatientKey='VENHQS1ESy1BM0lROmJsY2FfdGNnYQ',\n",
       "           entrezGeneId=221037,\n",
       "           molecularProfileId='blca_tcga_gistic',\n",
       "           sampleId='TCGA-DK-A3IQ-01',\n",
       "           patientId='TCGA-DK-A3IQ',\n",
       "           studyId='blca_tcga',\n",
       "           value=0),\n",
       " namespace(uniqueSampleKey='VENHQS1ESy1BM0lTLTAxOmJsY2FfdGNnYQ',\n",
       "           uniquePatientKey='VENHQS1ESy1BM0lTOmJsY2FfdGNnYQ',\n",
       "           entrezGeneId=221037,\n",
       "           molecularProfileId='blca_tcga_gistic',\n",
       "           sampleId='TCGA-DK-A3IS-01',\n",
       "           patientId='TCGA-DK-A3IS',\n",
       "           studyId='blca_tcga',\n",
       "           value=-1),\n",
       " namespace(uniqueSampleKey='VENHQS1ESy1BM1dXLTAxOmJsY2FfdGNnYQ',\n",
       "           uniquePatientKey='VENHQS1ESy1BM1dXOmJsY2FfdGNnYQ',\n",
       "           entrezGeneId=221037,\n",
       "           molecularProfileId='blca_tcga_gistic',\n",
       "           sampleId='TCGA-DK-A3WW-01',\n",
       "           patientId='TCGA-DK-A3WW',\n",
       "           studyId='blca_tcga',\n",
       "           value=0),\n",
       " namespace(uniqueSampleKey='VENHQS1ESy1BM1gxLTAxOmJsY2FfdGNnYQ',\n",
       "           uniquePatientKey='VENHQS1ESy1BM1gxOmJsY2FfdGNnYQ',\n",
       "           entrezGeneId=221037,\n",
       "           molecularProfileId='blca_tcga_gistic',\n",
       "           sampleId='TCGA-DK-A3X1-01',\n",
       "           patientId='TCGA-DK-A3X1',\n",
       "           studyId='blca_tcga',\n",
       "           value=-1),\n",
       " namespace(uniqueSampleKey='VENHQS1GSi1BM1pGLTAxOmJsY2FfdGNnYQ',\n",
       "           uniquePatientKey='VENHQS1GSi1BM1pGOmJsY2FfdGNnYQ',\n",
       "           entrezGeneId=221037,\n",
       "           molecularProfileId='blca_tcga_gistic',\n",
       "           sampleId='TCGA-FJ-A3ZF-01',\n",
       "           patientId='TCGA-FJ-A3ZF',\n",
       "           studyId='blca_tcga',\n",
       "           value=-1)]"
      ]
     },
     "execution_count": 20,
     "metadata": {},
     "output_type": "execute_result"
    }
   ],
   "source": [
    "# Grab our information from our cbioportal api and turn this information into a list \n",
    "JMJD1C_req = requests.get(\"https://www.cbioportal.org/api/molecular-profiles/blca_tcga_gistic/molecular-data?entrezGeneId=221037&projection=SUMMARY&sampleListId=blca_tcga_all\")\n",
    "JMJD1C_load = json.loads(JMJD1C_req.text, object_hook=lambda d: SimpleNamespace(**d))\n",
    "JMJD1C_patientID = new_JMJD1C['sampleId'].tolist()\n",
    "\n",
    "# Only grab patient information from the api that contain the sampleId's that are available/matches the ones in our JMJD1C dataframe\n",
    "filtered_JMJD1C = [thing for thing in JMJD1C_load if thing.sampleId in JMJD1C_patientID]\n",
    "\n",
    "filtered_JMJD1C"
   ]
  },
  {
   "cell_type": "markdown",
   "id": "886b1d8d-06a1-44f2-a01e-950c66a4a412",
   "metadata": {},
   "source": [
    "<font color = blue> **6 patients have a JMJD1C mutation in this study, and 4 out of the 6 patients have a missense mutation (point_mutation).** </font>\n",
    "\n",
    "<font color = red> **3 patients out of the 6 patients had a copy number alteration, more specifically a <u>hemizygous deletion</u>** </font>"
   ]
  },
  {
   "cell_type": "markdown",
   "id": "6f5a9a65-a6a7-4d4d-919e-872997555ed8",
   "metadata": {},
   "source": [
    "#### KDM4C Gene"
   ]
  },
  {
   "cell_type": "code",
   "execution_count": 21,
   "id": "9b801f26-066a-429d-8bc8-87d149c36f63",
   "metadata": {},
   "outputs": [
    {
     "data": {
      "text/plain": [
       "patientId\n",
       "TCGA-DK-A1AC    Missense_Mutation\n",
       "Name: mutationType, dtype: object"
      ]
     },
     "execution_count": 21,
     "metadata": {},
     "output_type": "execute_result"
    }
   ],
   "source": [
    "# locate the type of mutation patients with an KDM4C mutation have\n",
    "new_KDM4C.loc[:,'mutationType']"
   ]
  },
  {
   "cell_type": "code",
   "execution_count": 22,
   "id": "722600bc-5880-43f4-a666-556274760efd",
   "metadata": {},
   "outputs": [
    {
     "data": {
      "text/plain": [
       "[namespace(uniqueSampleKey='VENHQS1ESy1BMUFDLTAxOmJsY2FfdGNnYQ',\n",
       "           uniquePatientKey='VENHQS1ESy1BMUFDOmJsY2FfdGNnYQ',\n",
       "           entrezGeneId=23081,\n",
       "           molecularProfileId='blca_tcga_gistic',\n",
       "           sampleId='TCGA-DK-A1AC-01',\n",
       "           patientId='TCGA-DK-A1AC',\n",
       "           studyId='blca_tcga',\n",
       "           value=1)]"
      ]
     },
     "execution_count": 22,
     "metadata": {},
     "output_type": "execute_result"
    }
   ],
   "source": [
    "# Grab our information from our cbioportal api and turn this information into a list \n",
    "KDM4C_req = requests.get(\"https://www.cbioportal.org/api/molecular-profiles/blca_tcga_gistic/molecular-data?entrezGeneId=23081&projection=SUMMARY&sampleListId=blca_tcga_all\")\n",
    "KDM4C_load = json.loads(KDM4C_req.text, object_hook=lambda d: SimpleNamespace(**d))\n",
    "KDM4C_patientID = new_KDM4C['sampleId'].tolist()\n",
    "\n",
    "# Only grab patient information from the api that contain the sampleId's that are available/matches the ones in our KDM4C dataframe\n",
    "filtered_KDM4C = [thing for thing in KDM4C_load if thing.sampleId in KDM4C_patientID]\n",
    "\n",
    "filtered_KDM4C"
   ]
  },
  {
   "cell_type": "markdown",
   "id": "cb7e702f-dd82-4a34-a847-9c9fb85ba404",
   "metadata": {},
   "source": [
    "<font color = blue> **1 patient has a KDM4C mutation in this study, this one patient has a missense mutation (point_mutation).** </font>\n",
    "\n",
    "<font color = red> **This one patient had a copy number alteration, more specifically a <u>gain</u>** </font>"
   ]
  },
  {
   "cell_type": "markdown",
   "id": "0ce5f78d-407f-4851-ab53-91fe7aca0dbf",
   "metadata": {
    "tags": []
   },
   "source": [
    "### For the top 3 most mutated genes: how often is each gene mutated and are the mutations activating or inactivating? Is the mutation pattern consistent with oncogene or tumor suppressor activity in cancer?"
   ]
  },
  {
   "cell_type": "markdown",
   "id": "de93066f-5524-4e7e-af8e-3bae7ad4e8af",
   "metadata": {},
   "source": [
    "#### Top 3 most mutated genes:"
   ]
  },
  {
   "cell_type": "code",
   "execution_count": 23,
   "id": "e62db060-dda7-4473-b8e6-03d97dea1d27",
   "metadata": {},
   "outputs": [
    {
     "name": "stdout",
     "output_type": "stream",
     "text": [
      "{1: 76}\n"
     ]
    }
   ],
   "source": [
    "# Locate the rows that have the string TP53 to count how many patients have this mutation, then put this value into a list\n",
    "top_mutation = new_pathway_genes.loc[new_pathway_genes['keyword'].str.contains('TP53',na = False)].value_counts().to_list()\n",
    "# Count how many times TP53 shows up\n",
    "def countOccurrence(a):\n",
    "  k = {}\n",
    "  for j in a:\n",
    "    if j in k:\n",
    "      k[j] +=1\n",
    "    else:\n",
    "      k[j] =1\n",
    "  return k\n",
    "\n",
    "print(countOccurrence(top_mutation))"
   ]
  },
  {
   "cell_type": "markdown",
   "id": "53f12df2-b606-4800-bc87-ddee14db502e",
   "metadata": {
    "jp-MarkdownHeadingCollapsed": true,
    "tags": []
   },
   "source": [
    "<font color = red>**Number 1:**</font> <u>**TP53**</u> with a count of 72 patients\n",
    "\n",
    "**Mutation Rate:** 76 patients/130 total patients = 58.46% \n",
    "\n",
    "**Mutation Type:** Inactivating\n",
    "\n",
    "The mutation pattern is consistent with a tumor suppressor activity in cancer, and based on the copy number alterations, all of the patients had a hemizygous deletion. Meaning now the gene is functioning at half its capability, meaning that this loss of function causes cancerous activity. Due to this mutational pattern, it shows that this is a tumor suppressor gene. "
   ]
  },
  {
   "cell_type": "code",
   "execution_count": 24,
   "id": "0c0d1fe6-bb7a-47f9-b2ea-0e85ebe63660",
   "metadata": {},
   "outputs": [
    {
     "name": "stdout",
     "output_type": "stream",
     "text": [
      "{1: 6}\n"
     ]
    }
   ],
   "source": [
    "# Locate the rows that have the string JMJD1C to count how many patients have this mutation, then put this value into a list\n",
    "top_mutation_JMJD1C = new_pathway_genes.loc[new_pathway_genes['keyword'].str.contains('JMJD1C',na = False)].value_counts().to_list()\n",
    "# Count how many times JMJD1C shows up\n",
    "def countOccurrence(a):\n",
    "  k = {}\n",
    "  for j in a:\n",
    "    if j in k:\n",
    "      k[j] +=1\n",
    "    else:\n",
    "      k[j] =1\n",
    "  return k\n",
    "\n",
    "print(countOccurrence(top_mutation_JMJD1C))"
   ]
  },
  {
   "cell_type": "markdown",
   "id": "39dbd1f4-063b-40b7-8eef-8f80d382ed1b",
   "metadata": {},
   "source": [
    "<font color = #F6BE00>**Number 2:**</font> <u>**JMJD1C**</u> with a count of 6 patients\n",
    "\n",
    "**Mutation Rate:** 6 patients/130 total patients = 4.62% \n",
    "\n",
    "**Mutation Type:** Inactivating\n",
    "\n",
    "This mutation pattern is consistent with a tumor suppressor activity in cancer. Just like the TP53 gene, all the patients who had a copy number alteration had a hemizygous deletion, which means now the gene is working at half its capacity."
   ]
  },
  {
   "cell_type": "code",
   "execution_count": 25,
   "id": "07ce8224-9ca9-45fd-a1fa-ca4c82cb727f",
   "metadata": {},
   "outputs": [
    {
     "name": "stdout",
     "output_type": "stream",
     "text": [
      "{1: 4}\n"
     ]
    }
   ],
   "source": [
    "# Locate the rows that have the string TET2 to count how many patients have this mutation, then put this value into a list\n",
    "top_mutation_TET2 = new_pathway_genes.loc[new_pathway_genes['keyword'].str.contains('TET2',na = False)].value_counts().to_list()\n",
    "# Count how many times TET2 shows up\n",
    "def countOccurrence(a):\n",
    "  k = {}\n",
    "  for j in a:\n",
    "    if j in k:\n",
    "      k[j] +=1\n",
    "    else:\n",
    "      k[j] =1\n",
    "  return k\n",
    "\n",
    "print(countOccurrence(top_mutation_TET2))"
   ]
  },
  {
   "cell_type": "markdown",
   "id": "a24aadaa-7ccd-442a-8b0d-2ee77dbfe2eb",
   "metadata": {},
   "source": [
    "<font color = green>**Number 3:**</font> <u>**TET2**</u> with a count of 4 patients\n",
    "\n",
    "**Mutation Rate:** 4 patients/130 total patients = 3.08% \n",
    "\n",
    "**Mutation Type:** Inactivating\n",
    "\n",
    "This mutation pattern is consistent with a tumor suppressor activity in cancer. Just like the TP53 gene and JMJD1C gene, all the patients who had a copy number alteration had a hemizygous deletion, and is also working at half its capacity, allowing cancerous activity to occur due to this loss of function."
   ]
  },
  {
   "cell_type": "markdown",
   "id": "84b8d0d2-833c-467d-8bf0-66b596b33107",
   "metadata": {
    "tags": []
   },
   "source": [
    "### How often is the pathway mutated overall in this cancer (how many patients have one or more genes mutated)?"
   ]
  },
  {
   "cell_type": "code",
   "execution_count": 26,
   "id": "8098558b-4012-4046-8b35-27d6c16306f3",
   "metadata": {},
   "outputs": [
    {
     "name": "stdout",
     "output_type": "stream",
     "text": [
      "{3: 2, 2: 10, 1: 67}\n"
     ]
    }
   ],
   "source": [
    "# Create a list that counts the number of occurrences of sampleId\n",
    "overall_mutation = new_pathway_genes['sampleId'].value_counts().to_list()\n",
    "# This function takes the list above as an input parameter, and returns a dictionary containing the count of each element in the list. \n",
    "def countOccurrence(a):\n",
    "  k = {}\n",
    "  for j in a:\n",
    "    if j in k:\n",
    "      k[j] +=1\n",
    "    else:\n",
    "      k[j] =1\n",
    "  return k\n",
    "\n",
    "print(countOccurrence(overall_mutation))"
   ]
  },
  {
   "cell_type": "markdown",
   "id": "f446eae6-d8d7-4946-8e62-e29ec7e1bf20",
   "metadata": {},
   "source": [
    "Based on the information found:\n",
    "- 12 patients out of 130 patients have more than one gene mutated in this pathway \n",
    "- 12 patients/130 = 9.23%\n",
    "\n",
    "- 67 patients out of 130 patients have at least one gene mutated in this pathway\n",
    "- 67 patients/130 patients = 51.5%\n",
    "\n",
    "- 77 patients out of 130 have either one or more genes mutated in this pathway\n",
    "- 77 patients / 130 patients = 60.7%"
   ]
  },
  {
   "cell_type": "markdown",
   "id": "cf67f78c-7bd2-4b16-bc95-2feea7ad7b5c",
   "metadata": {
    "tags": []
   },
   "source": [
    "### Gene expression analysis. Pick a gene (possibly the same gene) for each of the gene expression analyses below. For each of the two types of (epi)genomic changes listed below, make a figure to visualize the association of the (epi)genomic alteration and gene expression. Then, interpret your figure: this includes stating how the (epi)genomic alteration effects this gene and what we can conclude about which subjects have oncogenic changes to this gene.\n"
   ]
  },
  {
   "cell_type": "markdown",
   "id": "e7861bbb-5583-4d23-a34c-259cd8d68bad",
   "metadata": {},
   "source": [
    "#### Gene of Interest: JMJD1C"
   ]
  },
  {
   "cell_type": "code",
   "execution_count": 27,
   "id": "2ef924f7-69f2-4f82-bc53-e5ab59cb1e42",
   "metadata": {},
   "outputs": [],
   "source": [
    "# Load the data we need from our cbioportal api and store it into a variable\n",
    "JMJD1C_req1 = requests.get(\"https://www.cbioportal.org/api/molecular-profiles/blca_tcga_rna_seq_v2_mrna/molecular-data?entrezGeneId=221037&projection=SUMMARY&sampleListId=blca_tcga_all\")\n",
    "JMJD1C_load1 = json.loads(JMJD1C_req1.text, object_hook=lambda d: SimpleNamespace(**d))\n",
    "\n",
    "JMJD1C_req2 = requests.get(\"https://www.cbioportal.org/api/molecular-profiles/blca_tcga_methylation_hm450/molecular-data?entrezGeneId=221037&projection=SUMMARY&sampleListId=blca_tcga_all\")\n",
    "JMJD1C_load2 = json.loads(JMJD1C_req2.text, object_hook=lambda d: SimpleNamespace(**d))"
   ]
  },
  {
   "cell_type": "markdown",
   "id": "cae739d3-5185-49a4-980e-93b6d8ffdc9e",
   "metadata": {},
   "source": [
    "**Association of expression and methylation at the locus**"
   ]
  },
  {
   "cell_type": "code",
   "execution_count": 28,
   "id": "da1d55f8-45f4-40a2-83a6-a25fac96c679",
   "metadata": {},
   "outputs": [
    {
     "data": {
      "text/html": [
       "<div>\n",
       "<style scoped>\n",
       "    .dataframe tbody tr th:only-of-type {\n",
       "        vertical-align: middle;\n",
       "    }\n",
       "\n",
       "    .dataframe tbody tr th {\n",
       "        vertical-align: top;\n",
       "    }\n",
       "\n",
       "    .dataframe thead th {\n",
       "        text-align: right;\n",
       "    }\n",
       "</style>\n",
       "<table border=\"1\" class=\"dataframe\">\n",
       "  <thead>\n",
       "    <tr style=\"text-align: right;\">\n",
       "      <th></th>\n",
       "      <th>PatientId</th>\n",
       "      <th>Methylation</th>\n",
       "      <th>Expression</th>\n",
       "    </tr>\n",
       "  </thead>\n",
       "  <tbody>\n",
       "    <tr>\n",
       "      <th>0</th>\n",
       "      <td>TCGA-DK-A1AC</td>\n",
       "      <td>0.147456</td>\n",
       "      <td>1825.7718</td>\n",
       "    </tr>\n",
       "    <tr>\n",
       "      <th>1</th>\n",
       "      <td>TCGA-DK-A3IQ</td>\n",
       "      <td>0.065220</td>\n",
       "      <td>1318.8923</td>\n",
       "    </tr>\n",
       "    <tr>\n",
       "      <th>2</th>\n",
       "      <td>TCGA-DK-A3IS</td>\n",
       "      <td>0.083094</td>\n",
       "      <td>453.2552</td>\n",
       "    </tr>\n",
       "    <tr>\n",
       "      <th>3</th>\n",
       "      <td>TCGA-DK-A3WW</td>\n",
       "      <td>0.093669</td>\n",
       "      <td>937.4810</td>\n",
       "    </tr>\n",
       "    <tr>\n",
       "      <th>4</th>\n",
       "      <td>TCGA-DK-A3X1</td>\n",
       "      <td>0.108828</td>\n",
       "      <td>524.5012</td>\n",
       "    </tr>\n",
       "    <tr>\n",
       "      <th>5</th>\n",
       "      <td>TCGA-FJ-A3ZF</td>\n",
       "      <td>0.099389</td>\n",
       "      <td>824.0514</td>\n",
       "    </tr>\n",
       "  </tbody>\n",
       "</table>\n",
       "</div>"
      ],
      "text/plain": [
       "      PatientId  Methylation  Expression\n",
       "0  TCGA-DK-A1AC     0.147456   1825.7718\n",
       "1  TCGA-DK-A3IQ     0.065220   1318.8923\n",
       "2  TCGA-DK-A3IS     0.083094    453.2552\n",
       "3  TCGA-DK-A3WW     0.093669    937.4810\n",
       "4  TCGA-DK-A3X1     0.108828    524.5012\n",
       "5  TCGA-FJ-A3ZF     0.099389    824.0514"
      ]
     },
     "execution_count": 28,
     "metadata": {},
     "output_type": "execute_result"
    }
   ],
   "source": [
    "#Data for methylation \n",
    "JMJD1C_patientID_methy = new_JMJD1C['sampleId'].tolist()\n",
    "filtered_JMJD1C_methy = [thing for thing in JMJD1C_load2 if thing.sampleId in JMJD1C_patientID_methy]\n",
    "\n",
    "#Data for gene expression\n",
    "JMJD1C_patientID1 = new_JMJD1C['sampleId'].tolist()\n",
    "filtered_JMJD1C_1 = [thing for thing in JMJD1C_load1 if thing.sampleId in JMJD1C_patientID1]\n",
    "\n",
    "dict_of_objs = {}\n",
    "\n",
    "# iterate over the list and extract attributes as key-value pairs\n",
    "for obj in filtered_JMJD1C_methy:\n",
    "    dict_of_objs[obj.patientId] = obj.value\n",
    "\n",
    "# Turn the dictionary into an item so it can be converted into a dataframe\n",
    "JMJD1C_methylation = dict_of_objs.items()\n",
    "JMJD1C_meth_df = pd.DataFrame(JMJD1C_methylation)\n",
    "\n",
    "dict_expression = {}\n",
    "\n",
    "# iterate over the list and extract attributes as key-value pairs\n",
    "for obj in filtered_JMJD1C_1:\n",
    "    dict_expression[obj.patientId] = obj.value\n",
    "    \n",
    "# Turn the dictionary into an item so it can be converted into a dataframe\n",
    "JMJD1C_expression = dict_expression.items()\n",
    "JMJD1C_expression_df = pd.DataFrame(JMJD1C_expression)\n",
    "# Combine our JMJD1C_methylation dataframe with JMJD1C_expression dataframe\n",
    "JMJD1C_exp_methy_df = pd.concat([JMJD1C_meth_df, JMJD1C_expression_df], axis = 1)\n",
    "\n",
    "# Rename our columns and drop a column that isn't needed for our analysis\n",
    "JMJD1C_exp_methy_df.columns = [\"PatientId\",\"Methylation\", \"Pat\", \"Expression\"]\n",
    "JMJD1C_exp_methy_df = JMJD1C_exp_methy_df.drop(['Pat'], axis = 1)\n",
    "JMJD1C_exp_methy_df"
   ]
  },
  {
   "cell_type": "code",
   "execution_count": 29,
   "id": "97948d22-6fd7-49c7-ac3e-29ad5014bcef",
   "metadata": {},
   "outputs": [
    {
     "data": {
      "text/plain": [
       "<seaborn.axisgrid.FacetGrid at 0x20a60792c70>"
      ]
     },
     "execution_count": 29,
     "metadata": {},
     "output_type": "execute_result"
    },
    {
     "data": {
      "image/png": "[encoded data removed]",
      "text/plain": [
       "<Figure size 475.875x360 with 1 Axes>"
      ]
     },
     "metadata": {
      "needs_background": "light"
     },
     "output_type": "display_data"
    }
   ],
   "source": [
    "import seaborn as sns\n",
    "# Create a scatter plot to show the relationship between methylation and expression\n",
    "sns.relplot(\n",
    "    data=JMJD1C_exp_methy_df,\n",
    "    x=\"Methylation\", y=\"Expression\",\n",
    "    hue = \"PatientId\",\n",
    ")"
   ]
  },
  {
   "cell_type": "markdown",
   "id": "268e0f10-29c8-4e11-803c-0e74b027c9cc",
   "metadata": {},
   "source": [
    "Based on the graph, it appears that there is some sort of relationship between gene expression and methylation, with exception of outliers such as patient TCGA-DK-A1AC (blue dot) and patient TCGA-DK-A3IS (green dot). However, based on the graph, it appears that gene expression decreases as DNA methylation increases, and if DNA methylation decreases, the gene expression increases. It appears that there is a inversely porportional relationship here between gene expression and DNA methylation. This means that patients who experience a lower methylation level would have a higher expression of this gene, and patients who have a higher level of methylation would experience a lower expression of this gene."
   ]
  },
  {
   "cell_type": "markdown",
   "id": "f2f5d372-4f83-4c89-a69c-3c16bc7c9877",
   "metadata": {},
   "source": [
    "**Association of expression and copy number at the locus**"
   ]
  },
  {
   "cell_type": "code",
   "execution_count": 30,
   "id": "7adef9c3-afbc-4355-bbe2-5aa7e1aae49c",
   "metadata": {},
   "outputs": [
    {
     "data": {
      "text/html": [
       "<div>\n",
       "<style scoped>\n",
       "    .dataframe tbody tr th:only-of-type {\n",
       "        vertical-align: middle;\n",
       "    }\n",
       "\n",
       "    .dataframe tbody tr th {\n",
       "        vertical-align: top;\n",
       "    }\n",
       "\n",
       "    .dataframe thead th {\n",
       "        text-align: right;\n",
       "    }\n",
       "</style>\n",
       "<table border=\"1\" class=\"dataframe\">\n",
       "  <thead>\n",
       "    <tr style=\"text-align: right;\">\n",
       "      <th></th>\n",
       "      <th>PatientId</th>\n",
       "      <th>CopyNumber</th>\n",
       "      <th>Expression</th>\n",
       "    </tr>\n",
       "  </thead>\n",
       "  <tbody>\n",
       "    <tr>\n",
       "      <th>0</th>\n",
       "      <td>TCGA-DK-A1AC</td>\n",
       "      <td>0</td>\n",
       "      <td>1825.7718</td>\n",
       "    </tr>\n",
       "    <tr>\n",
       "      <th>1</th>\n",
       "      <td>TCGA-DK-A3IQ</td>\n",
       "      <td>0</td>\n",
       "      <td>1318.8923</td>\n",
       "    </tr>\n",
       "    <tr>\n",
       "      <th>2</th>\n",
       "      <td>TCGA-DK-A3IS</td>\n",
       "      <td>-1</td>\n",
       "      <td>453.2552</td>\n",
       "    </tr>\n",
       "    <tr>\n",
       "      <th>3</th>\n",
       "      <td>TCGA-DK-A3WW</td>\n",
       "      <td>0</td>\n",
       "      <td>937.4810</td>\n",
       "    </tr>\n",
       "    <tr>\n",
       "      <th>4</th>\n",
       "      <td>TCGA-DK-A3X1</td>\n",
       "      <td>-1</td>\n",
       "      <td>524.5012</td>\n",
       "    </tr>\n",
       "    <tr>\n",
       "      <th>5</th>\n",
       "      <td>TCGA-FJ-A3ZF</td>\n",
       "      <td>-1</td>\n",
       "      <td>824.0514</td>\n",
       "    </tr>\n",
       "  </tbody>\n",
       "</table>\n",
       "</div>"
      ],
      "text/plain": [
       "      PatientId  CopyNumber  Expression\n",
       "0  TCGA-DK-A1AC           0   1825.7718\n",
       "1  TCGA-DK-A3IQ           0   1318.8923\n",
       "2  TCGA-DK-A3IS          -1    453.2552\n",
       "3  TCGA-DK-A3WW           0    937.4810\n",
       "4  TCGA-DK-A3X1          -1    524.5012\n",
       "5  TCGA-FJ-A3ZF          -1    824.0514"
      ]
     },
     "execution_count": 30,
     "metadata": {},
     "output_type": "execute_result"
    }
   ],
   "source": [
    "dict_copy_number = {}\n",
    "\n",
    "# iterate over the list and extract attributes as key-value pairs\n",
    "for obj in filtered_JMJD1C:\n",
    "    dict_copy_number[obj.patientId] = obj.value\n",
    "\n",
    "# Turn the dictionary into an item so it can be converted into a dataframe\n",
    "JMJD1C_copy = dict_copy_number.items()\n",
    "JMJD1C_copy_df = pd.DataFrame(JMJD1C_copy)\n",
    "# Combine our JMJD1C copy number dataframe with our JMJD1C expression dataframe\n",
    "JMJD1C_copy_exp_df = pd.concat([JMJD1C_copy_df, JMJD1C_expression_df], axis = 1)\n",
    "\n",
    "# Rename our column and drop a column that isn't needed for our analysis\n",
    "JMJD1C_copy_exp_df.columns = [\"PatientId\",\"CopyNumber\", \"Pat\", \"Expression\"]\n",
    "JMJD1C_copy_exp_df = JMJD1C_copy_exp_df.drop(['Pat'], axis = 1)\n",
    "JMJD1C_copy_exp_df"
   ]
  },
  {
   "cell_type": "code",
   "execution_count": 31,
   "id": "0ee2d54b-ecb8-47e9-87a5-846b707781fd",
   "metadata": {},
   "outputs": [
    {
     "data": {
      "text/plain": [
       "<AxesSubplot:xlabel='CopyNumber', ylabel='Expression'>"
      ]
     },
     "execution_count": 31,
     "metadata": {},
     "output_type": "execute_result"
    },
    {
     "data": {
      "image/png": "[encoded data removed]",
      "text/plain": [
       "<Figure size 432x288 with 1 Axes>"
      ]
     },
     "metadata": {
      "needs_background": "light"
     },
     "output_type": "display_data"
    }
   ],
   "source": [
    "# create a boxplot to show the relationship between copy number and gene expression\n",
    "sns.boxplot(x = 'CopyNumber', y = 'Expression', data = JMJD1C_copy_exp_df)"
   ]
  },
  {
   "cell_type": "markdown",
   "id": "3cb09582-f056-427d-aef1-0f95f746ee31",
   "metadata": {},
   "source": [
    "Based on the graph, we can see that there is a clear relationship between copy number and gene expression. Patients who have experienced a hemizygous deletion had a average gene expression levels of around 500, whereas patients who did not experience a hemizygous deletion had a average gene expression level around 1300. This graph shows that there is a positive correlation between copy number and gene expression. This means that patients who have this deletion would express this gene at a lower level compared to patients who did not experience this deletion."
   ]
  },
  {
   "cell_type": "markdown",
   "id": "645f6214-ef88-4d6e-a3a0-52181a61619e",
   "metadata": {},
   "source": [
    "### Mutual exclusivity and correlation analysis. Analyze your top 3 most mutated genes from above. Make a visualization that allows you to compare mutual exclusivity or correlation for all pairs of any two of these mutations. Calculate/obtain the p-value for mutual exclusivity or co-occurrence using the Fisher's exact test for 3 pairs of genes. Interpret the results to explain what the findings mean."
   ]
  },
  {
   "cell_type": "code",
   "execution_count": 32,
   "id": "e41175c6-283a-4271-9e62-fd1856cada3d",
   "metadata": {},
   "outputs": [
    {
     "data": {
      "text/html": [
       "<div>\n",
       "<style scoped>\n",
       "    .dataframe tbody tr th:only-of-type {\n",
       "        vertical-align: middle;\n",
       "    }\n",
       "\n",
       "    .dataframe tbody tr th {\n",
       "        vertical-align: top;\n",
       "    }\n",
       "\n",
       "    .dataframe thead th {\n",
       "        text-align: right;\n",
       "    }\n",
       "</style>\n",
       "<table border=\"1\" class=\"dataframe\">\n",
       "  <thead>\n",
       "    <tr style=\"text-align: right;\">\n",
       "      <th></th>\n",
       "      <th>patientId</th>\n",
       "      <th>TP53</th>\n",
       "      <th>JMJD1C</th>\n",
       "      <th>TET2</th>\n",
       "    </tr>\n",
       "  </thead>\n",
       "  <tbody>\n",
       "    <tr>\n",
       "      <th>0</th>\n",
       "      <td>TCGA-DK-A1AC</td>\n",
       "      <td>TP53</td>\n",
       "      <td>JMJD1C</td>\n",
       "      <td>0</td>\n",
       "    </tr>\n",
       "    <tr>\n",
       "      <th>1</th>\n",
       "      <td>TCGA-DK-A3IS</td>\n",
       "      <td>TP53</td>\n",
       "      <td>JMJD1C</td>\n",
       "      <td>0</td>\n",
       "    </tr>\n",
       "    <tr>\n",
       "      <th>2</th>\n",
       "      <td>TCGA-DK-A3X1</td>\n",
       "      <td>TP53</td>\n",
       "      <td>JMJD1C</td>\n",
       "      <td>0</td>\n",
       "    </tr>\n",
       "    <tr>\n",
       "      <th>4</th>\n",
       "      <td>TCGA-FJ-A3ZF</td>\n",
       "      <td>TP53</td>\n",
       "      <td>JMJD1C</td>\n",
       "      <td>0</td>\n",
       "    </tr>\n",
       "    <tr>\n",
       "      <th>5</th>\n",
       "      <td>TCGA-GD-A2C5</td>\n",
       "      <td>TP53</td>\n",
       "      <td>0</td>\n",
       "      <td>TET2</td>\n",
       "    </tr>\n",
       "    <tr>\n",
       "      <th>6</th>\n",
       "      <td>TCGA-GV-A3JX</td>\n",
       "      <td>TP53</td>\n",
       "      <td>0</td>\n",
       "      <td>TET2</td>\n",
       "    </tr>\n",
       "    <tr>\n",
       "      <th>7</th>\n",
       "      <td>TCGA-FD-A3SL</td>\n",
       "      <td>TP53</td>\n",
       "      <td>0</td>\n",
       "      <td>TET2</td>\n",
       "    </tr>\n",
       "  </tbody>\n",
       "</table>\n",
       "</div>"
      ],
      "text/plain": [
       "      patientId  TP53  JMJD1C  TET2\n",
       "0  TCGA-DK-A1AC  TP53  JMJD1C     0\n",
       "1  TCGA-DK-A3IS  TP53  JMJD1C     0\n",
       "2  TCGA-DK-A3X1  TP53  JMJD1C     0\n",
       "4  TCGA-FJ-A3ZF  TP53  JMJD1C     0\n",
       "5  TCGA-GD-A2C5  TP53       0  TET2\n",
       "6  TCGA-GV-A3JX  TP53       0  TET2\n",
       "7  TCGA-FD-A3SL  TP53       0  TET2"
      ]
     },
     "execution_count": 32,
     "metadata": {},
     "output_type": "execute_result"
    }
   ],
   "source": [
    "# Create three dataframes for our top 3 mutated genes in this pathway, with only the columns patientId and keyword\n",
    "small_TET2 = TET2[['patientId','keyword']]\n",
    "small_TP53 = TP53[['patientId','keyword']]\n",
    "small_JMJD1C = JMJD1C[['patientId','keyword']]\n",
    "\n",
    "# Merge our JMJD1C and TP53 columns together based on patientId\n",
    "merge_JMJD1C_TP53 = pd.merge(small_TP53, small_JMJD1C, on = 'patientId', how = 'inner')\n",
    "# Merge our JMJD1C and TET2 columns together based on patientId\n",
    "pd.merge(small_JMJD1C, small_TET2, on = 'patientId', how= 'inner') # no results appeared\n",
    "# Merge our TET2 and TP53 columns together based on patientId\n",
    "merge_TET2_TP53 = pd.merge(small_TET2, small_TP53, on = 'patientId', how = 'inner')\n",
    "# Merge the two merged dataframes together based on patientId\n",
    "all_merged = pd.merge(merge_JMJD1C_TP53, merge_TET2_TP53, on = 'patientId', how = 'outer')\n",
    "# Rename all the columns in this new dataframe\n",
    "all_merged.rename(columns = {'keyword_x_x': 'TP53', 'keyword_y_x': 'JMJD1C', 'keyword_x_y': 'TET2', 'keyword_y_y': 'TP531'}, inplace=True)\n",
    "\n",
    "# Merge both TP53 columns together, and fill all the NaN spaces with a 0 and make every column in the dataframe a string\n",
    "all_merged['TP53'] = all_merged['TP53'].fillna('') + all_merged['TP531'].fillna('')\n",
    "all_merged.fillna('0', inplace=True)\n",
    "all_merged = all_merged.astype(str)\n",
    "\n",
    "# Drop the TP531 column that we don't need anymore\n",
    "all_merged.drop('TP531', axis = 1, inplace=True)\n",
    "# Split our string value in each respective gene column into its own column, so that only the gene name is showing in a single column\n",
    "all_merged[['TP53', 'extra', 'type']] = all_merged['TP53'].str.split(' ', expand=True)\n",
    "all_merged[['JMJD1C', 'extra1', 'type1']] = all_merged['JMJD1C'].str.split(' ', expand=True)\n",
    "all_merged[['TET2', 'extra2', 'type2']] = all_merged['TET2'].str.split(' ', expand=True)\n",
    "# Drop all extra columns that were created above that isn't needed\n",
    "all_merged = all_merged.drop(['extra', 'type', 'extra1', 'type1', 'extra2', 'type2'], axis=1)\n",
    "all_merged.drop(index=3, inplace=True)\n",
    "all_merged"
   ]
  },
  {
   "cell_type": "code",
   "execution_count": 33,
   "id": "98ca19c3-163a-4f1d-912b-34a8bcbdd8f1",
   "metadata": {},
   "outputs": [
    {
     "data": {
      "image/png": "[encoded data removed]",
      "text/plain": [
       "<Figure size 720x576 with 2 Axes>"
      ]
     },
     "metadata": {
      "needs_background": "light"
     },
     "output_type": "display_data"
    }
   ],
   "source": [
    "import seaborn as sns\n",
    "import numpy as np\n",
    "import matplotlib.pyplot as plt\n",
    "from scipy.stats import fisher_exact\n",
    "\n",
    "# Create contingency tables for all pairs of genes, this is needed to use the fisher_exact function where we can obtain our p-values\n",
    "contingency_tables = {}\n",
    "\n",
    "genes = [\"TP53\", \"JMJD1C\", \"TET2\"]\n",
    "# This loop, goes through all pairs of these three genes to create a contingency table, which is needed to calculate our p-values\n",
    "for i in range(len(genes)):\n",
    "    for j in range(i+1, len(genes)):\n",
    "        gene1 = genes[i]\n",
    "        gene2 = genes[j]\n",
    "        has_gene1_has_gene2 = len(all_merged[(all_merged[gene1] != \"0\") & (all_merged[gene2] != \"0\")])\n",
    "        has_gene1_no_gene2 = len(all_merged[(all_merged[gene1] != \"0\") & (all_merged[gene2] == \"0\")])\n",
    "        no_gene1_has_gene2 = len(all_merged[(all_merged[gene1] == \"0\") & (all_merged[gene2] != \"0\")])\n",
    "        no_gene1_no_gene2 = len(all_merged[(all_merged[gene1] == \"0\") & (all_merged[gene2] == \"0\")])\n",
    "        contingency_tables[gene1 + \"_\" + gene2] = np.array([[has_gene1_has_gene2, has_gene1_no_gene2], [no_gene1_has_gene2, no_gene1_no_gene2]])\n",
    "\n",
    "# Create heatmap with the p-values that we obtained from above. \n",
    "fig, ax = plt.subplots(figsize=(10,8))\n",
    "p_values = np.zeros((len(genes), len(genes)))\n",
    "for i in range(len(genes)):\n",
    "    for j in range(len(genes)):\n",
    "        if i < j:\n",
    "            gene1 = genes[i]\n",
    "            gene2 = genes[j]\n",
    "            contingency_table = contingency_tables[gene1 + \"_\" + gene2]\n",
    "            _, p_val = fisher_exact(contingency_table)\n",
    "            p_values[i][j] = p_val\n",
    "            p_values[j][i] = p_val\n",
    "\n",
    "# Label heatmap with desired labels\n",
    "sns.heatmap(p_values, annot=True, xticklabels=genes, yticklabels=genes, cmap=\"coolwarm\", fmt=\".2f\", ax=ax)\n",
    "plt.title(\"Mutual Exclusivity p-values\")\n",
    "plt.show()"
   ]
  },
  {
   "cell_type": "markdown",
   "id": "aeda4bf9-67e1-4c43-b151-d611b2e79489",
   "metadata": {},
   "source": [
    "**Note:** Diagonally across the heatmap, there are values of 0.00, these values are not of importance as it is just a comparison of a gene to itself. \n",
    "\n",
    "Based on the findings, we can see that the p-values for these three pairs of genes are:\n",
    "\n",
    "- **TP53 and JMJD1C:** 1.0\n",
    "- **TP53 and TET2:** 1.0\n",
    "- **JMJD1C and TET2:** 0.03\n",
    "\n",
    "The threshold for showing if there is a statistically significant relationship between two genes is 0.05. In this case, since JMJD1C and TET2 have a p-value of less than 0.05, there is statistically significant evidence that these genes are mutually exclusive. Since the other two pairs of genes (TP53/JMJD1C and TP53/TET2) have a p-value greater than 0.05, this means that these two pairs do not show statistically significant evidence that these pairs of genes are mutually exclusive. Meaning that these genes are co-occurring."
   ]
  },
  {
   "cell_type": "markdown",
   "id": "72cbd30e-1090-4393-b180-9e61d7109f8a",
   "metadata": {
    "tags": []
   },
   "source": [
    "### Make one other plot to learn about the effect of this pathway on this  this cancer, using any of the data you have about the cancer cohort: Form a hypothesis of something you expect to see in this cancer data. Describe what kind of plot you choose and how it will help assess your hypothesis. What do you expect to see? Provide code to make the plot. The code must work and must be explained so someone else can understand how it works\n"
   ]
  },
  {
   "cell_type": "markdown",
   "id": "caffae3a-226a-4217-beac-ac4b4d23b792",
   "metadata": {},
   "source": [
    "**Hypothesis:** Patients with mutations in the IDH1 pathway will have a lower overall survival compared to patients without IDH1 pathway mutations.\n",
    "\n",
    "Based on my hypothesis, I will be using a lifeline graph and a kaplan-Meier plot to look at the survival rates of patients who suffer from bladder cancer with or without IDH1 mutations. This plot will be helpful because it can be used to look at the rate of survival over time and also be used as a predictor of survival. I expect that patients who have mutations in the IDH1 pathway will have a lower survival rate compared to patients without mutations in the IDH1 pathway."
   ]
  },
  {
   "cell_type": "markdown",
   "id": "e13de5fe-9598-4521-8b8b-7adfb0f82d1a",
   "metadata": {
    "tags": []
   },
   "source": [
    "#### <font color = #FF6700> Create a Dataframe that contains survival information (time alive in months) on patients who have mutations associated with the IDH1 pathway</font>"
   ]
  },
  {
   "cell_type": "code",
   "execution_count": 34,
   "id": "f62a12a6-b1e2-4aeb-9d4e-956fe316efd6",
   "metadata": {},
   "outputs": [],
   "source": [
    "# Get clinical information about the number of months a patient survived after initial diagnosis from cbioportal api\n",
    "blca_clinical = requests.get(\"https://www.cbioportal.org/api/studies/blca_tcga/clinical-data?attributeId=OS_MONTHS&clinicalDataType=PATIENT&direction=ASC&pageNumber=0&pageSize=10000000&projection=SUMMARY\")\n",
    "# Load the file and input it into a readable structure using SimpleNameSpace to map names to objects\n",
    "blca_clinical_load = json.loads(blca_clinical.text, object_hook=lambda d: SimpleNamespace(**d))\n",
    "# Turn the patientId column in the dataframe pathway_genes into a list\n",
    "pathway_patientId = pathway_genes['patientId'].tolist()\n",
    "\n",
    "# Only grab information if the patientId from the pathway_genes dataframe matches\n",
    "filtered_pathway_patientId_IDH1 = [thing for thing in blca_clinical_load if thing.patientId in pathway_patientId]\n",
    "\n",
    "# create a empty dictionary\n",
    "filtered_IDH1_dict = {}\n",
    "# Turn the clinical survival information pulled from the api into a dictonary to only extract the data that we need\n",
    "for obj in filtered_pathway_patientId_IDH1:\n",
    "    filtered_IDH1_dict[obj.patientId] = obj.value\n",
    "# Turn our dictionary into an item in order to convert this information into a dataframe\n",
    "IDH1_list = filtered_IDH1_dict.items()\n",
    "IDH1_df_survival = pd.DataFrame(IDH1_list)\n",
    "# Rename the column names of our new data frame with our clinical survival information for patients who have a mutation in the IDH1 pathway\n",
    "IDH1_df_survival.columns = [\"patientId\", \"IDH1_Death\"]"
   ]
  },
  {
   "cell_type": "markdown",
   "id": "c807da1c-3454-4814-b729-e7781bddc04f",
   "metadata": {
    "tags": []
   },
   "source": [
    "#### <font color = #FF6700>Create a Dataframe that contains survival status on patients who have mutations associated with the IDH1 pathway</font>"
   ]
  },
  {
   "cell_type": "code",
   "execution_count": 35,
   "id": "72a84b78-ddef-4da0-a24d-d9dfec3e2a7d",
   "metadata": {},
   "outputs": [],
   "source": [
    "# Get clinical information about the survival status of a patient after diagnosis from cbioportal api\n",
    "blca_clinical_status = requests.get(\"https://www.cbioportal.org/api/studies/blca_tcga/clinical-data?attributeId=OS_STATUS&clinicalDataType=PATIENT&direction=ASC&pageNumber=0&pageSize=10000000&projection=SUMMARY\")\n",
    "# Load the file and input it into a readable structure using SimpleNameSpace to map names to objects\n",
    "blca_clinical_status_load = json.loads(blca_clinical_status.text, object_hook=lambda d: SimpleNamespace(**d))\n",
    "# Turn the patientId column in the dataframe IDH1_df_survival into a list\n",
    "death_status_IDH1 = IDH1_df_survival['patientId'].tolist()\n",
    "\n",
    "# Only grab information if the patientId from the IDH1_df_survival dataframe matches\n",
    "filtered_clinical_IDH1 = [thing for thing in blca_clinical_status_load if thing.patientId in death_status_IDH1]\n",
    "# create a empty dictionary\n",
    "filtered_clinical_IDH1_dict = {}\n",
    "# Turn the clinical survival information pulled from the api into a dictonary to only extract the data that we need\n",
    "for obj in filtered_clinical_IDH1:\n",
    "    filtered_clinical_IDH1_dict[obj.patientId] = obj.value\n",
    "# Turn our dictionary into an item in order to convert this information into a dataframe    \n",
    "clinical_IDH1_status_list = filtered_clinical_IDH1_dict.items()\n",
    "clinical_IDH1_status_list_survival = pd.DataFrame(clinical_IDH1_status_list)\n",
    "# Rename the column names of our new data frame with our survival status information for patients who have a mutation in the IDH1 pathway\n",
    "clinical_IDH1_status_list_survival.columns = [\"patientId1\", \"IDH1_Death_status\"]"
   ]
  },
  {
   "cell_type": "markdown",
   "id": "5c063113-1c5d-46b5-85f9-855ea3078f0b",
   "metadata": {
    "tags": []
   },
   "source": [
    "#### <font color = #FF6700> Combine our survival status and time of survival (months) dataframes together for patients who have mutations associated with the IDH1 pathway </font>"
   ]
  },
  {
   "cell_type": "code",
   "execution_count": 48,
   "id": "84f91d6e-cc2e-438a-8d80-ba37dd41d376",
   "metadata": {},
   "outputs": [],
   "source": [
    "# Combine our two dataframes together that was made above\n",
    "IDH1_survival_status = pd.concat([IDH1_df_survival,clinical_IDH1_status_list_survival], axis = 1)\n",
    "# Separate the integer/string value in the IDH1_Death_status column. We need the integer value for our graph.\n",
    "for index, row in IDH1_survival_status.iterrows():\n",
    "    parts = row['IDH1_Death_status'].split(':')\n",
    "     # Assign the integer part to a new column 'num'\n",
    "    IDH1_survival_status.at[index, 'num'] = int(parts[0])\n",
    "    # Assign the string part to a new column 'status'\n",
    "    IDH1_survival_status.at[index, 'status'] = parts[1]\n",
    "# Drop un-needed columns from our combined dataframe\n",
    "IDH1_survival_status = IDH1_survival_status.drop(['patientId1', 'IDH1_Death_status'], axis = 1)\n",
    "# create an empty list to store our integer\n",
    "num_lists = []\n",
    "# Generate 79 numbers, and put these numbers into a list\n",
    "for i in range(0, 79):\n",
    "    num_lists.append(i)\n",
    "# Add new column called Time with values from our list\n",
    "IDH1_survival_status['Time'] = num_lists\n",
    "# Turn our time column and IDH1_death column into a int and float respectively to ensure that the numbers are read properly without error\n",
    "IDH1_survival_status = IDH1_survival_status.astype({'Time':'int','IDH1_Death':'float'})"
   ]
  },
  {
   "cell_type": "markdown",
   "id": "11c6febf-ed9f-452f-affd-8f272f41cf3d",
   "metadata": {
    "tags": []
   },
   "source": [
    "#### <Font color = #F67280> Create a Dataframe that contains survival information (time alive in months) on patients who do not have mutations associated with the IDH1 pathway </font>"
   ]
  },
  {
   "cell_type": "code",
   "execution_count": 37,
   "id": "6d4ae2cc-de11-40bb-9c05-335ef9e44f5c",
   "metadata": {
    "tags": []
   },
   "outputs": [],
   "source": [
    "# Create a list that stores all the patientId's of patients who have a mutation in the IDH1 pathway\n",
    "Id_removal = list(IDH1_df_survival[\"patientId\"])\n",
    "# Remove all patientId's that have mutations associated with the IDH1 pathway\n",
    "filtered_patient_info = new_patient_info[~patient_info['patientId'].isin(Id_removal)]\n",
    "# remove all duplicate patientIds\n",
    "filtered_patient_info = filtered_patient_info.drop_duplicates('patientId')\n",
    "# Turn the patientId column in the dataframe pathway_genes into a list\n",
    "non_pathway_patientId = filtered_patient_info['patientId'].tolist()\n",
    "# Only grab information if the patientId from the non_pathway_patientId dataframe matches\n",
    "filtered_pathway_patientId__non_IDH1 = [thing for thing in blca_clinical_load if thing.patientId in non_pathway_patientId]\n",
    "# create a empty dictionary\n",
    "filtered_non_IDH1_dict = {}\n",
    "# Turn the clinical survival information pulled from the api into a dictonary to only extract the data that we need\n",
    "for obj in filtered_pathway_patientId__non_IDH1:\n",
    "    filtered_non_IDH1_dict[obj.patientId] = obj.value\n",
    "# Turn our dictionary into an item in order to convert this information into a dataframe    \n",
    "non_IDH1_list = filtered_non_IDH1_dict.items()\n",
    "non_IDH1_df_survival = pd.DataFrame(non_IDH1_list)\n",
    "# Rename the column names of our new data frame with our survival information for patients who do not have a mutation in the IDH1 pathway\n",
    "non_IDH1_df_survival.columns = [\"patientId\", \"non_IDH1_Death\"]"
   ]
  },
  {
   "cell_type": "markdown",
   "id": "a4b9987e-da90-4d5c-84a2-a4d697f7640f",
   "metadata": {
    "tags": []
   },
   "source": [
    "#### <Font color = #F67280>Create a Dataframe that contains survival status on patients who do not have mutations associated with the IDH1 pathway</font>"
   ]
  },
  {
   "cell_type": "code",
   "execution_count": 38,
   "id": "deb7dbc7-9658-44e9-a36f-f70a4a00d585",
   "metadata": {},
   "outputs": [],
   "source": [
    "# Turn the patientId column in the dataframe non_IDH1_df_survival into a list\n",
    "death_status_non_IDH1 = non_IDH1_df_survival['patientId'].tolist()\n",
    "\n",
    "# Only grab information if the patientId from the death_status_non_IDH1 dataframe matches\n",
    "filtered_clinical_non_IDH1 = [thing for thing in blca_clinical_status_load if thing.patientId in death_status_non_IDH1]\n",
    "# create a empty dictionary\n",
    "filtered_clinical_non_IDH1_dict = {}\n",
    "# Turn the clinical survival status information pulled from the api into a dictonary to only extract the data that we need\n",
    "for obj in filtered_clinical_non_IDH1:\n",
    "    filtered_clinical_non_IDH1_dict[obj.patientId] = obj.value\n",
    "# Turn our dictionary into an item in order to convert this information into a dataframe     \n",
    "clinical_non_IDH1_status_list = filtered_clinical_non_IDH1_dict.items()\n",
    "clinical_non_IDH1_status_list_survival = pd.DataFrame(clinical_non_IDH1_status_list)\n",
    "# Rename the column names of our new data frame with our survival status information for patients who do not have a mutation in the IDH1 pathway\n",
    "clinical_non_IDH1_status_list_survival.columns = [\"patientId1\", \"non_IDH1_Death_status\"]"
   ]
  },
  {
   "cell_type": "markdown",
   "id": "a3cd6722-ae12-4c7b-b733-b5993a715023",
   "metadata": {
    "tags": []
   },
   "source": [
    "#### <Font color = #F67280>Create a combined dataframe that contains survival information (time alive in months) and survival status for patients that do not have a mutation in the IDH1 pathway</font>"
   ]
  },
  {
   "cell_type": "code",
   "execution_count": 39,
   "id": "6e1555db-1fbe-47c5-a156-7dbccf13aba8",
   "metadata": {},
   "outputs": [],
   "source": [
    "# Combine our two dataframes together that was made above for our non-IDH1 pathway mutations\n",
    "non_IDH1_survival_status = pd.concat([non_IDH1_df_survival ,clinical_non_IDH1_status_list_survival], axis = 1)\n",
    "# Separate the integer/string value in the non_IDH1_survival_status column. We need the integer value for our graph.\n",
    "IDH1_survival_status = pd.concat([IDH1_df_survival,clinical_IDH1_status_list_survival], axis = 1)\n",
    "\n",
    "for index, row in non_IDH1_survival_status.iterrows():\n",
    "    parts = row['non_IDH1_Death_status'].split(':')\n",
    "    # Assign the integer part to a new column 'num'\n",
    "    non_IDH1_survival_status.at[index, 'num'] = int(parts[0])\n",
    "    # Assign the string part to a new column 'fruit'\n",
    "    non_IDH1_survival_status.at[index, 'status'] = parts[1]\n",
    "# Drop un-needed columns from our combined dataframe    \n",
    "non_IDH1_survival_status = non_IDH1_survival_status.drop(['patientId1', 'non_IDH1_Death_status'], axis = 1)\n",
    "# create an empty list to store our integer\n",
    "num_lists1 = []\n",
    "# Generate 50 numbers, and put these numbers into a list\n",
    "for i in range(0, 50):\n",
    "    num_lists1.append(i)\n",
    "# Add new column called Time with values from our list\n",
    "non_IDH1_survival_status['Time'] = num_lists1\n",
    "# Turn our time column and non_IDH1_death column into a int and float respectively to ensure that the numbers are read properly without error\n",
    "non_IDH1_survival_status = non_IDH1_survival_status.astype({'Time':'int','non_IDH1_Death':'float'})"
   ]
  },
  {
   "cell_type": "markdown",
   "id": "1426a46d-a3f3-4bfa-a12a-2074136ea3b0",
   "metadata": {
    "tags": []
   },
   "source": [
    "#### <Font color = #6C2DC7> Make our graphs to compare patient survival rate with IDH1 mutations to patients without IDH1 mutations </font>"
   ]
  },
  {
   "cell_type": "code",
   "execution_count": 40,
   "id": "011c6c5c-317f-4005-afb5-2fef673d7673",
   "metadata": {},
   "outputs": [],
   "source": [
    "# Install lifeline package\n",
    "# pip install lifelines"
   ]
  },
  {
   "cell_type": "markdown",
   "id": "35090f17-7da0-4cd9-8dbc-32a4ab3e19b1",
   "metadata": {
    "tags": []
   },
   "source": [
    "#### <Font color = #E42217> Patient survival rate with IDH1 mutations </font>"
   ]
  },
  {
   "cell_type": "code",
   "execution_count": 41,
   "id": "b9d9ded1-df0d-438b-93b0-c359ec157596",
   "metadata": {},
   "outputs": [
    {
     "data": {
      "image/png": "[encoded data removed]",
      "text/plain": [
       "<Figure size 432x288 with 1 Axes>"
      ]
     },
     "metadata": {
      "needs_background": "light"
     },
     "output_type": "display_data"
    }
   ],
   "source": [
    "# Combine our two dataframes together that was made above\n",
    "IDH1_survival_status = pd.concat([IDH1_df_survival,clinical_IDH1_status_list_survival], axis = 1)\n",
    "# Separate the integer/string value in the IDH1_Death_status column. We need the integer value for our graph.\n",
    "for index, row in IDH1_survival_status.iterrows():\n",
    "    parts = row['IDH1_Death_status'].split(':')\n",
    "     # Assign the integer part to a new column 'num'\n",
    "    IDH1_survival_status.at[index, 'num'] = int(parts[0])\n",
    "    # Assign the string part to a new column 'status'\n",
    "    IDH1_survival_status.at[index, 'status'] = parts[1]\n",
    "# Drop un-needed columns from our combined dataframe\n",
    "IDH1_survival_status = IDH1_survival_status.drop(['patientId1', 'IDH1_Death_status'], axis = 1)\n",
    "# create an empty list to store our integer\n",
    "num_lists = []\n",
    "# Generate 79 numbers, and put these numbers into a list\n",
    "for i in range(0, 79):\n",
    "    num_lists.append(i)\n",
    "# Add new column called Time with values from our list\n",
    "IDH1_survival_status['Time'] = num_lists\n",
    "# Turn our time column and IDH1_death column into a int and float respectively to ensure that the numbers are read properly without error\n",
    "IDH1_survival_status = IDH1_survival_status.astype({'Time':'int','IDH1_Death':'float'})\n",
    "\n",
    "# This for loop is used to set up the graph to represent survival status of individuals with IDH1 mutations\n",
    "def plot_lifelines(IDH1_survival_status):\n",
    "# This part of the for loop interates over each row and extracts the start time (time), time till death (IDH1_Death) and survival status (num)\n",
    "    for y, row in IDH1_survival_status.iterrows():\n",
    "        start = row['Time']\n",
    "        end = row['IDH1_Death']\n",
    "        status = row['num']\n",
    "        # if the num column equals to 0, this will draw a horizontal line from the start time to end time\n",
    "        if status == 0.0:\n",
    "            # ongoing\n",
    "            plt.hlines(y, start, end, color='C0')\n",
    "        else:\n",
    "            # if the number does not equal to 0, this will draw a horizontal line with a dot at the end of the line\n",
    "            plt.hlines(y, start, end, color='C1')\n",
    "            plt.plot(end, y, marker='o', color='C1')\n",
    "\n",
    "# This part of the code takes the information from above, and creates a lifeline graph to show the survival rates of patients with IDH1 mutations\n",
    "duration = IDH1_survival_status['IDH1_Death'] - IDH1_survival_status['Time']\n",
    "shifted = IDH1_survival_status.copy()\n",
    "shifted['Time'] = 0\n",
    "shifted['end'] = duration\n",
    "plot_lifelines(shifted)\n",
    "# This part of the code labels the x and y axis of the graphs\n",
    "plt.xlabel('Duration (Months)');\n",
    "plt.ylabel('Patients');"
   ]
  },
  {
   "cell_type": "markdown",
   "id": "d4c7ff12-a333-49ef-9365-1bf6bd381ca1",
   "metadata": {},
   "source": [
    "Here is a lifeline plot which shows how long each patient survived for in the x-axis, and in the y-axis it is each unique patient. The orange dot represents when a patient died, and patients without this dot means that they survived. This graph is for patients who have mutations in the IDH1 pathway."
   ]
  },
  {
   "cell_type": "code",
   "execution_count": 50,
   "id": "63bbabb4-75de-4d1e-bd31-c053a485eae9",
   "metadata": {},
   "outputs": [
    {
     "data": {
      "image/png": "[encoded data removed]",
      "text/plain": [
       "<Figure size 432x288 with 1 Axes>"
      ]
     },
     "metadata": {
      "needs_background": "light"
     },
     "output_type": "display_data"
    }
   ],
   "source": [
    "from lifelines import KaplanMeierFitter\n",
    "\n",
    "# Create a Kaplan-Meier object\n",
    "kmf = KaplanMeierFitter()\n",
    "\n",
    "# Fit the survival data to the Kaplan-Meier object\n",
    "kmf.fit(IDH1_survival_status['IDH1_Death'], event_observed=IDH1_survival_status['num'])\n",
    "\n",
    "# Plot the survival function using the plot() method\n",
    "kmf.plot()\n",
    "\n",
    "# Set the plot labels\n",
    "plt.title('Kaplan-Meier Plot')\n",
    "plt.xlabel('Time')\n",
    "plt.ylabel('Survival Probability')\n",
    "\n",
    "# Show the plot\n",
    "plt.show()"
   ]
  },
  {
   "cell_type": "markdown",
   "id": "84e65789-f143-471a-9290-5d9e77feb30a",
   "metadata": {},
   "source": [
    "Here is a Kaplain-Meier curve which estimates the probability of survival for patients with mutations in the IDH1 pathway. The time of survival (in months) is in the x-axis and the probability of survival is in the y-axis."
   ]
  },
  {
   "cell_type": "markdown",
   "id": "ee0e43a7-ceab-49c9-afb5-89a51254fb66",
   "metadata": {
    "tags": []
   },
   "source": [
    "#### <Font color = #4CC417> Patient survival rate without IDH1 mutations</font>"
   ]
  },
  {
   "cell_type": "code",
   "execution_count": 42,
   "id": "efe3a1be-e6ff-4839-895b-74411dcb9fa5",
   "metadata": {},
   "outputs": [
    {
     "data": {
      "image/png": "[encoded data removed]",
      "text/plain": [
       "<Figure size 432x288 with 1 Axes>"
      ]
     },
     "metadata": {
      "needs_background": "light"
     },
     "output_type": "display_data"
    }
   ],
   "source": [
    "# Combine our two dataframes together that was made above for our non-IDH1 pathway mutations\n",
    "non_IDH1_survival_status = pd.concat([non_IDH1_df_survival ,clinical_non_IDH1_status_list_survival], axis = 1)\n",
    "# Separate the integer/string value in the non_IDH1_survival_status column. We need the integer value for our graph.\n",
    "IDH1_survival_status = pd.concat([IDH1_df_survival,clinical_IDH1_status_list_survival], axis = 1)\n",
    "\n",
    "for index, row in non_IDH1_survival_status.iterrows():\n",
    "    parts = row['non_IDH1_Death_status'].split(':')\n",
    "    # Assign the integer part to a new column 'num'\n",
    "    non_IDH1_survival_status.at[index, 'num'] = int(parts[0])\n",
    "    # Assign the string part to a new column 'fruit'\n",
    "    non_IDH1_survival_status.at[index, 'status'] = parts[1]\n",
    "# Drop un-needed columns from our combined dataframe    \n",
    "non_IDH1_survival_status = non_IDH1_survival_status.drop(['patientId1', 'non_IDH1_Death_status'], axis = 1)\n",
    "# create an empty list to store our integer\n",
    "num_lists1 = []\n",
    "# Generate 50 numbers, and put these numbers into a list\n",
    "for i in range(0, 50):\n",
    "    num_lists1.append(i)\n",
    "# Add new column called Time with values from our list\n",
    "non_IDH1_survival_status['Time'] = num_lists1\n",
    "# Turn our time column and non_IDH1_death column into a int and float respectively to ensure that the numbers are read properly without error\n",
    "non_IDH1_survival_status = non_IDH1_survival_status.astype({'Time':'int','non_IDH1_Death':'float'})\n",
    "\n",
    "# This for loop is used to set up the graph to represent survival status of individuals without IDH1 mutations\n",
    "def plot_lifelines(non_IDH1_survival_status):\n",
    "# This part of the for loop interates over each row and extracts the start time (time), time till death (IDH1_Death) and survival status (num)\n",
    "    for y, row in non_IDH1_survival_status.iterrows():\n",
    "        start = row['Time']\n",
    "        end = row['non_IDH1_Death']\n",
    "        status = row['num']\n",
    "        # if the num column equals to 0, this will draw a horizontal line from the start time to end time\n",
    "        if status == 0.0:\n",
    "            # ongoing\n",
    "            plt.hlines(y, start, end, color='C0')\n",
    "        else:\n",
    "            # if the number does not equal to 0, this will draw a horizontal line with a dot at the end of the line\n",
    "            plt.hlines(y, start, end, color='C1')\n",
    "            plt.plot(end, y, marker='o', color='C1')\n",
    "\n",
    "# This part of the code takes the information from above, and creates a lifeline graph to show the survival rates of patients without IDH1 mutations\n",
    "duration = non_IDH1_survival_status['non_IDH1_Death'] - non_IDH1_survival_status['Time']\n",
    "shifted1 = non_IDH1_survival_status.copy()\n",
    "shifted1['Time'] = 0\n",
    "shifted1['end'] = duration\n",
    "plot_lifelines(shifted1)\n",
    "# This part of the code labels the x and y axis of the graphs\n",
    "plt.xlabel('Duration (Months)');\n",
    "plt.ylabel('Patients');"
   ]
  },
  {
   "cell_type": "markdown",
   "id": "dc0af859-0d13-4f5f-b124-bea5441285d1",
   "metadata": {},
   "source": [
    "Here is a lifeline plot which shows how long each patient survived for in the x-axis, and in the y-axis it is each unique patient. The orange dot represents when a patient died, and patients without this dot means that they survived. This graph is for patients without the IDH1 mutations."
   ]
  },
  {
   "cell_type": "code",
   "execution_count": 49,
   "id": "ea481fca-ec5f-47e0-8253-e7e86d9885c1",
   "metadata": {},
   "outputs": [
    {
     "data": {
      "image/png": "[encoded data removed]",
      "text/plain": [
       "<Figure size 432x288 with 1 Axes>"
      ]
     },
     "metadata": {
      "needs_background": "light"
     },
     "output_type": "display_data"
    }
   ],
   "source": [
    "from lifelines import KaplanMeierFitter\n",
    "\n",
    "# Create a Kaplan-Meier object\n",
    "kmf = KaplanMeierFitter()\n",
    "\n",
    "# Fit the survival data to the Kaplan-Meier object\n",
    "kmf.fit(non_IDH1_survival_status['non_IDH1_Death'], event_observed=non_IDH1_survival_status['num'])\n",
    "\n",
    "# Plot the survival function using the plot() method\n",
    "kmf.plot()\n",
    "\n",
    "# Set the plot labels\n",
    "plt.title('Kaplan-Meier Plot')\n",
    "plt.xlabel('Time')\n",
    "plt.ylabel('Survival Probability')\n",
    "\n",
    "# Show the plot\n",
    "plt.show()"
   ]
  },
  {
   "cell_type": "markdown",
   "id": "c30abddc-188e-4527-8156-46e3ab137a9b",
   "metadata": {},
   "source": [
    "Here is a Kaplain-Meier curve which estimates the probability of survival for patients without mutations in the IDH1 pathway. The time of survival (in months) is in the x-axis and the probability of survival is in the y-axis."
   ]
  },
  {
   "cell_type": "markdown",
   "id": "2cbe0623-ffc2-4f93-8bc9-38b98ae4df64",
   "metadata": {},
   "source": [
    "#### <Font color = ##6458EF > Combined Kaplan-Meier Plot</font>"
   ]
  },
  {
   "cell_type": "code",
   "execution_count": 57,
   "id": "2e7b9607-6607-4fc3-9b13-986983ddcb30",
   "metadata": {},
   "outputs": [
    {
     "data": {
      "image/png": "[encoded data removed]",
      "text/plain": [
       "<Figure size 720x432 with 1 Axes>"
      ]
     },
     "metadata": {
      "needs_background": "light"
     },
     "output_type": "display_data"
    }
   ],
   "source": [
    "# Create Kaplan-Meier objects for IDH1 and non-IDH1 survival data\n",
    "kmf_IDH1 = KaplanMeierFitter()\n",
    "kmf_non_IDH1 = KaplanMeierFitter()\n",
    "\n",
    "# Fit the survival data to the Kaplan-Meier objects\n",
    "kmf_IDH1.fit(IDH1_survival_status['IDH1_Death'], event_observed=IDH1_survival_status['num'])\n",
    "kmf_non_IDH1.fit(non_IDH1_survival_status['non_IDH1_Death'], event_observed=non_IDH1_survival_status['num'])\n",
    "\n",
    "# Plot the Kaplan-Meier curves for IDH1 and non-IDH1 survival data\n",
    "plt.figure(figsize=(10,6))\n",
    "kmf_IDH1.plot(label='IDH1', ci_show=False)\n",
    "kmf_non_IDH1.plot(label='Non-IDH1', ci_show=False)\n",
    "\n",
    "# Add labels and legend to the plot\n",
    "plt.xlabel('Time (days)')\n",
    "plt.ylabel('Survival probability')\n",
    "plt.title('Kaplan-Meier Survival Plot')\n",
    "plt.legend()\n",
    "\n",
    "# Show the plot\n",
    "plt.show()"
   ]
  },
  {
   "cell_type": "markdown",
   "id": "1822598d-43d4-441f-bc0e-abfc7bf2eb4b",
   "metadata": {},
   "source": [
    "Based on the graphs above, it seems that people with the IDH1 mutations have more deaths occuring. There are a lot more orange lines, which signals that the patient has passed away. However, interestingly enough, when we take a look at the Kaplan-Meier plot, it appears that people without the IDH1 mutation have a lower survival probability compared to people with the IDH1 mutation. However, this difference could also be due to more patients having IDH1 mutations compared to patients without, which may skew the data, making it seem like the probability is lower for people without an IDH1 mutation. Based on the information we have, it does seem that people with IDH1 mutations have a higher chance of dying compare to those without if we consider the difference in the number of patients in each group. However further tests and analysis should be performed to see if IDH1 mutations affect survival rate. However based on the information found, IDH1 could be a good prognosis for this disease."
   ]
  },
  {
   "cell_type": "markdown",
   "id": "9cc5c70b-3d60-48fd-9231-f83c779d9d71",
   "metadata": {
    "tags": []
   },
   "source": [
    "### Related Literature"
   ]
  },
  {
   "cell_type": "markdown",
   "id": "c24e279c-476c-4181-a307-98f50ce82377",
   "metadata": {},
   "source": [
    "**Note:** I was unable to find any research articles about bladder cancer and the IDH1 pathway, as well as drugs that are currently used to treat this pathway in bladder cancer, so for this section I will be looking at another cancer Acute Myeloid Leukemia and relating it to the findings of my project\n",
    "\n",
    "For this part of the project, I wanted to look at a literature that looks at a drug that is currently being used to treat cancers that affect this pathway, and I also want to look at the activity of this pathway, then using this information I will write about how this information relate to my findings in this project.\n",
    "\n",
    "<font color = #F08080>**This link talks about the drug called Ivosidenib which is an IDH1 inhibitor used to treat Acute Myeloid Leukemia:**</font>\n",
    "https://www.ncbi.nlm.nih.gov/pmc/articles/PMC7779565/\n",
    "\n",
    "As of current, there is no drugs specifically approved for the treatment of IDH1 mutation in bladder cancer. However, there are clinical trials that are currently ongoing to investigate targeted therapies including drugs that target IDH1 mutations in the treatment of bladder cancer. This current trial for bladder cancer in regards to the treatment for this gene is in phase 1. However, there is a drug that is called Ivosidenib that is used to treat AML also known as Acute Myeloid Leukemia. This drug works by inhibiting IDH1, which can lead to a decrease in the production of 2-hydroxyglutarate (2-HG) which can contribute to the progression and development of cancer. Ivosidenib is only approved for the treatment of Acute Myeloid Leukemia, and it is not approved for the treatment of IDH1 mutations in bladder cancer. We can see in our data that we only have about 3 patients who have a IDH1 mutation, which is about 2.3% of the patients in the study. This mutation is not common in bladder cancer, which is understandable why there hasn't been much study of this drug on bladder cancer. However, research could be done to see if this drug could be repurposed to see if it can also be used to treat IDH1 mutations in bladder cancer.\n",
    "\n",
    "<font color = #F08080>**This link talks about a gene that is related to the IDH1 pathway in a different disease called Acute Myeloid Leukemia(JMJD1C):**</font>\n",
    "https://www.ncbi.nlm.nih.gov/pmc/articles/PMC7772267/\n",
    "\n",
    "Based on this article, during a analysis of human germ cell tumors, they found that JMJD1C was downregulated at the mRNA and protein level. During the analysis of AML (Acute Myeloid Leukemia) patients they found that the downregulation of this cell with low mRNA levels, correlated with unfavorable prognosis. We can see based on this information and the findings above, that around half of the patients who have this mutation, has a hemizygous deletion, signaling that this gene is working at half its capacity. If we also take a look at the figures above comparing the association of expression, with methylation and copy number, we can see that the patients with a hemizygous deletion, has a lower mRNA expression level."
   ]
  },
  {
   "cell_type": "markdown",
   "id": "8c75f520-dee0-4f1c-a999-64e7e0277909",
   "metadata": {},
   "source": [
    "### Feedback Report"
   ]
  },
  {
   "cell_type": "markdown",
   "id": "339cf4b6-fd76-4941-abfd-2c8e388275bb",
   "metadata": {},
   "source": [
    "For the final version of the project, there were a few changes that I made for the final version. \n",
    "\n",
    "**Three pieces of feedback that helped me improve this version was:**\n",
    "1. I was suggested to make new visualizations or add some more visualizations for my project\n",
    "2. I was missing some statistical information about bladder cancer\n",
    "3. More description of my visualizations\n",
    "\n",
    "**I addressed feedback number 1 by:**\n",
    "- Adding two new figures, one is a bar graph that shows the overall number of mutations for each specific gene that was in my pathway and I also made a kaplan-Meier plot that helped me compare the overall probability of survival for people who had mutations in the IDH1 pathway and those without mutations in the IDH1 pathway to address my hypothesis.\n",
    "\n",
    "**I addressed feedback number 2 by:**\n",
    "- Adding more statistical information about bladder cancer such as how many people are affected per 100,000 people and how many people died as a result of this disease.\n",
    "\n",
    "**I addressed feedback number 3 by:**\n",
    "- Adding more informative information at the bottom of each graph/describing the visualization, and writing some side notes to help readers understand the graphs better."
   ]
  }
 ],
 "metadata": {
  "kernelspec": {
   "display_name": "Python 3 (ipykernel)",
   "language": "python",
   "name": "python3"
  },
  "language_info": {
   "codemirror_mode": {
    "name": "ipython",
    "version": 3
   },
   "file_extension": ".py",
   "mimetype": "text/x-python",
   "name": "python",
   "nbconvert_exporter": "python",
   "pygments_lexer": "ipython3",
   "version": "3.9.12"
  }
 },
 "nbformat": 4,
 "nbformat_minor": 5
}
